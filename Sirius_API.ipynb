{
 "cells": [
  {
   "cell_type": "code",
   "execution_count": 110,
   "metadata": {},
   "outputs": [],
   "source": [
    "# import library\n",
    "import pickle, os\n",
    "import pandas as pd\n",
    "import numpy as np\n",
    "import tqdm.notebook as tqdm\n",
    "import copy\n",
    "from scipy.stats.mstats import winsorize\n",
    "from statsmodels.formula.api import ols\n",
    "\n",
    "os.chdir('C:\\\\Users\\\\lyoo9\\\\_Akros')\n",
    "# # Data Download\n",
    "with open('FS_손익계산서보정본', 'rb') as f:\n",
    "    data = pickle.load(f)\n",
    "\n",
    "with open('Final_FS_ind', 'rb') as f:\n",
    "    ind = pickle.load(f)\n",
    "\n",
    "# 특정 자산만 뽑아서 csv로 정리하기\n",
    "def get_item(concept_id):\n",
    "    item = []\n",
    "    item_ind = []\n",
    "    # check id's address\n",
    "    id_address = None\n",
    "    for i in range(len(data)):\n",
    "        for j in range(3):\n",
    "            try:\n",
    "                if concept_id in data[i][j].iloc[:,0].values:\n",
    "                    id_address = j\n",
    "            except AttributeError:\n",
    "                pass\n",
    "        if id_address != None:\n",
    "            break\n",
    "            \n",
    "    for i in range(len(data)):\n",
    "        if type(data[i][id_address]) == type(data[0][id_address]):\n",
    "            item.append(data[i][id_address][data[i][id_address][data[i][id_address].columns[0]] == concept_id].iloc[:1])\n",
    "            if len(data[i][id_address][data[i][id_address][data[i][id_address].columns[0]] == concept_id]) > 0:\n",
    "                item_ind.append(ind[i])\n",
    "    df_item = pd.concat(item)\n",
    "    date = list(filter(lambda x: x[1] == ('연결재무제표',), df_item.columns))\n",
    "    if id_address ==0:\n",
    "        date_clean = list(map(lambda x: x[0], df_item[date].columns))\n",
    "        df_item[date].columns = date_clean\n",
    "        df_item2 = df_item[date]\n",
    "        df_item2.columns = date_clean\n",
    "        date_shifted = list(map(lambda x: shift_q(x), date_clean))\n",
    "        df_item3 = df_item2\n",
    "        df_item3.columns = date_shifted\n",
    "        df_item4 = df_item3.groupby(level=0, axis=1).last()\n",
    "        df_item3 = df_item4\n",
    "        date_shifted2 = list(map(lambda x: shift_d(x), df_item4.columns))\n",
    "        df_item3.columns = date_shifted2\n",
    "        df_item5 = df_item3.groupby(level=0, axis=1).last()\n",
    "        corp_code = list(map(lambda x:x[2], item_ind))\n",
    "        df_item5['corp_code'] = corp_code\n",
    "        df_item5 = df_item5.set_index('corp_code')\n",
    "    else:\n",
    "        date_clean = list(map(lambda x: x[0], df_item[date].columns))\n",
    "        df_item[date].columns = date_clean\n",
    "        df_item2 = df_item[date]\n",
    "        df_item2.columns = date_clean\n",
    "        date_shifted = list(map(lambda x: shift_flow_date(x), date_clean))\n",
    "        df_item2.columns = date_shifted\n",
    "        df_item3 = df_item2.groupby(level=0, axis=1).last()\n",
    "        corp_code = list(map(lambda x:x[2], item_ind))\n",
    "        df_item3['corp_code'] = corp_code\n",
    "        df_item3 = df_item3.set_index('corp_code')\n",
    "        df_item5 = df_item3\n",
    "    return df_item5\n",
    "\n",
    "def shift_q(date):\n",
    "    if date[4:6]=='01' or date[4:6]=='02':\n",
    "        date = date[:4] + '0331'\n",
    "    elif date[4:6]=='04' or date[4:6]=='05':\n",
    "        date = date[:4] + '0630'\n",
    "    elif date[4:6]=='07' or date[4:6]=='08':\n",
    "        date = date[:4] + '0930'\n",
    "    elif date[4:6]=='10' or date[4:6]=='11':\n",
    "        date = date[:4] + '1231'\n",
    "    return date\n",
    "\n",
    "def shift_d(date):\n",
    "    # 케이스 두개 밖에 안되니까 그냥 수동으로 따져주자.\n",
    "    if date[6:]=='01':\n",
    "        date = date[:6] + '31'\n",
    "    elif date[6:]=='29':\n",
    "        date = date[:6] + '30'\n",
    "    return date\n",
    "\n",
    "def shift_flow_date(date):\n",
    "    # 우선은 연간 데이터만 활용하도록 만들어놓아도 될 듯? 나중에 분기별로 뽑을 수 있는 옵션을 추가해야 할 것 같다.\n",
    "    if date[4:6]=='01' and date[-4:-2]=='12':\n",
    "        date = date[-8:-2] + '31'\n",
    "    else:\n",
    "        date = None\n",
    "    return date\n",
    "\n",
    "def get_item_on_date(item, date):\n",
    "    return get_item(item)[date]\n",
    "\n",
    "def get_item_for_period(item, date_from, date_to, term = 'Y'):\n",
    "    # term은 Y, H, Q의 세 가지 옵션으로, 연도별, 반기별, 분기별 데이터를 얻어올 수 있도록 하는 옵션이다.\n",
    "    data = []\n",
    "    item_data = get_item(item)\n",
    "    if term == 'Y':\n",
    "        num = int(date_to[:4]) - int(date_from[:4]) +1\n",
    "        date_working = date_from\n",
    "        for i in range(num):\n",
    "            data.append(item_data[date_working])\n",
    "            date_working = date_working[:2] + str(int(date_working[2:4]) + 1) + date_working[4:]\n",
    "            \n",
    "    elif term == 'H':\n",
    "        num = int((int(date_to[:4]) - int(date_from[:4])) * 2 + (int(date_to[4:6]) - int(date_from[4:6]))/6 + 1)\n",
    "        date_working = date_from\n",
    "        for i in range(num):\n",
    "            try:\n",
    "                data.append(item_data[date_working])\n",
    "            except:\n",
    "                try:\n",
    "                    date_working = date_working[:6] + str(61 - int(date_working[6:]))\n",
    "                    data.append(item_data[date_working])\n",
    "                except KeyError:\n",
    "                    print('해당 날짜의 데이터가 없습니다:', date_working)\n",
    "            if int(date_working[4:6])+6 > 12:\n",
    "                date_working = date_working[:2] + str(int(date_working[2:4]) + 1) +'0'+ str(int(date_working[4:6])-6)+'31'\n",
    "            else:\n",
    "                date_working = date_working[:4] + str(int(date_working[4:6]) + 6).zfill(2) + '31'\n",
    "                \n",
    "    else:\n",
    "        num = int((int(date_to[:4]) - int(date_from[:4])) * 4 + (int(date_to[4:6]) - int(date_from[4:6]))/3 + 1)\n",
    "        date_working = date_from\n",
    "        for i in range(num):\n",
    "            try:\n",
    "                data.append(item_data[date_working])\n",
    "            except:\n",
    "                try:\n",
    "                    date_working = date_working[:6] + str(61 - int(date_working[6:]))\n",
    "                    data.append(item_data[date_working])\n",
    "                except KeyError:\n",
    "                    print('해당 날짜의 데이터가 없습니다:', date_working)\n",
    "            if int(date_working[4:6])+3 > 12:\n",
    "                date_working = date_working[:2] + str(int(date_working[2:4]) + 1) +'0331'\n",
    "            else:\n",
    "                date_working = date_working[:4] + str(int(date_working[4:6]) + 3).zfill(2) + '31'\n",
    "                \n",
    "    data = pd.concat(data, axis = 1)\n",
    "    return data\n",
    "\n",
    "os.chdir('C:\\\\Users\\\\lyoo9\\\\_System Trading\\\\Backend\\\\KRX_price')\n",
    "def get_market_data_on_date(date, print_error = True):\n",
    "    # 에러 메시지를 출력하고 싶지 않으면 print_error를 False로 설정\n",
    "    try:\n",
    "        data = pd.read_csv(date[2:4] + '_' + str(int(date[4:6])) + '_' + str(int(date[6:8])) + '.csv', encoding = 'cp949')\n",
    "        data['종목코드'] = data['종목코드'].map(lambda x:str(x).zfill(6) if x != None else None)\n",
    "        if data.isna()['종가'].sum() == len(data):\n",
    "            raise FileNotFoundError\n",
    "    except FileNotFoundError:\n",
    "        if print_error:\n",
    "            print('해당 날짜의 데이터가 존재하지 않습니다:', date)\n",
    "        data = None\n",
    "    return data\n",
    "\n",
    "def get_market_cap_on_date(date, get_code = False):\n",
    "    if get_code:\n",
    "        data = get_market_data_on_date(date)[['종목코드','시장구분','시가총액']].set_index('종목코드')\n",
    "        data.columns = [['시장구분','Market_Cap']]\n",
    "    else:\n",
    "        data = get_market_data_on_date(date)[['종목코드','시가총액']].set_index('종목코드')\n",
    "        data.columns = [['Market_Cap']]\n",
    "    data.index.rename('corp_code', inplace = True)\n",
    "    return data\n",
    "\n",
    "def last_market_date(date):\n",
    "    # date의 기본형식은 'YYYYMM' : ex)'201212'. -> 'YYYYMMDD'도 가능하도록 코드 변경했음\n",
    "    get_data = False\n",
    "    day = 31\n",
    "    while not get_data:\n",
    "        if type(get_market_data_on_date(date[:6] + str(day), print_error = False)) != type(None):\n",
    "            market_date = date[:6] + str(day)\n",
    "            get_data = True\n",
    "        else:\n",
    "            day -=1\n",
    "    return market_date\n",
    "\n",
    "def find_next_market_date(date, today_opt = False):\n",
    "    get_data = False\n",
    "    if today_opt:\n",
    "        market_date = pd.Timestamp(date)\n",
    "    else:\n",
    "        market_date = pd.Timestamp(date) + pd.Timedelta(days=1)\n",
    "    while not get_data:\n",
    "        if type(get_market_data_on_date(market_date.strftime('%Y%m%d'), print_error = False)) != type(None):\n",
    "            get_data = True\n",
    "        else:\n",
    "            market_date += pd.Timedelta(days=1)\n",
    "    \n",
    "    return market_date.strftime('%Y%m%d')\n",
    "\n",
    "def get_market_cap_for_period(date_from, date_to, term = 'Y', ind_match = True):\n",
    "    # ind_match는 fundamental과 합치기 편하도록 실제 날짜가 아니라 월말 날짜를 표시하도록 하는 옵션\n",
    "    data = []\n",
    "    ind = []\n",
    "    if term == 'Y':\n",
    "        num = int(date_to[:4]) - int(date_from[:4]) +1\n",
    "        date_working = date_from\n",
    "        for i in range(num):\n",
    "            data.append(get_market_cap_on_date(last_market_date(date_working), get_code = True))\n",
    "            if ind_match:\n",
    "                ind.append(date_working)\n",
    "            else:\n",
    "                ind.append(last_market_date(date_working))\n",
    "            date_working = date_working[:2] + str(int(date_working[2:4]) + 1) + date_working[4:]\n",
    "            \n",
    "    elif term == 'H':\n",
    "        num = int((int(date_to[:4]) - int(date_from[:4])) * 2 + (int(date_to[4:6]) - int(date_from[4:6]))/6 + 1)\n",
    "        date_working = date_from\n",
    "        for i in range(num):\n",
    "            data.append(get_market_cap_on_date(last_market_date(date_working), get_code = True))\n",
    "            if ind_match:\n",
    "                ind.append(date_working)\n",
    "            else:\n",
    "                ind.append(last_market_date(date_working))\n",
    "            if int(date_working[4:6])+6 > 12:\n",
    "                date_working = date_working[:2] + str(int(date_working[2:4]) + 1) +'0'+ str(int(date_working[4:6])-6)+'31'\n",
    "            else:\n",
    "                date_working = date_working[:4] + str(int(date_working[4:6]) + 6).zfill(2) + '31'\n",
    "                \n",
    "    else:\n",
    "        num = int((int(date_to[:4]) - int(date_from[:4])) * 4 + (int(date_to[4:6]) - int(date_from[4:6]))/3 + 1)\n",
    "        date_working = date_from\n",
    "        for i in range(num):\n",
    "            data.append(get_market_cap_on_date(last_market_date(date_working), get_code = True))\n",
    "            if ind_match:\n",
    "                ind.append(date_working)\n",
    "            else:\n",
    "                ind.append(last_market_date(date_working))\n",
    "            if int(date_working[4:6])+3 > 12:\n",
    "                date_working = date_working[:2] + str(int(date_working[2:4]) + 1) +'0331'\n",
    "            else:\n",
    "                date_working = date_working[:4] + str(int(date_working[4:6]) + 3).zfill(2) + '31'\n",
    "    cap_data = [x.iloc[:,1] for x in data]\n",
    "    cat_data = [x.iloc[:,0] for x in data]\n",
    "    cap_data = pd.concat(cap_data, axis =1)\n",
    "    cap_data.columns = ind\n",
    "    cat_data = pd.concat(cat_data, axis =1)\n",
    "    cat_data.columns = ind\n",
    "    return cap_data, cat_data\n",
    "\n",
    "def get_market_category(data):\n",
    "    market_cat = []\n",
    "    for i in range(len(data.columns)):\n",
    "        market_cat.append(get_market_cap_on_date(last_market_date(data.columns[i]), get_code = True).iloc[:,0])\n",
    "    market_cat = pd.concat(market_cat, axis=1)\n",
    "    market_cat.columns = data.columns\n",
    "    return market_cat\n",
    "\n",
    "def get_breakpoint(data, breakpoint):\n",
    "    absolute_point = []\n",
    "    rank = data.rank(pct=True)\n",
    "    for i in range(len(breakpoint)):\n",
    "        absolute_point.append((data[rank < breakpoint[i]].max() + data[rank > breakpoint[i]].min())/2)\n",
    "    return absolute_point\n",
    "\n",
    "def get_mask(data, market_cat = None, market_bp = 'All', breakpoint: list = [0.5]):\n",
    "    # data는 mask의 기준이 되는 baseline data\n",
    "    # market_bp는 'ALL', 'KOSPI', 'KOSDAQ'으로, 기준이 되는 breakpoint의 market을 의미\n",
    "    # breakpoint는 masking의 구분점으로, list안에 float이 담긴 형태를 받음\n",
    "    breakpoint = np.sort(breakpoint)\n",
    "    mask_list = []\n",
    "    \n",
    "    data_ind = data.index\n",
    "    if type(market_cat) != type(None):\n",
    "        market_cat = market_cat[market_cat.index.map(lambda x: x in data.index)]\n",
    "        for i in range(len(data)):\n",
    "            if data_ind[i] not in market_cat.index:\n",
    "                market_cat.loc[data_ind[i]] = None\n",
    "        market_cat = market_cat.reindex(index = data.index)\n",
    "    for i in range(len(data.columns)):\n",
    "        mask = data.iloc[:,i] * 0 +1\n",
    "        mask_np = -np.ones(len(mask))\n",
    "        #rank = data.iloc[:,i].rank(pct = True)\n",
    "        if market_bp == 'All':\n",
    "            absolute_point = get_breakpoint(data.iloc[:,i], breakpoint)\n",
    "        if market_bp == 'KOSPI':\n",
    "            absolute_point = get_breakpoint(data[market_cat.iloc[:,i]=='KOSPI'].iloc[:,i], breakpoint)\n",
    "        if market_bp == 'KOSDAQ':\n",
    "            absolute_point = get_breakpoint(data[market_cat.iloc[:,i]=='KOSDAQ'].iloc[:,i], breakpoint)\n",
    "        for j in range(len(breakpoint)+1):\n",
    "            if j < len(breakpoint):\n",
    "                for k in range(len(mask)):\n",
    "                    mask_np[k] = j if data.iloc[k,i] < absolute_point[j] and mask_np[k] == -1 else mask_np[k]\n",
    "            else:\n",
    "                for k in range(len(mask)):\n",
    "                    mask_np[k] = j if data.iloc[k,i] > absolute_point[j-1] and mask_np[k] == -1 else mask_np[k]\n",
    "        mask = mask * mask_np\n",
    "        mask_list.append(mask)\n",
    "    mask_df = pd.concat(mask_list, axis =1)\n",
    "    return mask_df\n",
    "\n",
    "def shift_date_quarter(data, num_of_quarters):\n",
    "    # data의 date를 원하는 만큼 밀어줌.\n",
    "    dates = data.columns\n",
    "    years = [int(x[:4]) for x in dates]\n",
    "    months = [int(x[4:6]) for x in dates]\n",
    "    shifted_months = [x + num_of_quarters * 3 for x in months]\n",
    "    shifted_years = [x + (shifted_months[i]-1) // 12 for i, x in enumerate(years)]\n",
    "    shifted_months = [(x -1) % 12 +1 for x in shifted_months]\n",
    "    dates = [str(shifted_years[i]) + str(shifted_months[i]).zfill(2)+ '30' if shifted_months[i] in [6, 9] else str(shifted_years[i]) + str(shifted_months[i]).zfill(2)+ '31' for i in np.arange(len(years))]\n",
    "    data2 = copy.deepcopy(data)\n",
    "    data2.columns = dates\n",
    "    return data2\n",
    " \n",
    "def get_factor_on_date_by_mask(mask, term = 'd', winsorize_limits = 0.01, weight = 'EW'):\n",
    "    # @@@@@@@@@@@ option 추가해야할듯! : daily / weekly / monthly / quarterly 정도까지는 구현을 해놓아야할듯\n",
    "    # monthly 계산할 때 첫 달은 어떻게 계산하는거지? 전달 말일 기준으로 계산하나? 아니면 해당 달 시초가 기준으로 계산하나?\n",
    "    # -> 우선 첫 달은 시가 기준, 이후로는 전달 말일에 리밸런싱 하는 걸 기준으로 계산했음. \n",
    "    term_conservative = pd.Timestamp(mask.columns[1]) - pd.Timestamp(mask.columns[0]) - pd.Timedelta(days = 7)\n",
    "    if pd.Timestamp(mask.columns[-1]) + term_conservative >  pd.Timestamp('20210630'):\n",
    "        date_to = pd.Timestamp('20210630')\n",
    "    else:\n",
    "        date_to = pd.Timestamp(last_market_date((pd.Timestamp(mask.columns[-1]) + term_conservative).strftime('%Y%m%d')))\n",
    "    date_from = pd.Timestamp(mask.columns[0])\n",
    "    factor_days = (date_to - date_from).days\n",
    "    factor_months = (date_to.year - date_from.year)*12 + (date_to.month - date_from.month)\n",
    "    \n",
    "    date_point = date_from\n",
    "    # this is for storing the last date\n",
    "    date_point_marked = None\n",
    "    \n",
    "    total_factor = []\n",
    "    date_list = []\n",
    "    \n",
    "    if term == 'd':\n",
    "        flag = -1\n",
    "#         for _ in range(factor_days):\n",
    "        for _ in tqdm.tqdm(range(10)):\n",
    "            if pd.Timestamp(find_next_market_date(date_point)) > pd.Timestamp(mask.columns[flag+1]):\n",
    "                flag+=1\n",
    "                c_mask = mask.iloc[:,flag]\n",
    "            date_point_marked = date_point\n",
    "            first = get_market_data_on_date(date_point_marked, print_error = False).loc[:,['종목코드', '종가', '시가총액', '등락률']]\n",
    "            date_point = find_next_market_date(date_point_marked)\n",
    "            second = get_market_data_on_date(date_point, print_error = False).loc[:,['종목코드', '종가', '시가총액', '등락률']]\n",
    "            date_list.append(date_point)\n",
    "            return_list = [[] for x in np.arange(mask.max()[0]+1)]\n",
    "            value_list = [[] for x in np.arange(mask.max()[0]+1)]\n",
    "            for i in range(len(first)):\n",
    "                if first.iloc[i,0] in c_mask.index and c_mask.notna().loc[first.iloc[i,0]]:\n",
    "                    if second.notna()[second['종목코드'] == first.iloc[i,0]].iloc[0,0]:\n",
    "                        return_list[int(c_mask.loc[first.iloc[i,0]])].append(second[second['종목코드'] == first.iloc[i,0]].iloc[0,3])\n",
    "                    else:\n",
    "                        return_list[int(c_mask.loc[first.iloc[i,0]])].append(-0.99)\n",
    "                    value_list[int(c_mask.loc[first.iloc[i,0]])].append(first.iloc[i,2])\n",
    "                    \n",
    "            if weight == 'VW':\n",
    "                for i in range(len(return_list)):\n",
    "                    # len을 곱해준 건 나중에 mean에서 EW와 같은 형태로 들어가게 하도록 하기 위함.\n",
    "                    return_list[i] *= value_list[i]/ np.sum(value_list[i]) * len(value_list[i])\n",
    "                    \n",
    "            # winsorize\n",
    "            if winsorize_limits > 0:\n",
    "                for i in range(len(return_list)):\n",
    "                    return_list[i] = winsorize(return_list[i], limits = winsorize_limits)\n",
    "                \n",
    "            factor = [np.mean(x) for x in return_list]\n",
    "            total_factor.append(factor)\n",
    "        return pd.DataFrame(total_factor, index = date_list)\n",
    "    elif term == 'm':\n",
    "        flag = -1\n",
    "        for _ in tqdm.tqdm(range(factor_months)):\n",
    "            if flag +1 == mask.shape[1]:\n",
    "                c_mask = mask.iloc[:,flag]\n",
    "                # 기준이 바뀌었을 경우에는 기간 시초가를 기준으로 계산\n",
    "                date_point = find_next_market_date(date_point)\n",
    "                date_point_marked = date_point\n",
    "                first = get_market_data_on_date(date_point_marked, print_error = False).loc[:,['종목코드', '시가', '시가총액', '등락률']]\n",
    "                first.set_index('종목코드', inplace = True)\n",
    "                c_mask = c_mask.loc[list(filter(lambda x: x in first.index, c_mask[c_mask.notna()].index))]\n",
    "            elif pd.Timestamp(find_next_market_date(date_point)) > pd.Timestamp(mask.columns[flag+1]):\n",
    "                flag+=1\n",
    "                c_mask = mask.iloc[:,flag]\n",
    "                # 기준이 바뀌었을 경우에는 기간 시초가를 기준으로 계산\n",
    "                date_point = find_next_market_date(date_point)\n",
    "                date_point_marked = date_point\n",
    "                first = get_market_data_on_date(date_point_marked, print_error = False).loc[:,['종목코드', '시가', '시가총액', '등락률']]\n",
    "                first.set_index('종목코드', inplace = True)\n",
    "                c_mask = c_mask.loc[list(filter(lambda x: x in first.index, c_mask[c_mask.notna()].index))]\n",
    "            else:\n",
    "                date_point_marked = date_point\n",
    "                first = get_market_data_on_date(date_point_marked, print_error = False).loc[:,['종목코드', '종가', '시가총액', '등락률']]\n",
    "                first.set_index('종목코드', inplace = True)\n",
    "            \n",
    "            # 통일된 수식으로 flag가 바뀐 경우의 말일을 계산할 수 있음\n",
    "            date_point = last_market_date(find_next_market_date(date_point_marked))\n",
    "            second = get_market_data_on_date(date_point, print_error = False).loc[:,['종목코드', '종가', '시가총액', '등락률']]\n",
    "            second.set_index('종목코드', inplace=True)\n",
    "            date_list.append(date_point[:6])\n",
    "            second_added = pd.DataFrame(index = list(set(c_mask.index) - set(second.index)), columns = ['종가', '시가총액', '등락률']).fillna(-99)\n",
    "            second_added.iloc[:,1] = first.loc[list(set(c_mask.index) - set(second.index))].iloc[:,2]\n",
    "            second = pd.concat([second, second_added])\n",
    "            return_list = []\n",
    "            value_list = []\n",
    "            for i in range(int(mask.max()[0]+1)):\n",
    "                return_list.append(second.loc[c_mask[c_mask == i].index].iloc[:,2].values)\n",
    "                value_list.append(first.loc[c_mask[c_mask == i].index].iloc[:,1].values)\n",
    "            c_mask.drop(list(set(c_mask.index) - set(second.index)), inplace=True)\n",
    "            if weight == 'VW':\n",
    "                for i in range(len(return_list)):\n",
    "                    # len을 곱해준 건 나중에 mean에서 EW와 같은 형태로 들어가게 하도록 하기 위함.\n",
    "                    return_list[i] *= value_list[i]/ np.sum(value_list[i]) * len(value_list[i])\n",
    "            # winsorize\n",
    "            if winsorize_limits > 0:\n",
    "                for i in range(len(return_list)):\n",
    "                    return_list[i] = winsorize(return_list[i], limits = winsorize_limits)\n",
    "            factor = [np.mean(x) for x in return_list]\n",
    "            total_factor.append(factor)\n",
    "        return pd.DataFrame(total_factor, index = date_list)"
   ]
  },
  {
   "cell_type": "code",
   "execution_count": 136,
   "metadata": {},
   "outputs": [
    {
     "data": {
      "application/vnd.jupyter.widget-view+json": {
       "model_id": "4da0862632a44780bdea95f18b145581",
       "version_major": 2,
       "version_minor": 0
      },
      "text/plain": [
       "HBox(children=(HTML(value=''), FloatProgress(value=0.0, max=96.0), HTML(value='')))"
      ]
     },
     "metadata": {},
     "output_type": "display_data"
    },
    {
     "name": "stdout",
     "output_type": "stream",
     "text": [
      "\n"
     ]
    },
    {
     "data": {
      "text/html": [
       "<div>\n",
       "<style scoped>\n",
       "    .dataframe tbody tr th:only-of-type {\n",
       "        vertical-align: middle;\n",
       "    }\n",
       "\n",
       "    .dataframe tbody tr th {\n",
       "        vertical-align: top;\n",
       "    }\n",
       "\n",
       "    .dataframe thead th {\n",
       "        text-align: right;\n",
       "    }\n",
       "</style>\n",
       "<table border=\"1\" class=\"dataframe\">\n",
       "  <thead>\n",
       "    <tr style=\"text-align: right;\">\n",
       "      <th></th>\n",
       "      <th>0</th>\n",
       "      <th>1</th>\n",
       "    </tr>\n",
       "  </thead>\n",
       "  <tbody>\n",
       "    <tr>\n",
       "      <th>201307</th>\n",
       "      <td>0.361063</td>\n",
       "      <td>0.158869</td>\n",
       "    </tr>\n",
       "    <tr>\n",
       "      <th>201308</th>\n",
       "      <td>-0.179827</td>\n",
       "      <td>0.619423</td>\n",
       "    </tr>\n",
       "    <tr>\n",
       "      <th>201309</th>\n",
       "      <td>-0.727365</td>\n",
       "      <td>-0.620385</td>\n",
       "    </tr>\n",
       "    <tr>\n",
       "      <th>201310</th>\n",
       "      <td>-0.571025</td>\n",
       "      <td>-0.860493</td>\n",
       "    </tr>\n",
       "    <tr>\n",
       "      <th>201311</th>\n",
       "      <td>0.129443</td>\n",
       "      <td>0.016084</td>\n",
       "    </tr>\n",
       "    <tr>\n",
       "      <th>...</th>\n",
       "      <td>...</td>\n",
       "      <td>...</td>\n",
       "    </tr>\n",
       "    <tr>\n",
       "      <th>202102</th>\n",
       "      <td>-2.130995</td>\n",
       "      <td>-1.804803</td>\n",
       "    </tr>\n",
       "    <tr>\n",
       "      <th>202103</th>\n",
       "      <td>0.428762</td>\n",
       "      <td>-0.093257</td>\n",
       "    </tr>\n",
       "    <tr>\n",
       "      <th>202104</th>\n",
       "      <td>-0.608465</td>\n",
       "      <td>-0.670366</td>\n",
       "    </tr>\n",
       "    <tr>\n",
       "      <th>202105</th>\n",
       "      <td>0.487541</td>\n",
       "      <td>0.438854</td>\n",
       "    </tr>\n",
       "    <tr>\n",
       "      <th>202106</th>\n",
       "      <td>0.492420</td>\n",
       "      <td>0.117695</td>\n",
       "    </tr>\n",
       "  </tbody>\n",
       "</table>\n",
       "<p>96 rows × 2 columns</p>\n",
       "</div>"
      ],
      "text/plain": [
       "               0         1\n",
       "201307  0.361063  0.158869\n",
       "201308 -0.179827  0.619423\n",
       "201309 -0.727365 -0.620385\n",
       "201310 -0.571025 -0.860493\n",
       "201311  0.129443  0.016084\n",
       "...          ...       ...\n",
       "202102 -2.130995 -1.804803\n",
       "202103  0.428762 -0.093257\n",
       "202104 -0.608465 -0.670366\n",
       "202105  0.487541  0.438854\n",
       "202106  0.492420  0.117695\n",
       "\n",
       "[96 rows x 2 columns]"
      ]
     },
     "execution_count": 136,
     "metadata": {},
     "output_type": "execute_result"
    }
   ],
   "source": [
    "get_factor_on_date_by_mask(SMB_mask, 'm', weight = 'VW')"
   ]
  },
  {
   "cell_type": "code",
   "execution_count": 135,
   "metadata": {},
   "outputs": [],
   "source": [
    "def get_factor_on_date_by_mask(mask, term = 'd', winsorize_limits = 0.01, weight = 'EW'):\n",
    "    # @@@@@@@@@@@ option 추가해야할듯! : daily / weekly / monthly / quarterly 정도까지는 구현을 해놓아야할듯\n",
    "    # monthly 계산할 때 첫 달은 어떻게 계산하는거지? 전달 말일 기준으로 계산하나? 아니면 해당 달 시초가 기준으로 계산하나?\n",
    "    # -> 우선 첫 달은 시가 기준, 이후로는 전달 말일에 리밸런싱 하는 걸 기준으로 계산했음. \n",
    "    term_conservative = pd.Timestamp(mask.columns[1]) - pd.Timestamp(mask.columns[0]) - pd.Timedelta(days = 7)\n",
    "    if pd.Timestamp(mask.columns[-1]) + term_conservative >  pd.Timestamp('20210630'):\n",
    "        date_to = pd.Timestamp('20210630')\n",
    "    else:\n",
    "        date_to = pd.Timestamp(last_market_date((pd.Timestamp(mask.columns[-1]) + term_conservative).strftime('%Y%m%d')))\n",
    "    date_from = pd.Timestamp(mask.columns[0])\n",
    "    factor_days = (date_to - date_from).days\n",
    "    factor_months = (date_to.year - date_from.year)*12 + (date_to.month - date_from.month)\n",
    "    \n",
    "    date_point = date_from\n",
    "    # this is for storing the last date\n",
    "    date_point_marked = None\n",
    "    \n",
    "    total_factor = []\n",
    "    date_list = []\n",
    "    \n",
    "    if term == 'd':\n",
    "        flag = -1\n",
    "#         for _ in range(factor_days):\n",
    "        for _ in tqdm.tqdm(range(10)):\n",
    "            if pd.Timestamp(find_next_market_date(date_point)) > pd.Timestamp(mask.columns[flag+1]):\n",
    "                flag+=1\n",
    "                c_mask = mask.iloc[:,flag]\n",
    "            date_point_marked = date_point\n",
    "            first = get_market_data_on_date(date_point_marked, print_error = False).loc[:,['종목코드', '종가', '시가총액', '등락률']]\n",
    "            date_point = find_next_market_date(date_point_marked)\n",
    "            second = get_market_data_on_date(date_point, print_error = False).loc[:,['종목코드', '종가', '시가총액', '등락률']]\n",
    "            date_list.append(date_point)\n",
    "            return_list = [[] for x in np.arange(mask.max()[0]+1)]\n",
    "            value_list = [[] for x in np.arange(mask.max()[0]+1)]\n",
    "            for i in range(len(first)):\n",
    "                if first.iloc[i,0] in c_mask.index and c_mask.notna().loc[first.iloc[i,0]]:\n",
    "                    if second.notna()[second['종목코드'] == first.iloc[i,0]].iloc[0,0]:\n",
    "                        return_list[int(c_mask.loc[first.iloc[i,0]])].append(second[second['종목코드'] == first.iloc[i,0]].iloc[0,3])\n",
    "                    else:\n",
    "                        return_list[int(c_mask.loc[first.iloc[i,0]])].append(-0.99)\n",
    "                    value_list[int(c_mask.loc[first.iloc[i,0]])].append(first.iloc[i,2])\n",
    "                    \n",
    "            if weight == 'VW':\n",
    "                for i in range(len(return_list)):\n",
    "                    # len을 곱해준 건 나중에 mean에서 EW와 같은 형태로 들어가게 하도록 하기 위함.\n",
    "                    return_list[i] *= value_list[i]/ np.sum(value_list[i]) * len(value_list[i])\n",
    "                    \n",
    "            # winsorize\n",
    "            if winsorize_limits > 0:\n",
    "                for i in range(len(return_list)):\n",
    "                    return_list[i] = winsorize(return_list[i], limits = winsorize_limits)\n",
    "                \n",
    "            factor = [np.mean(x) for x in return_list]\n",
    "            total_factor.append(factor)\n",
    "        return pd.DataFrame(total_factor, index = date_list)\n",
    "    elif term == 'm':\n",
    "        flag = -1\n",
    "        for _ in tqdm.tqdm(range(factor_months)):\n",
    "            if flag +1 == mask.shape[1]:\n",
    "                c_mask = mask.iloc[:,flag]\n",
    "                # 기준이 바뀌었을 경우에는 기간 시초가를 기준으로 계산\n",
    "                date_point = find_next_market_date(date_point)\n",
    "                date_point_marked = date_point\n",
    "                first = get_market_data_on_date(date_point_marked, print_error = False).loc[:,['종목코드', '시가', '시가총액', '등락률']]\n",
    "                first.set_index('종목코드', inplace = True)\n",
    "                c_mask = c_mask.loc[list(filter(lambda x: x in first.index, c_mask[c_mask.notna()].index))]\n",
    "            elif pd.Timestamp(find_next_market_date(date_point)) > pd.Timestamp(mask.columns[flag+1]):\n",
    "                flag+=1\n",
    "                c_mask = mask.iloc[:,flag]\n",
    "                # 기준이 바뀌었을 경우에는 기간 시초가를 기준으로 계산\n",
    "                date_point = find_next_market_date(date_point)\n",
    "                date_point_marked = date_point\n",
    "                first = get_market_data_on_date(date_point_marked, print_error = False).loc[:,['종목코드', '시가', '시가총액', '등락률']]\n",
    "                first.set_index('종목코드', inplace = True)\n",
    "                c_mask = c_mask.loc[list(filter(lambda x: x in first.index, c_mask[c_mask.notna()].index))]\n",
    "            else:\n",
    "                date_point_marked = date_point\n",
    "                first = get_market_data_on_date(date_point_marked, print_error = False).loc[:,['종목코드', '종가', '시가총액', '등락률']]\n",
    "                first.set_index('종목코드', inplace = True)\n",
    "            \n",
    "            # 통일된 수식으로 flag가 바뀐 경우의 말일을 계산할 수 있음\n",
    "            date_point = last_market_date(find_next_market_date(date_point_marked))\n",
    "            second = get_market_data_on_date(date_point, print_error = False).loc[:,['종목코드', '종가', '시가총액', '등락률']]\n",
    "            second.set_index('종목코드', inplace=True)\n",
    "            date_list.append(date_point[:6])\n",
    "            second_added = pd.DataFrame(index = list(set(c_mask.index) - set(second.index)), columns = ['종가', '시가총액', '등락률']).fillna(-99)\n",
    "            second_added.iloc[:,1] = first.loc[list(set(c_mask.index) - set(second.index))].iloc[:,2]\n",
    "            to_delete = list(set(c_mask.index) - set(second.index))\n",
    "            second = pd.concat([second, second_added])\n",
    "            return_list = []\n",
    "            value_list = []\n",
    "            for i in range(int(mask.max()[0]+1)):\n",
    "                return_list.append(second.loc[c_mask[c_mask == i].index].iloc[:,2].values)\n",
    "                value_list.append(first.loc[c_mask[c_mask == i].index].iloc[:,1].values)\n",
    "            c_mask.drop(to_delete, inplace=True)\n",
    "            if weight == 'VW':\n",
    "                for i in range(len(return_list)):\n",
    "                    # len을 곱해준 건 나중에 mean에서 EW와 같은 형태로 들어가게 하도록 하기 위함.\n",
    "                    return_list[i] *= value_list[i]/ np.sum(value_list[i]) * len(value_list[i])\n",
    "            # winsorize\n",
    "            if winsorize_limits > 0:\n",
    "                for i in range(len(return_list)):\n",
    "                    return_list[i] = winsorize(return_list[i], limits = winsorize_limits)\n",
    "            factor = [np.mean(x) for x in return_list]\n",
    "            total_factor.append(factor)\n",
    "        return pd.DataFrame(total_factor, index = date_list)"
   ]
  },
  {
   "cell_type": "markdown",
   "metadata": {},
   "source": [
    "# Pfo Construction"
   ]
  },
  {
   "cell_type": "code",
   "execution_count": 2,
   "metadata": {},
   "outputs": [],
   "source": [
    "def make_portfolio(pfo, factor, market_bp= 'All', breakpoint=[0.5]):\n",
    "    # 여기서 앞에 들어가는 거는 마스크, 뒤에 들어가는 거는 실제값. \n",
    "    max_num = int(pfo.max()[0]+1)\n",
    "    new_df = pd.DataFrame(index = pfo.index, columns = pfo.columns)\n",
    "    for i in range(len(pfo.columns)):\n",
    "        for j in range(max_num):\n",
    "            get_index = list(filter(lambda x: x in factor.index, pfo.iloc[:,i][pfo.iloc[:,i]==j].index))\n",
    "            pfo_mask = get_mask(pd.DataFrame(factor.loc[get_index].iloc[:,i]), get_market_category(pd.DataFrame(factor.loc[get_index].iloc[:,i])), market_bp, breakpoint)\n",
    "            new_df.iloc[:,i].loc[pfo_mask.index] = pfo_mask.values[:,0]\n",
    "    return new_df\n",
    "\n",
    "def serialize_pfo(mask_list: list):\n",
    "    # 사전식 배열. 앞에서부터 사전식으로 serialize하여 뱉음\n",
    "    serial_num = [x.max().max()+1 for x in mask_list]\n",
    "    for i in reversed(range(len(serial_num)-1)):\n",
    "        serial_num[i] *= serial_num[i+1]\n",
    "    serial_num += [1]\n",
    "    serial_num = serial_num[1:]\n",
    "    serial_elem = [x * mask_list[i] for i, x in enumerate(serial_num)]\n",
    "    for i in range(len(serial_elem)-1):\n",
    "        serial_elem[0] += serial_elem[i+1]\n",
    "    return serial_elem[0]"
   ]
  },
  {
   "cell_type": "markdown",
   "metadata": {},
   "source": [
    "# Regression 해볼 수 있도록 만들기"
   ]
  },
  {
   "cell_type": "code",
   "execution_count": 3,
   "metadata": {},
   "outputs": [],
   "source": [
    "def get_market_return(mask, term = 'd'):\n",
    "    term_conservative = pd.Timestamp(mask.columns[1]) - pd.Timestamp(mask.columns[0]) - pd.Timedelta(days = 7)\n",
    "    if pd.Timestamp(mask.columns[-1]) + term_conservative >  pd.Timestamp('20210630'):\n",
    "        date_to = pd.Timestamp('20210630')\n",
    "    else:\n",
    "        date_to = pd.Timestamp(last_market_date((pd.Timestamp(mask.columns[-1]) + term_conservative).strftime('%Y%m%d')))\n",
    "    date_from = pd.Timestamp(mask.columns[0])\n",
    "    factor_days = (date_to - date_from).days\n",
    "    factor_months = (date_to.year - date_from.year)*12 + (date_to.month - date_from.month)\n",
    "    \n",
    "    date_point = date_from\n",
    "    # this is for storing the last date\n",
    "    date_point_marked = None\n",
    "    \n",
    "    total_return = []\n",
    "    date_list = []\n",
    "    \n",
    "    if term == 'd':\n",
    "        flag = -1\n",
    "        date_point = find_next_market_date(date_point)\n",
    "        for _ in tqdm.tqdm(range(factor_days)):\n",
    "            if pd.Timestamp(find_next_market_date(date_point)) > pd.Timestamp(mask.columns[flag+1]):\n",
    "                flag+=1\n",
    "                c_mask = mask.iloc[:,flag]\n",
    "            first = get_market_data_on_date(date_point, print_error = False).loc[:,['종목코드', '종가', '시가총액', '등락률']]\n",
    "            date_list.append(date_point)\n",
    "            date_point = find_next_market_date(date_point)\n",
    "            \n",
    "            market_cap = first['시가총액'].sum()\n",
    "            R = first['등락률'] * (first['시가총액'] / market_cap)\n",
    "            total_return.append(R.fillna(0).sum())\n",
    "            \n",
    "        return pd.DataFrame(total_return, index = date_list)\n",
    "    elif term == 'm':\n",
    "        flag = -1\n",
    "        for _ in tqdm.tqdm(range(factor_months)):\n",
    "            if flag +1 == mask.shape[1]:\n",
    "                c_mask = mask.iloc[:,flag]\n",
    "                date_point = find_next_market_date(date_point)\n",
    "                date_point_marked = date_point\n",
    "                first = get_market_data_on_date(date_point_marked, print_error = False).loc[:,['종목코드', '시가', '시가총액', '등락률']]\n",
    "            elif pd.Timestamp(find_next_market_date(date_point)) > pd.Timestamp(mask.columns[flag+1]):\n",
    "                flag+=1\n",
    "                c_mask = mask.iloc[:,flag]\n",
    "                # 기준이 바뀌었을 경우에는 기간 시초가를 기준으로 계산\n",
    "                date_point = find_next_market_date(date_point)\n",
    "                date_point_marked = date_point\n",
    "                first = get_market_data_on_date(date_point_marked, print_error = False).loc[:,['종목코드', '시가', '시가총액', '등락률']]\n",
    "            else:\n",
    "                date_point_marked = date_point\n",
    "                first = get_market_data_on_date(date_point_marked, print_error = False).loc[:,['종목코드', '종가', '시가총액', '등락률']]\n",
    "            \n",
    "            date_point = last_market_date(find_next_market_date(date_point_marked))\n",
    "            second = get_market_data_on_date(date_point, print_error = False).loc[:,['종목코드', '종가', '시가총액', '등락률']]\n",
    "            first.set_index('종목코드', inplace = True)\n",
    "            second.set_index('종목코드', inplace = True)\n",
    "            date_list.append(date_point[:6])\n",
    "            return_list = [[] for x in np.arange(mask.max()[0]+1)]\n",
    "            value_list = [[] for x in np.arange(mask.max()[0]+1)]\n",
    "            market_cap = first['시가총액'].sum()\n",
    "            try:\n",
    "                R = second['등락률'] * (first['시가총액'] / market_cap)\n",
    "            except KeyError:\n",
    "                R = second['등락률'] * (first['시가총액'] / market_cap)\n",
    "            \n",
    "            total_return.append(R.replace([np.inf, -np.inf], np.nan).fillna(0).sum())\n",
    "        return pd.DataFrame(total_return, index = date_list)"
   ]
  },
  {
   "cell_type": "code",
   "execution_count": 4,
   "metadata": {},
   "outputs": [],
   "source": [
    "# risk free rate\n",
    "os.chdir('C:\\\\Users\\\\lyoo9\\\\_Akros')\n",
    "R_f = pd.read_excel('risk_free_rate.xls')\n",
    "cd_91 = R_f.iloc[[1,6],1:]\n",
    "cd_91 =cd_91.T.set_index(1)\n",
    "cd_91.index = cd_91.index.map(lambda x:x[:-1])\n",
    "cd_91.columns = ['cd_91']\n",
    "os.chdir('C:\\\\Users\\\\lyoo9\\\\_System Trading\\\\Backend\\\\KRX_price')"
   ]
  },
  {
   "cell_type": "code",
   "execution_count": null,
   "metadata": {},
   "outputs": [],
   "source": [
    "# pfo가 주어지면, 이제 해당 column별로 수익률을 회귀해야 함.\n",
    "# 기간은 201307~202106으로 하자."
   ]
  },
  {
   "cell_type": "code",
   "execution_count": 5,
   "metadata": {},
   "outputs": [
    {
     "ename": "NameError",
     "evalue": "name 'pfo' is not defined",
     "output_type": "error",
     "traceback": [
      "\u001b[1;31m---------------------------------------------------------------------------\u001b[0m",
      "\u001b[1;31mNameError\u001b[0m                                 Traceback (most recent call last)",
      "\u001b[1;32m<ipython-input-5-3d0dc371ef3d>\u001b[0m in \u001b[0;36m<module>\u001b[1;34m\u001b[0m\n\u001b[1;32m----> 1\u001b[1;33m \u001b[0mR_p\u001b[0m \u001b[1;33m=\u001b[0m \u001b[0mpfo\u001b[0m\u001b[1;33m.\u001b[0m\u001b[0miloc\u001b[0m\u001b[1;33m[\u001b[0m\u001b[1;36m6\u001b[0m\u001b[1;33m:\u001b[0m\u001b[1;33m,\u001b[0m\u001b[1;36m0\u001b[0m\u001b[1;33m]\u001b[0m \u001b[1;33m-\u001b[0m \u001b[0mcd_91\u001b[0m\u001b[1;33m[\u001b[0m\u001b[1;33m:\u001b[0m\u001b[1;33m-\u001b[0m\u001b[1;36m4\u001b[0m\u001b[1;33m]\u001b[0m\u001b[1;33m\u001b[0m\u001b[1;33m\u001b[0m\u001b[0m\n\u001b[0m\u001b[0;32m      2\u001b[0m \u001b[0mR_m\u001b[0m \u001b[1;33m=\u001b[0m \u001b[0mR_m\u001b[0m\u001b[1;33m.\u001b[0m\u001b[0miloc\u001b[0m\u001b[1;33m[\u001b[0m\u001b[1;36m6\u001b[0m\u001b[1;33m:\u001b[0m\u001b[1;33m,\u001b[0m\u001b[1;36m0\u001b[0m\u001b[1;33m]\u001b[0m \u001b[1;33m-\u001b[0m \u001b[0mcd_91\u001b[0m\u001b[1;33m[\u001b[0m\u001b[1;33m:\u001b[0m\u001b[1;33m-\u001b[0m\u001b[1;36m4\u001b[0m\u001b[1;33m]\u001b[0m\u001b[1;33m\u001b[0m\u001b[1;33m\u001b[0m\u001b[0m\n\u001b[0;32m      3\u001b[0m \u001b[0mequity_factor\u001b[0m \u001b[1;33m=\u001b[0m \u001b[1;33m(\u001b[0m\u001b[0mequity_factor\u001b[0m\u001b[1;33m.\u001b[0m\u001b[0miloc\u001b[0m\u001b[1;33m[\u001b[0m\u001b[1;33m:\u001b[0m\u001b[1;33m,\u001b[0m\u001b[1;36m0\u001b[0m\u001b[1;33m]\u001b[0m \u001b[1;33m-\u001b[0m \u001b[0mequity_factor\u001b[0m\u001b[1;33m.\u001b[0m\u001b[0miloc\u001b[0m\u001b[1;33m[\u001b[0m\u001b[1;33m:\u001b[0m\u001b[1;33m,\u001b[0m\u001b[1;36m1\u001b[0m\u001b[1;33m]\u001b[0m\u001b[1;33m)\u001b[0m\u001b[1;33m.\u001b[0m\u001b[0miloc\u001b[0m\u001b[1;33m[\u001b[0m\u001b[1;36m6\u001b[0m\u001b[1;33m:\u001b[0m\u001b[1;36m0\u001b[0m\u001b[1;33m]\u001b[0m\u001b[1;33m\u001b[0m\u001b[1;33m\u001b[0m\u001b[0m\n\u001b[0;32m      4\u001b[0m \u001b[1;33m\u001b[0m\u001b[0m\n\u001b[0;32m      5\u001b[0m \u001b[0mdf\u001b[0m \u001b[1;33m=\u001b[0m \u001b[0mpd\u001b[0m\u001b[1;33m.\u001b[0m\u001b[0mDataFrame\u001b[0m\u001b[1;33m(\u001b[0m\u001b[1;33m[\u001b[0m\u001b[0mR_p\u001b[0m\u001b[1;33m,\u001b[0m \u001b[0mR_m\u001b[0m\u001b[1;33m,\u001b[0m \u001b[0mequity_factor\u001b[0m\u001b[1;33m]\u001b[0m\u001b[1;33m)\u001b[0m\u001b[1;33m\u001b[0m\u001b[1;33m\u001b[0m\u001b[0m\n",
      "\u001b[1;31mNameError\u001b[0m: name 'pfo' is not defined"
     ]
    }
   ],
   "source": [
    "R_p = pfo.iloc[6:,0] - cd_91[:-4]\n",
    "R_m = R_m.iloc[6:,0] - cd_91[:-4]\n",
    "equity_factor = (equity_factor.iloc[:,0] - equity_factor.iloc[:,1]).iloc[6:0]\n",
    "\n",
    "df = pd.DataFrame([R_p, R_m, equity_factor])"
   ]
  },
  {
   "cell_type": "code",
   "execution_count": 108,
   "metadata": {},
   "outputs": [],
   "source": [
    "equity_factor = equity_factor[6:]"
   ]
  },
  {
   "cell_type": "code",
   "execution_count": 124,
   "metadata": {},
   "outputs": [],
   "source": [
    "rf = cd_91[:-5].T.applymap(lambda x: float(x)) / 12"
   ]
  },
  {
   "cell_type": "code",
   "execution_count": 126,
   "metadata": {
    "scrolled": true
   },
   "outputs": [],
   "source": [
    "R_p = pfo.iloc[6:,0] - rf"
   ]
  },
  {
   "cell_type": "code",
   "execution_count": 128,
   "metadata": {
    "scrolled": true
   },
   "outputs": [
    {
     "data": {
      "application/vnd.jupyter.widget-view+json": {
       "model_id": "dac752595aa24c30b69970951cebffd4",
       "version_major": 2,
       "version_minor": 0
      },
      "text/plain": [
       "HBox(children=(HTML(value=''), FloatProgress(value=0.0, max=102.0), HTML(value='')))"
      ]
     },
     "metadata": {},
     "output_type": "display_data"
    },
    {
     "name": "stdout",
     "output_type": "stream",
     "text": [
      "20130131\n",
      "20130228\n",
      "20130329\n",
      "20130430\n",
      "20130531\n",
      "20130628\n",
      "20130731\n",
      "20130830\n",
      "20130930\n",
      "20131031\n",
      "20131129\n",
      "20140129\n",
      "20140228\n",
      "20140331\n",
      "20140430\n",
      "20140530\n",
      "20140630\n",
      "20140731\n",
      "20140829\n",
      "20140930\n",
      "20141031\n",
      "20141128\n",
      "20150130\n",
      "20150227\n",
      "20150331\n",
      "20150430\n",
      "20150529\n",
      "20150630\n",
      "20150731\n",
      "20150831\n",
      "20150930\n",
      "20151030\n",
      "20151130\n",
      "20160129\n",
      "20160229\n",
      "20160331\n",
      "20160429\n",
      "20160531\n",
      "20160630\n",
      "20160729\n",
      "20160831\n",
      "20160930\n",
      "20161031\n",
      "20161130\n",
      "20170131\n",
      "20170228\n",
      "20170331\n",
      "20170428\n",
      "20170531\n",
      "20170630\n",
      "20170731\n",
      "20170831\n",
      "20170929\n",
      "20171031\n",
      "20171130\n",
      "20180131\n",
      "20180228\n",
      "20180330\n",
      "20180430\n",
      "20180531\n",
      "20180629\n",
      "20180731\n",
      "20180831\n",
      "20180928\n",
      "20181031\n",
      "20181130\n",
      "20190131\n",
      "20190228\n",
      "20190329\n",
      "20190430\n",
      "20190531\n",
      "20190628\n",
      "20190731\n",
      "20190830\n",
      "20190930\n",
      "20191031\n",
      "20191129\n",
      "20200131\n",
      "20200228\n",
      "20200331\n",
      "20200429\n",
      "20200529\n",
      "20200630\n",
      "20200731\n",
      "20200831\n",
      "20200929\n",
      "20201030\n",
      "20201130\n",
      "\n"
     ]
    }
   ],
   "source": [
    "R_m = get_market_return(get_mask(equity), term = 'm')"
   ]
  },
  {
   "cell_type": "code",
   "execution_count": 130,
   "metadata": {},
   "outputs": [],
   "source": [
    "R_m = R_m.iloc[6:,0] - rf"
   ]
  },
  {
   "cell_type": "code",
   "execution_count": 140,
   "metadata": {},
   "outputs": [],
   "source": [
    "df = pd.DataFrame([R_p.values[0], R_m.values[0], equity_factor.values])"
   ]
  },
  {
   "cell_type": "code",
   "execution_count": 142,
   "metadata": {},
   "outputs": [],
   "source": [
    "df = df.T.set_index(equity_factor.index)"
   ]
  },
  {
   "cell_type": "code",
   "execution_count": 145,
   "metadata": {},
   "outputs": [],
   "source": [
    "df.columns = ['pfo', 'market', 'equity']"
   ]
  },
  {
   "cell_type": "code",
   "execution_count": 146,
   "metadata": {},
   "outputs": [
    {
     "data": {
      "text/html": [
       "<div>\n",
       "<style scoped>\n",
       "    .dataframe tbody tr th:only-of-type {\n",
       "        vertical-align: middle;\n",
       "    }\n",
       "\n",
       "    .dataframe tbody tr th {\n",
       "        vertical-align: top;\n",
       "    }\n",
       "\n",
       "    .dataframe thead th {\n",
       "        text-align: right;\n",
       "    }\n",
       "</style>\n",
       "<table border=\"1\" class=\"dataframe\">\n",
       "  <thead>\n",
       "    <tr style=\"text-align: right;\">\n",
       "      <th></th>\n",
       "      <th>pfo</th>\n",
       "      <th>market</th>\n",
       "      <th>equity</th>\n",
       "    </tr>\n",
       "  </thead>\n",
       "  <tbody>\n",
       "    <tr>\n",
       "      <th>201307</th>\n",
       "      <td>0.508809</td>\n",
       "      <td>-0.206166</td>\n",
       "      <td>0.676053</td>\n",
       "    </tr>\n",
       "    <tr>\n",
       "      <th>201308</th>\n",
       "      <td>0.656347</td>\n",
       "      <td>0.640605</td>\n",
       "      <td>-0.079115</td>\n",
       "    </tr>\n",
       "    <tr>\n",
       "      <th>201309</th>\n",
       "      <td>-1.160913</td>\n",
       "      <td>-0.912870</td>\n",
       "      <td>-0.329864</td>\n",
       "    </tr>\n",
       "    <tr>\n",
       "      <th>201310</th>\n",
       "      <td>-1.191863</td>\n",
       "      <td>-1.546809</td>\n",
       "      <td>0.049578</td>\n",
       "    </tr>\n",
       "    <tr>\n",
       "      <th>201311</th>\n",
       "      <td>0.473981</td>\n",
       "      <td>-0.216159</td>\n",
       "      <td>0.162706</td>\n",
       "    </tr>\n",
       "    <tr>\n",
       "      <th>...</th>\n",
       "      <td>...</td>\n",
       "      <td>...</td>\n",
       "      <td>...</td>\n",
       "    </tr>\n",
       "    <tr>\n",
       "      <th>202102</th>\n",
       "      <td>-1.814539</td>\n",
       "      <td>-2.777507</td>\n",
       "      <td>-0.439670</td>\n",
       "    </tr>\n",
       "    <tr>\n",
       "      <th>202103</th>\n",
       "      <td>-0.213161</td>\n",
       "      <td>-0.370505</td>\n",
       "      <td>0.046582</td>\n",
       "    </tr>\n",
       "    <tr>\n",
       "      <th>202104</th>\n",
       "      <td>-0.520153</td>\n",
       "      <td>-0.829644</td>\n",
       "      <td>-0.029250</td>\n",
       "    </tr>\n",
       "    <tr>\n",
       "      <th>202105</th>\n",
       "      <td>0.299991</td>\n",
       "      <td>0.378394</td>\n",
       "      <td>-0.069121</td>\n",
       "    </tr>\n",
       "    <tr>\n",
       "      <th>202106</th>\n",
       "      <td>0.400764</td>\n",
       "      <td>0.261427</td>\n",
       "      <td>0.461738</td>\n",
       "    </tr>\n",
       "  </tbody>\n",
       "</table>\n",
       "<p>96 rows × 3 columns</p>\n",
       "</div>"
      ],
      "text/plain": [
       "             pfo    market    equity\n",
       "201307  0.508809 -0.206166  0.676053\n",
       "201308  0.656347  0.640605 -0.079115\n",
       "201309 -1.160913 -0.912870 -0.329864\n",
       "201310 -1.191863 -1.546809  0.049578\n",
       "201311  0.473981 -0.216159  0.162706\n",
       "...          ...       ...       ...\n",
       "202102 -1.814539 -2.777507 -0.439670\n",
       "202103 -0.213161 -0.370505  0.046582\n",
       "202104 -0.520153 -0.829644 -0.029250\n",
       "202105  0.299991  0.378394 -0.069121\n",
       "202106  0.400764  0.261427  0.461738\n",
       "\n",
       "[96 rows x 3 columns]"
      ]
     },
     "execution_count": 146,
     "metadata": {},
     "output_type": "execute_result"
    }
   ],
   "source": [
    "df"
   ]
  },
  {
   "cell_type": "markdown",
   "metadata": {},
   "source": [
    "# 모듈화하기"
   ]
  },
  {
   "cell_type": "code",
   "execution_count": null,
   "metadata": {},
   "outputs": [],
   "source": [
    "# 우선, mask에 따른 시장수익률과 무위험 수익률을 구해야함. "
   ]
  },
  {
   "cell_type": "code",
   "execution_count": null,
   "metadata": {},
   "outputs": [],
   "source": [
    "# mask가 들어가면 시장수익률을 뱉어내도록 되어있음. \n",
    "# 그러면, mask를 받아서 시장수익률을 뱉어내고, 무위험 수익률은 어떡하지? -> 이것도 하나 만들자."
   ]
  },
  {
   "cell_type": "code",
   "execution_count": 5,
   "metadata": {},
   "outputs": [],
   "source": [
    "def get_risk_free_rate(pfo, risk_free):\n",
    "    return risk_free.loc[pfo.index]\n",
    "\n",
    "def get_ols_model(mask, pfo_column, risk_free, *args):\n",
    "    R_m = get_market_return(mask, term = 'm').squeeze()\n",
    "    R_f = (get_risk_free_rate(pfo_column, risk_free).astype(float)/12).squeeze()\n",
    "    df = pd.DataFrame([(pfo_column - R_f.T).values.squeeze(), (R_m - R_f).values.squeeze()] + [x.values.squeeze() for x in args]).T\n",
    "    df.columns = ['pfo', 'market'] + ['factor' + str(i) for i, x in enumerate(args)]\n",
    "    var_str = ''\n",
    "    for i in range(len(df.columns)-2):\n",
    "        var_str += ' + ' + ['factor' + str(i) for i, x in enumerate(args)][i]\n",
    "    model = ols(formula = 'pfo ~ market' + var_str,data = df).fit()\n",
    "    return model"
   ]
  },
  {
   "cell_type": "code",
   "execution_count": 122,
   "metadata": {},
   "outputs": [
    {
     "data": {
      "application/vnd.jupyter.widget-view+json": {
       "model_id": "147f2def0e3341a287b48bfb49d832f8",
       "version_major": 2,
       "version_minor": 0
      },
      "text/plain": [
       "HBox(children=(HTML(value=''), FloatProgress(value=0.0, max=48.0), HTML(value='')))"
      ]
     },
     "metadata": {},
     "output_type": "display_data"
    },
    {
     "name": "stdout",
     "output_type": "stream",
     "text": [
      "\n"
     ]
    }
   ],
   "source": [
    "model = get_ols_model(get_mask(equity), pfo.iloc[:,0], cd_91, equity_factor.iloc[:,0] - equity_factor.iloc[:,1])"
   ]
  },
  {
   "cell_type": "code",
   "execution_count": 123,
   "metadata": {
    "scrolled": true
   },
   "outputs": [
    {
     "data": {
      "text/html": [
       "<table class=\"simpletable\">\n",
       "<caption>OLS Regression Results</caption>\n",
       "<tr>\n",
       "  <th>Dep. Variable:</th>           <td>pfo</td>       <th>  R-squared:         </th> <td>   0.859</td>\n",
       "</tr>\n",
       "<tr>\n",
       "  <th>Model:</th>                   <td>OLS</td>       <th>  Adj. R-squared:    </th> <td>   0.852</td>\n",
       "</tr>\n",
       "<tr>\n",
       "  <th>Method:</th>             <td>Least Squares</td>  <th>  F-statistic:       </th> <td>   136.5</td>\n",
       "</tr>\n",
       "<tr>\n",
       "  <th>Date:</th>             <td>Wed, 16 Feb 2022</td> <th>  Prob (F-statistic):</th> <td>7.76e-20</td>\n",
       "</tr>\n",
       "<tr>\n",
       "  <th>Time:</th>                 <td>21:01:50</td>     <th>  Log-Likelihood:    </th> <td> -21.530</td>\n",
       "</tr>\n",
       "<tr>\n",
       "  <th>No. Observations:</th>      <td>    48</td>      <th>  AIC:               </th> <td>   49.06</td>\n",
       "</tr>\n",
       "<tr>\n",
       "  <th>Df Residuals:</th>          <td>    45</td>      <th>  BIC:               </th> <td>   54.67</td>\n",
       "</tr>\n",
       "<tr>\n",
       "  <th>Df Model:</th>              <td>     2</td>      <th>                     </th>     <td> </td>   \n",
       "</tr>\n",
       "<tr>\n",
       "  <th>Covariance Type:</th>      <td>nonrobust</td>    <th>                     </th>     <td> </td>   \n",
       "</tr>\n",
       "</table>\n",
       "<table class=\"simpletable\">\n",
       "<tr>\n",
       "      <td></td>         <th>coef</th>     <th>std err</th>      <th>t</th>      <th>P>|t|</th>  <th>[0.025</th>    <th>0.975]</th>  \n",
       "</tr>\n",
       "<tr>\n",
       "  <th>Intercept</th> <td>   -0.0989</td> <td>    0.058</td> <td>   -1.711</td> <td> 0.094</td> <td>   -0.215</td> <td>    0.018</td>\n",
       "</tr>\n",
       "<tr>\n",
       "  <th>market</th>    <td>    0.7289</td> <td>    0.087</td> <td>    8.354</td> <td> 0.000</td> <td>    0.553</td> <td>    0.905</td>\n",
       "</tr>\n",
       "<tr>\n",
       "  <th>factor0</th>   <td>    1.0587</td> <td>    0.082</td> <td>   12.875</td> <td> 0.000</td> <td>    0.893</td> <td>    1.224</td>\n",
       "</tr>\n",
       "</table>\n",
       "<table class=\"simpletable\">\n",
       "<tr>\n",
       "  <th>Omnibus:</th>       <td> 0.759</td> <th>  Durbin-Watson:     </th> <td>   1.806</td>\n",
       "</tr>\n",
       "<tr>\n",
       "  <th>Prob(Omnibus):</th> <td> 0.684</td> <th>  Jarque-Bera (JB):  </th> <td>   0.781</td>\n",
       "</tr>\n",
       "<tr>\n",
       "  <th>Skew:</th>          <td>-0.093</td> <th>  Prob(JB):          </th> <td>   0.677</td>\n",
       "</tr>\n",
       "<tr>\n",
       "  <th>Kurtosis:</th>      <td> 2.403</td> <th>  Cond. No.          </th> <td>    1.66</td>\n",
       "</tr>\n",
       "</table><br/><br/>Notes:<br/>[1] Standard Errors assume that the covariance matrix of the errors is correctly specified."
      ],
      "text/plain": [
       "<class 'statsmodels.iolib.summary.Summary'>\n",
       "\"\"\"\n",
       "                            OLS Regression Results                            \n",
       "==============================================================================\n",
       "Dep. Variable:                    pfo   R-squared:                       0.859\n",
       "Model:                            OLS   Adj. R-squared:                  0.852\n",
       "Method:                 Least Squares   F-statistic:                     136.5\n",
       "Date:                Wed, 16 Feb 2022   Prob (F-statistic):           7.76e-20\n",
       "Time:                        21:01:50   Log-Likelihood:                -21.530\n",
       "No. Observations:                  48   AIC:                             49.06\n",
       "Df Residuals:                      45   BIC:                             54.67\n",
       "Df Model:                           2                                         \n",
       "Covariance Type:            nonrobust                                         \n",
       "==============================================================================\n",
       "                 coef    std err          t      P>|t|      [0.025      0.975]\n",
       "------------------------------------------------------------------------------\n",
       "Intercept     -0.0989      0.058     -1.711      0.094      -0.215       0.018\n",
       "market         0.7289      0.087      8.354      0.000       0.553       0.905\n",
       "factor0        1.0587      0.082     12.875      0.000       0.893       1.224\n",
       "==============================================================================\n",
       "Omnibus:                        0.759   Durbin-Watson:                   1.806\n",
       "Prob(Omnibus):                  0.684   Jarque-Bera (JB):                0.781\n",
       "Skew:                          -0.093   Prob(JB):                        0.677\n",
       "Kurtosis:                       2.403   Cond. No.                         1.66\n",
       "==============================================================================\n",
       "\n",
       "Notes:\n",
       "[1] Standard Errors assume that the covariance matrix of the errors is correctly specified.\n",
       "\"\"\""
      ]
     },
     "execution_count": 123,
     "metadata": {},
     "output_type": "execute_result"
    }
   ],
   "source": [
    "model.summary()"
   ]
  },
  {
   "cell_type": "markdown",
   "metadata": {},
   "source": [
    "# 이제 FF3 구현해보자. "
   ]
  },
  {
   "cell_type": "code",
   "execution_count": 6,
   "metadata": {},
   "outputs": [
    {
     "name": "stderr",
     "output_type": "stream",
     "text": [
      "C:\\Users\\lyoo9\\anaconda3\\lib\\site-packages\\pandas\\core\\dtypes\\cast.py:1229: VisibleDeprecationWarning: Creating an ndarray from ragged nested sequences (which is a list-or-tuple of lists-or-tuples-or ndarrays with different lengths or shapes) is deprecated. If you meant to do this, you must specify 'dtype=object' when creating the ndarray\n",
      "  v = np.array(v, copy=False)\n",
      "C:\\Users\\lyoo9\\anaconda3\\lib\\site-packages\\numpy\\core\\_asarray.py:83: VisibleDeprecationWarning: Creating an ndarray from ragged nested sequences (which is a list-or-tuple of lists-or-tuples-or ndarrays with different lengths or shapes) is deprecated. If you meant to do this, you must specify 'dtype=object' when creating the ndarray\n",
      "  return array(a, dtype, copy=False, order=order)\n"
     ]
    }
   ],
   "source": [
    "Market_cap = get_market_cap_for_period('20121231', '20191231')\n",
    "\n",
    "equity = get_item_for_period('ifrs_Equity', '20121231', '20191231')\n",
    "\n",
    "BEME = equity/Market_cap[0]"
   ]
  },
  {
   "cell_type": "code",
   "execution_count": 170,
   "metadata": {},
   "outputs": [],
   "source": [
    "Market_cap2 = get_market_cap_for_period('20121231', '20191231')"
   ]
  },
  {
   "cell_type": "code",
   "execution_count": 7,
   "metadata": {},
   "outputs": [],
   "source": [
    "Market_cap = get_market_cap_for_period('20130630', '20200630')"
   ]
  },
  {
   "cell_type": "code",
   "execution_count": 156,
   "metadata": {},
   "outputs": [
    {
     "data": {
      "application/vnd.jupyter.widget-view+json": {
       "model_id": "a3e129e05fa5409290d20493a53ed350",
       "version_major": 2,
       "version_minor": 0
      },
      "text/plain": [
       "HBox(children=(HTML(value=''), FloatProgress(value=0.0, max=96.0), HTML(value='')))"
      ]
     },
     "metadata": {},
     "output_type": "display_data"
    },
    {
     "name": "stdout",
     "output_type": "stream",
     "text": [
      "\n"
     ]
    }
   ],
   "source": [
    "# SMB\n",
    "SMB_mask = get_mask(Market_cap[0], Market_cap[1], market_bp = 'KOSPI')\n",
    "\n",
    "SMB = get_factor_on_date_by_mask(SMB_mask, term = 'm', winsorize_limits = 0.01, weight = 'VW')"
   ]
  },
  {
   "cell_type": "code",
   "execution_count": 138,
   "metadata": {},
   "outputs": [
    {
     "name": "stderr",
     "output_type": "stream",
     "text": [
      "C:\\Users\\lyoo9\\anaconda3\\lib\\site-packages\\pandas\\core\\indexing.py:670: SettingWithCopyWarning: \n",
      "A value is trying to be set on a copy of a slice from a DataFrame\n",
      "\n",
      "See the caveats in the documentation: https://pandas.pydata.org/pandas-docs/stable/user_guide/indexing.html#returning-a-view-versus-a-copy\n",
      "  iloc._setitem_with_indexer(indexer, value)\n"
     ]
    },
    {
     "data": {
      "application/vnd.jupyter.widget-view+json": {
       "model_id": "b58e29db79844aa7b533adad0fc52d89",
       "version_major": 2,
       "version_minor": 0
      },
      "text/plain": [
       "HBox(children=(HTML(value=''), FloatProgress(value=0.0, max=96.0), HTML(value='')))"
      ]
     },
     "metadata": {},
     "output_type": "display_data"
    },
    {
     "name": "stdout",
     "output_type": "stream",
     "text": [
      "\n"
     ]
    }
   ],
   "source": [
    "# HML\n",
    "BEME_shifted = shift_date_quarter(BEME, 2)\n",
    "\n",
    "HML_mask = get_mask(BEME_shifted, get_market_category(BEME_shifted), market_bp = 'KOSPI', breakpoint = [0.3, 0.7])\n",
    "\n",
    "HML = get_factor_on_date_by_mask(HML_mask, term = 'm', winsorize_limits = 0.01, weight = 'VW')"
   ]
  },
  {
   "cell_type": "code",
   "execution_count": 150,
   "metadata": {},
   "outputs": [
    {
     "name": "stderr",
     "output_type": "stream",
     "text": [
      "C:\\Users\\lyoo9\\anaconda3\\lib\\site-packages\\pandas\\core\\dtypes\\cast.py:1229: VisibleDeprecationWarning: Creating an ndarray from ragged nested sequences (which is a list-or-tuple of lists-or-tuples-or ndarrays with different lengths or shapes) is deprecated. If you meant to do this, you must specify 'dtype=object' when creating the ndarray\n",
      "  v = np.array(v, copy=False)\n",
      "C:\\Users\\lyoo9\\anaconda3\\lib\\site-packages\\numpy\\core\\_asarray.py:83: VisibleDeprecationWarning: Creating an ndarray from ragged nested sequences (which is a list-or-tuple of lists-or-tuples-or ndarrays with different lengths or shapes) is deprecated. If you meant to do this, you must specify 'dtype=object' when creating the ndarray\n",
      "  return array(a, dtype, copy=False, order=order)\n"
     ]
    }
   ],
   "source": [
    "# RMW 계산하기\n",
    "# (영업이익 - 이자비용) / 총자산\n",
    "Total_asset = get_item_for_period('ifrs_Assets', '20121231', '20191231')\n",
    "fcost1 = get_item_for_period('ifrs_FinanceCosts', '20121231', '20191231')\n",
    "fcost2 = get_item_for_period('dart_InterestExpenseFinanceExpense', '20121231', '20191231')\n",
    "fcost = pd.concat([fcost1, fcost2], axis = 1).groupby(level=0, axis=1).last()\n",
    "OI = get_item_for_period('dart_OperatingIncomeLoss', '20121231', '20191231')"
   ]
  },
  {
   "cell_type": "code",
   "execution_count": 151,
   "metadata": {},
   "outputs": [
    {
     "name": "stderr",
     "output_type": "stream",
     "text": [
      "C:\\Users\\lyoo9\\anaconda3\\lib\\site-packages\\pandas\\core\\indexing.py:670: SettingWithCopyWarning: \n",
      "A value is trying to be set on a copy of a slice from a DataFrame\n",
      "\n",
      "See the caveats in the documentation: https://pandas.pydata.org/pandas-docs/stable/user_guide/indexing.html#returning-a-view-versus-a-copy\n",
      "  iloc._setitem_with_indexer(indexer, value)\n"
     ]
    },
    {
     "data": {
      "application/vnd.jupyter.widget-view+json": {
       "model_id": "737602e5f82d4c669bae4388b574894e",
       "version_major": 2,
       "version_minor": 0
      },
      "text/plain": [
       "HBox(children=(HTML(value=''), FloatProgress(value=0.0, max=96.0), HTML(value='')))"
      ]
     },
     "metadata": {},
     "output_type": "display_data"
    },
    {
     "name": "stdout",
     "output_type": "stream",
     "text": [
      "\n"
     ]
    }
   ],
   "source": [
    "RMW_base = (OI - fcost) / Total_asset\n",
    "\n",
    "RMW_base_shifted = shift_date_quarter(RMW_base, 2)\n",
    "\n",
    "RMW_mask = get_mask(RMW_base_shifted, get_market_category(RMW_base_shifted), market_bp = 'KOSPI', breakpoint = [0.3, 0.7])\n",
    "\n",
    "RMW = get_factor_on_date_by_mask(RMW_mask, term = 'm', winsorize_limits = 0.01, weight = 'VW')"
   ]
  },
  {
   "cell_type": "code",
   "execution_count": 152,
   "metadata": {
    "scrolled": true
   },
   "outputs": [
    {
     "name": "stderr",
     "output_type": "stream",
     "text": [
      "C:\\Users\\lyoo9\\anaconda3\\lib\\site-packages\\pandas\\core\\dtypes\\cast.py:1229: VisibleDeprecationWarning: Creating an ndarray from ragged nested sequences (which is a list-or-tuple of lists-or-tuples-or ndarrays with different lengths or shapes) is deprecated. If you meant to do this, you must specify 'dtype=object' when creating the ndarray\n",
      "  v = np.array(v, copy=False)\n",
      "C:\\Users\\lyoo9\\anaconda3\\lib\\site-packages\\numpy\\core\\_asarray.py:83: VisibleDeprecationWarning: Creating an ndarray from ragged nested sequences (which is a list-or-tuple of lists-or-tuples-or ndarrays with different lengths or shapes) is deprecated. If you meant to do this, you must specify 'dtype=object' when creating the ndarray\n",
      "  return array(a, dtype, copy=False, order=order)\n",
      "C:\\Users\\lyoo9\\anaconda3\\lib\\site-packages\\pandas\\core\\indexing.py:670: SettingWithCopyWarning: \n",
      "A value is trying to be set on a copy of a slice from a DataFrame\n",
      "\n",
      "See the caveats in the documentation: https://pandas.pydata.org/pandas-docs/stable/user_guide/indexing.html#returning-a-view-versus-a-copy\n",
      "  iloc._setitem_with_indexer(indexer, value)\n"
     ]
    },
    {
     "data": {
      "application/vnd.jupyter.widget-view+json": {
       "model_id": "92cd35bf469d4859aed0cfa501304d92",
       "version_major": 2,
       "version_minor": 0
      },
      "text/plain": [
       "HBox(children=(HTML(value=''), FloatProgress(value=0.0, max=96.0), HTML(value='')))"
      ]
     },
     "metadata": {},
     "output_type": "display_data"
    },
    {
     "name": "stdout",
     "output_type": "stream",
     "text": [
      "\n"
     ]
    }
   ],
   "source": [
    "# CMA 계산하기\n",
    "\n",
    "Total_asset = get_item_for_period('ifrs_Assets', '20111231', '20181231')\n",
    "pnl = get_item_for_period('ifrs_ProfitLoss', '20121231', '20191231')\n",
    "Total_asset_shifted = shift_date_quarter(Total_asset, 4)\n",
    "CMA_base = pnl / Total_asset_shifted\n",
    "CMA_base_shifted = shift_date_quarter(CMA_base, 2)\n",
    "CMA_mask = get_mask(CMA_base_shifted, get_market_category(CMA_base_shifted), market_bp = 'KOSPI', breakpoint = [0.3, 0.7])\n",
    "CMA = get_factor_on_date_by_mask(CMA_mask, term = 'm', winsorize_limits = 0.01, weight = 'VW')"
   ]
  },
  {
   "cell_type": "code",
   "execution_count": 153,
   "metadata": {},
   "outputs": [
    {
     "data": {
      "application/vnd.jupyter.widget-view+json": {
       "model_id": "b4be01c52cec441e8c1797b65eb7d796",
       "version_major": 2,
       "version_minor": 0
      },
      "text/plain": [
       "HBox(children=(HTML(value=''), FloatProgress(value=0.0, max=96.0), HTML(value='')))"
      ]
     },
     "metadata": {},
     "output_type": "display_data"
    },
    {
     "name": "stdout",
     "output_type": "stream",
     "text": [
      "\n"
     ]
    }
   ],
   "source": [
    "# HML pfo\n",
    "hml_pfo_mask = make_portfolio(get_mask(Market_cap[0], Market_cap[1], breakpoint = [0.2, 0.4, 0.6, 0.8]), BEME_shifted, breakpoint = [0.2, 0.4, 0.6, 0.8])\n",
    "\n",
    "pfo25 = serialize_pfo([get_mask(Market_cap[0], Market_cap[1], breakpoint = [0.2, 0.4, 0.6, 0.8]), hml_pfo_mask])\n",
    "\n",
    "pfo_return = get_factor_on_date_by_mask(pfo25, term = 'm', weight = 'EW')"
   ]
  },
  {
   "cell_type": "code",
   "execution_count": 154,
   "metadata": {
    "scrolled": true
   },
   "outputs": [
    {
     "data": {
      "text/html": [
       "<div>\n",
       "<style scoped>\n",
       "    .dataframe tbody tr th:only-of-type {\n",
       "        vertical-align: middle;\n",
       "    }\n",
       "\n",
       "    .dataframe tbody tr th {\n",
       "        vertical-align: top;\n",
       "    }\n",
       "\n",
       "    .dataframe thead th {\n",
       "        text-align: right;\n",
       "    }\n",
       "</style>\n",
       "<table border=\"1\" class=\"dataframe\">\n",
       "  <thead>\n",
       "    <tr style=\"text-align: right;\">\n",
       "      <th></th>\n",
       "      <th>0</th>\n",
       "      <th>1</th>\n",
       "      <th>2</th>\n",
       "      <th>3</th>\n",
       "      <th>4</th>\n",
       "      <th>5</th>\n",
       "      <th>6</th>\n",
       "      <th>7</th>\n",
       "      <th>8</th>\n",
       "      <th>9</th>\n",
       "      <th>...</th>\n",
       "      <th>15</th>\n",
       "      <th>16</th>\n",
       "      <th>17</th>\n",
       "      <th>18</th>\n",
       "      <th>19</th>\n",
       "      <th>20</th>\n",
       "      <th>21</th>\n",
       "      <th>22</th>\n",
       "      <th>23</th>\n",
       "      <th>24</th>\n",
       "    </tr>\n",
       "  </thead>\n",
       "  <tbody>\n",
       "    <tr>\n",
       "      <th>201307</th>\n",
       "      <td>-0.158800</td>\n",
       "      <td>0.465385</td>\n",
       "      <td>-0.047200</td>\n",
       "      <td>0.198077</td>\n",
       "      <td>0.394231</td>\n",
       "      <td>0.382826</td>\n",
       "      <td>-0.017447</td>\n",
       "      <td>0.336596</td>\n",
       "      <td>1.142766</td>\n",
       "      <td>-0.025957</td>\n",
       "      <td>...</td>\n",
       "      <td>1.517885</td>\n",
       "      <td>0.948302</td>\n",
       "      <td>1.002453</td>\n",
       "      <td>0.154151</td>\n",
       "      <td>0.292075</td>\n",
       "      <td>1.023571</td>\n",
       "      <td>1.004821</td>\n",
       "      <td>1.049643</td>\n",
       "      <td>0.240714</td>\n",
       "      <td>0.640702</td>\n",
       "    </tr>\n",
       "    <tr>\n",
       "      <th>201308</th>\n",
       "      <td>-0.588400</td>\n",
       "      <td>-0.766923</td>\n",
       "      <td>-0.308800</td>\n",
       "      <td>-0.178077</td>\n",
       "      <td>-0.232692</td>\n",
       "      <td>0.343043</td>\n",
       "      <td>0.453830</td>\n",
       "      <td>-0.176596</td>\n",
       "      <td>0.041489</td>\n",
       "      <td>-0.679787</td>\n",
       "      <td>...</td>\n",
       "      <td>0.834038</td>\n",
       "      <td>-0.145472</td>\n",
       "      <td>-0.056981</td>\n",
       "      <td>0.257170</td>\n",
       "      <td>0.224528</td>\n",
       "      <td>0.428393</td>\n",
       "      <td>-0.096964</td>\n",
       "      <td>0.513393</td>\n",
       "      <td>0.290536</td>\n",
       "      <td>0.445614</td>\n",
       "    </tr>\n",
       "    <tr>\n",
       "      <th>201309</th>\n",
       "      <td>0.659200</td>\n",
       "      <td>-1.704615</td>\n",
       "      <td>0.080400</td>\n",
       "      <td>-0.435000</td>\n",
       "      <td>-0.202308</td>\n",
       "      <td>-1.063261</td>\n",
       "      <td>-0.549787</td>\n",
       "      <td>-0.520426</td>\n",
       "      <td>-0.954255</td>\n",
       "      <td>-0.405319</td>\n",
       "      <td>...</td>\n",
       "      <td>-0.569231</td>\n",
       "      <td>-0.537547</td>\n",
       "      <td>-0.857736</td>\n",
       "      <td>0.529245</td>\n",
       "      <td>-0.975283</td>\n",
       "      <td>-0.804107</td>\n",
       "      <td>-0.816607</td>\n",
       "      <td>-0.358929</td>\n",
       "      <td>-0.620714</td>\n",
       "      <td>-0.388421</td>\n",
       "    </tr>\n",
       "    <tr>\n",
       "      <th>201310</th>\n",
       "      <td>0.868000</td>\n",
       "      <td>0.683462</td>\n",
       "      <td>-0.957600</td>\n",
       "      <td>0.464615</td>\n",
       "      <td>-0.065000</td>\n",
       "      <td>-0.321522</td>\n",
       "      <td>-0.891064</td>\n",
       "      <td>-0.415106</td>\n",
       "      <td>-0.447234</td>\n",
       "      <td>-0.441702</td>\n",
       "      <td>...</td>\n",
       "      <td>-0.687115</td>\n",
       "      <td>-0.924906</td>\n",
       "      <td>-0.158491</td>\n",
       "      <td>-0.630000</td>\n",
       "      <td>-0.780189</td>\n",
       "      <td>-1.416964</td>\n",
       "      <td>-1.155179</td>\n",
       "      <td>-0.721607</td>\n",
       "      <td>-0.654107</td>\n",
       "      <td>-0.632281</td>\n",
       "    </tr>\n",
       "    <tr>\n",
       "      <th>201311</th>\n",
       "      <td>-0.447200</td>\n",
       "      <td>-0.266538</td>\n",
       "      <td>-0.621600</td>\n",
       "      <td>-0.692308</td>\n",
       "      <td>-0.970385</td>\n",
       "      <td>0.216087</td>\n",
       "      <td>0.301489</td>\n",
       "      <td>0.193617</td>\n",
       "      <td>0.080213</td>\n",
       "      <td>-0.365745</td>\n",
       "      <td>...</td>\n",
       "      <td>0.538077</td>\n",
       "      <td>0.324906</td>\n",
       "      <td>0.429434</td>\n",
       "      <td>0.283208</td>\n",
       "      <td>-0.097547</td>\n",
       "      <td>0.598036</td>\n",
       "      <td>-0.150179</td>\n",
       "      <td>0.141607</td>\n",
       "      <td>0.599643</td>\n",
       "      <td>0.524737</td>\n",
       "    </tr>\n",
       "    <tr>\n",
       "      <th>...</th>\n",
       "      <td>...</td>\n",
       "      <td>...</td>\n",
       "      <td>...</td>\n",
       "      <td>...</td>\n",
       "      <td>...</td>\n",
       "      <td>...</td>\n",
       "      <td>...</td>\n",
       "      <td>...</td>\n",
       "      <td>...</td>\n",
       "      <td>...</td>\n",
       "      <td>...</td>\n",
       "      <td>...</td>\n",
       "      <td>...</td>\n",
       "      <td>...</td>\n",
       "      <td>...</td>\n",
       "      <td>...</td>\n",
       "      <td>...</td>\n",
       "      <td>...</td>\n",
       "      <td>...</td>\n",
       "      <td>...</td>\n",
       "      <td>...</td>\n",
       "    </tr>\n",
       "    <tr>\n",
       "      <th>202102</th>\n",
       "      <td>-1.045429</td>\n",
       "      <td>-1.639722</td>\n",
       "      <td>-2.326389</td>\n",
       "      <td>-1.318889</td>\n",
       "      <td>-0.694167</td>\n",
       "      <td>-2.358378</td>\n",
       "      <td>-2.738514</td>\n",
       "      <td>-2.381467</td>\n",
       "      <td>-2.500135</td>\n",
       "      <td>-1.167733</td>\n",
       "      <td>...</td>\n",
       "      <td>-1.496154</td>\n",
       "      <td>-1.847848</td>\n",
       "      <td>-3.195128</td>\n",
       "      <td>-2.468228</td>\n",
       "      <td>-1.789620</td>\n",
       "      <td>-1.862025</td>\n",
       "      <td>-1.741000</td>\n",
       "      <td>-2.070125</td>\n",
       "      <td>-1.552250</td>\n",
       "      <td>-1.869877</td>\n",
       "    </tr>\n",
       "    <tr>\n",
       "      <th>202103</th>\n",
       "      <td>0.260571</td>\n",
       "      <td>0.668056</td>\n",
       "      <td>0.776944</td>\n",
       "      <td>0.978611</td>\n",
       "      <td>-0.001111</td>\n",
       "      <td>-0.294459</td>\n",
       "      <td>-0.352703</td>\n",
       "      <td>0.133600</td>\n",
       "      <td>0.725541</td>\n",
       "      <td>1.105600</td>\n",
       "      <td>...</td>\n",
       "      <td>0.304231</td>\n",
       "      <td>-0.582278</td>\n",
       "      <td>0.925897</td>\n",
       "      <td>0.296076</td>\n",
       "      <td>1.706582</td>\n",
       "      <td>-1.041899</td>\n",
       "      <td>-0.344750</td>\n",
       "      <td>0.368375</td>\n",
       "      <td>0.033375</td>\n",
       "      <td>0.652222</td>\n",
       "    </tr>\n",
       "    <tr>\n",
       "      <th>202104</th>\n",
       "      <td>0.224000</td>\n",
       "      <td>0.261667</td>\n",
       "      <td>-1.912778</td>\n",
       "      <td>-1.054722</td>\n",
       "      <td>0.363333</td>\n",
       "      <td>-1.495405</td>\n",
       "      <td>-0.995135</td>\n",
       "      <td>-0.793067</td>\n",
       "      <td>-0.318649</td>\n",
       "      <td>-0.770533</td>\n",
       "      <td>...</td>\n",
       "      <td>-0.177564</td>\n",
       "      <td>-1.242911</td>\n",
       "      <td>-0.424487</td>\n",
       "      <td>-0.145190</td>\n",
       "      <td>-0.685063</td>\n",
       "      <td>-0.760253</td>\n",
       "      <td>-0.225250</td>\n",
       "      <td>-0.408750</td>\n",
       "      <td>-0.624625</td>\n",
       "      <td>-1.261481</td>\n",
       "    </tr>\n",
       "    <tr>\n",
       "      <th>202105</th>\n",
       "      <td>0.017714</td>\n",
       "      <td>-0.098056</td>\n",
       "      <td>0.897778</td>\n",
       "      <td>1.030278</td>\n",
       "      <td>1.590278</td>\n",
       "      <td>0.559324</td>\n",
       "      <td>1.547838</td>\n",
       "      <td>1.147867</td>\n",
       "      <td>0.782027</td>\n",
       "      <td>0.864533</td>\n",
       "      <td>...</td>\n",
       "      <td>0.873846</td>\n",
       "      <td>0.829620</td>\n",
       "      <td>0.873205</td>\n",
       "      <td>0.841392</td>\n",
       "      <td>0.777975</td>\n",
       "      <td>0.571772</td>\n",
       "      <td>0.960750</td>\n",
       "      <td>0.722250</td>\n",
       "      <td>0.146125</td>\n",
       "      <td>0.798642</td>\n",
       "    </tr>\n",
       "    <tr>\n",
       "      <th>202106</th>\n",
       "      <td>0.914571</td>\n",
       "      <td>1.059444</td>\n",
       "      <td>-0.170833</td>\n",
       "      <td>0.055278</td>\n",
       "      <td>-0.652222</td>\n",
       "      <td>0.656081</td>\n",
       "      <td>0.008378</td>\n",
       "      <td>0.507467</td>\n",
       "      <td>0.294054</td>\n",
       "      <td>0.730133</td>\n",
       "      <td>...</td>\n",
       "      <td>0.901154</td>\n",
       "      <td>0.933291</td>\n",
       "      <td>0.673718</td>\n",
       "      <td>0.025823</td>\n",
       "      <td>0.152532</td>\n",
       "      <td>0.629873</td>\n",
       "      <td>0.652500</td>\n",
       "      <td>0.503750</td>\n",
       "      <td>0.208750</td>\n",
       "      <td>0.111358</td>\n",
       "    </tr>\n",
       "  </tbody>\n",
       "</table>\n",
       "<p>96 rows × 25 columns</p>\n",
       "</div>"
      ],
      "text/plain": [
       "              0         1         2         3         4         5         6   \\\n",
       "201307 -0.158800  0.465385 -0.047200  0.198077  0.394231  0.382826 -0.017447   \n",
       "201308 -0.588400 -0.766923 -0.308800 -0.178077 -0.232692  0.343043  0.453830   \n",
       "201309  0.659200 -1.704615  0.080400 -0.435000 -0.202308 -1.063261 -0.549787   \n",
       "201310  0.868000  0.683462 -0.957600  0.464615 -0.065000 -0.321522 -0.891064   \n",
       "201311 -0.447200 -0.266538 -0.621600 -0.692308 -0.970385  0.216087  0.301489   \n",
       "...          ...       ...       ...       ...       ...       ...       ...   \n",
       "202102 -1.045429 -1.639722 -2.326389 -1.318889 -0.694167 -2.358378 -2.738514   \n",
       "202103  0.260571  0.668056  0.776944  0.978611 -0.001111 -0.294459 -0.352703   \n",
       "202104  0.224000  0.261667 -1.912778 -1.054722  0.363333 -1.495405 -0.995135   \n",
       "202105  0.017714 -0.098056  0.897778  1.030278  1.590278  0.559324  1.547838   \n",
       "202106  0.914571  1.059444 -0.170833  0.055278 -0.652222  0.656081  0.008378   \n",
       "\n",
       "              7         8         9   ...        15        16        17  \\\n",
       "201307  0.336596  1.142766 -0.025957  ...  1.517885  0.948302  1.002453   \n",
       "201308 -0.176596  0.041489 -0.679787  ...  0.834038 -0.145472 -0.056981   \n",
       "201309 -0.520426 -0.954255 -0.405319  ... -0.569231 -0.537547 -0.857736   \n",
       "201310 -0.415106 -0.447234 -0.441702  ... -0.687115 -0.924906 -0.158491   \n",
       "201311  0.193617  0.080213 -0.365745  ...  0.538077  0.324906  0.429434   \n",
       "...          ...       ...       ...  ...       ...       ...       ...   \n",
       "202102 -2.381467 -2.500135 -1.167733  ... -1.496154 -1.847848 -3.195128   \n",
       "202103  0.133600  0.725541  1.105600  ...  0.304231 -0.582278  0.925897   \n",
       "202104 -0.793067 -0.318649 -0.770533  ... -0.177564 -1.242911 -0.424487   \n",
       "202105  1.147867  0.782027  0.864533  ...  0.873846  0.829620  0.873205   \n",
       "202106  0.507467  0.294054  0.730133  ...  0.901154  0.933291  0.673718   \n",
       "\n",
       "              18        19        20        21        22        23        24  \n",
       "201307  0.154151  0.292075  1.023571  1.004821  1.049643  0.240714  0.640702  \n",
       "201308  0.257170  0.224528  0.428393 -0.096964  0.513393  0.290536  0.445614  \n",
       "201309  0.529245 -0.975283 -0.804107 -0.816607 -0.358929 -0.620714 -0.388421  \n",
       "201310 -0.630000 -0.780189 -1.416964 -1.155179 -0.721607 -0.654107 -0.632281  \n",
       "201311  0.283208 -0.097547  0.598036 -0.150179  0.141607  0.599643  0.524737  \n",
       "...          ...       ...       ...       ...       ...       ...       ...  \n",
       "202102 -2.468228 -1.789620 -1.862025 -1.741000 -2.070125 -1.552250 -1.869877  \n",
       "202103  0.296076  1.706582 -1.041899 -0.344750  0.368375  0.033375  0.652222  \n",
       "202104 -0.145190 -0.685063 -0.760253 -0.225250 -0.408750 -0.624625 -1.261481  \n",
       "202105  0.841392  0.777975  0.571772  0.960750  0.722250  0.146125  0.798642  \n",
       "202106  0.025823  0.152532  0.629873  0.652500  0.503750  0.208750  0.111358  \n",
       "\n",
       "[96 rows x 25 columns]"
      ]
     },
     "execution_count": 154,
     "metadata": {},
     "output_type": "execute_result"
    }
   ],
   "source": [
    "pfo_return"
   ]
  },
  {
   "cell_type": "code",
   "execution_count": 155,
   "metadata": {
    "scrolled": true
   },
   "outputs": [
    {
     "data": {
      "application/vnd.jupyter.widget-view+json": {
       "model_id": "dec200a60e7b431c925da37e92fe1825",
       "version_major": 2,
       "version_minor": 0
      },
      "text/plain": [
       "HBox(children=(HTML(value=''), FloatProgress(value=0.0, max=96.0), HTML(value='')))"
      ]
     },
     "metadata": {},
     "output_type": "display_data"
    },
    {
     "name": "stdout",
     "output_type": "stream",
     "text": [
      "\n"
     ]
    },
    {
     "data": {
      "application/vnd.jupyter.widget-view+json": {
       "model_id": "14d9505f261e4aceac13d0e3e0e6bfb7",
       "version_major": 2,
       "version_minor": 0
      },
      "text/plain": [
       "HBox(children=(HTML(value=''), FloatProgress(value=0.0, max=96.0), HTML(value='')))"
      ]
     },
     "metadata": {},
     "output_type": "display_data"
    },
    {
     "name": "stdout",
     "output_type": "stream",
     "text": [
      "\n"
     ]
    },
    {
     "data": {
      "application/vnd.jupyter.widget-view+json": {
       "model_id": "f66845be1a0a4ab68616dd3ce69b49d7",
       "version_major": 2,
       "version_minor": 0
      },
      "text/plain": [
       "HBox(children=(HTML(value=''), FloatProgress(value=0.0, max=96.0), HTML(value='')))"
      ]
     },
     "metadata": {},
     "output_type": "display_data"
    },
    {
     "name": "stdout",
     "output_type": "stream",
     "text": [
      "\n"
     ]
    },
    {
     "data": {
      "application/vnd.jupyter.widget-view+json": {
       "model_id": "38dae76cf5a64f8f8f95dd8d84dd1a62",
       "version_major": 2,
       "version_minor": 0
      },
      "text/plain": [
       "HBox(children=(HTML(value=''), FloatProgress(value=0.0, max=96.0), HTML(value='')))"
      ]
     },
     "metadata": {},
     "output_type": "display_data"
    },
    {
     "name": "stdout",
     "output_type": "stream",
     "text": [
      "\n"
     ]
    },
    {
     "data": {
      "application/vnd.jupyter.widget-view+json": {
       "model_id": "7a4ff06dbed549edbac1524a359f45a6",
       "version_major": 2,
       "version_minor": 0
      },
      "text/plain": [
       "HBox(children=(HTML(value=''), FloatProgress(value=0.0, max=96.0), HTML(value='')))"
      ]
     },
     "metadata": {},
     "output_type": "display_data"
    },
    {
     "name": "stdout",
     "output_type": "stream",
     "text": [
      "\n"
     ]
    },
    {
     "data": {
      "application/vnd.jupyter.widget-view+json": {
       "model_id": "05238efdbc484a8cbb273cc4388f5b23",
       "version_major": 2,
       "version_minor": 0
      },
      "text/plain": [
       "HBox(children=(HTML(value=''), FloatProgress(value=0.0, max=96.0), HTML(value='')))"
      ]
     },
     "metadata": {},
     "output_type": "display_data"
    },
    {
     "name": "stdout",
     "output_type": "stream",
     "text": [
      "\n"
     ]
    },
    {
     "data": {
      "application/vnd.jupyter.widget-view+json": {
       "model_id": "81192a0a10264740b14eb18ab24acc6c",
       "version_major": 2,
       "version_minor": 0
      },
      "text/plain": [
       "HBox(children=(HTML(value=''), FloatProgress(value=0.0, max=96.0), HTML(value='')))"
      ]
     },
     "metadata": {},
     "output_type": "display_data"
    },
    {
     "name": "stdout",
     "output_type": "stream",
     "text": [
      "\n"
     ]
    },
    {
     "data": {
      "application/vnd.jupyter.widget-view+json": {
       "model_id": "1f86f648933946e284f8bec4c9f63685",
       "version_major": 2,
       "version_minor": 0
      },
      "text/plain": [
       "HBox(children=(HTML(value=''), FloatProgress(value=0.0, max=96.0), HTML(value='')))"
      ]
     },
     "metadata": {},
     "output_type": "display_data"
    },
    {
     "name": "stdout",
     "output_type": "stream",
     "text": [
      "\n"
     ]
    },
    {
     "data": {
      "application/vnd.jupyter.widget-view+json": {
       "model_id": "3f9f2a7c69af4571b26dea395966153e",
       "version_major": 2,
       "version_minor": 0
      },
      "text/plain": [
       "HBox(children=(HTML(value=''), FloatProgress(value=0.0, max=96.0), HTML(value='')))"
      ]
     },
     "metadata": {},
     "output_type": "display_data"
    },
    {
     "name": "stdout",
     "output_type": "stream",
     "text": [
      "\n"
     ]
    },
    {
     "data": {
      "application/vnd.jupyter.widget-view+json": {
       "model_id": "f2115b554477463fb8b66cd5ac11893e",
       "version_major": 2,
       "version_minor": 0
      },
      "text/plain": [
       "HBox(children=(HTML(value=''), FloatProgress(value=0.0, max=96.0), HTML(value='')))"
      ]
     },
     "metadata": {},
     "output_type": "display_data"
    },
    {
     "name": "stdout",
     "output_type": "stream",
     "text": [
      "\n"
     ]
    },
    {
     "data": {
      "application/vnd.jupyter.widget-view+json": {
       "model_id": "1bfbec4261e245d7a769913cd22bce53",
       "version_major": 2,
       "version_minor": 0
      },
      "text/plain": [
       "HBox(children=(HTML(value=''), FloatProgress(value=0.0, max=96.0), HTML(value='')))"
      ]
     },
     "metadata": {},
     "output_type": "display_data"
    },
    {
     "name": "stdout",
     "output_type": "stream",
     "text": [
      "\n"
     ]
    },
    {
     "data": {
      "application/vnd.jupyter.widget-view+json": {
       "model_id": "aefee95a51d040b0bb5423f9ca8e9111",
       "version_major": 2,
       "version_minor": 0
      },
      "text/plain": [
       "HBox(children=(HTML(value=''), FloatProgress(value=0.0, max=96.0), HTML(value='')))"
      ]
     },
     "metadata": {},
     "output_type": "display_data"
    },
    {
     "name": "stdout",
     "output_type": "stream",
     "text": [
      "\n"
     ]
    },
    {
     "data": {
      "application/vnd.jupyter.widget-view+json": {
       "model_id": "47546c429925410195b23ab6a2acc914",
       "version_major": 2,
       "version_minor": 0
      },
      "text/plain": [
       "HBox(children=(HTML(value=''), FloatProgress(value=0.0, max=96.0), HTML(value='')))"
      ]
     },
     "metadata": {},
     "output_type": "display_data"
    },
    {
     "name": "stdout",
     "output_type": "stream",
     "text": [
      "\n"
     ]
    },
    {
     "data": {
      "application/vnd.jupyter.widget-view+json": {
       "model_id": "e8b05fca34cc41418d17b8c7cff4935c",
       "version_major": 2,
       "version_minor": 0
      },
      "text/plain": [
       "HBox(children=(HTML(value=''), FloatProgress(value=0.0, max=96.0), HTML(value='')))"
      ]
     },
     "metadata": {},
     "output_type": "display_data"
    },
    {
     "name": "stdout",
     "output_type": "stream",
     "text": [
      "\n"
     ]
    },
    {
     "data": {
      "application/vnd.jupyter.widget-view+json": {
       "model_id": "46b1539ac0c04bef8b944e40cc60acfc",
       "version_major": 2,
       "version_minor": 0
      },
      "text/plain": [
       "HBox(children=(HTML(value=''), FloatProgress(value=0.0, max=96.0), HTML(value='')))"
      ]
     },
     "metadata": {},
     "output_type": "display_data"
    },
    {
     "name": "stdout",
     "output_type": "stream",
     "text": [
      "\n"
     ]
    },
    {
     "data": {
      "application/vnd.jupyter.widget-view+json": {
       "model_id": "880243dba32f4587a39dc507ad2daff7",
       "version_major": 2,
       "version_minor": 0
      },
      "text/plain": [
       "HBox(children=(HTML(value=''), FloatProgress(value=0.0, max=96.0), HTML(value='')))"
      ]
     },
     "metadata": {},
     "output_type": "display_data"
    },
    {
     "name": "stdout",
     "output_type": "stream",
     "text": [
      "\n"
     ]
    },
    {
     "data": {
      "application/vnd.jupyter.widget-view+json": {
       "model_id": "a85de1955d664a98846b295ba44f0b59",
       "version_major": 2,
       "version_minor": 0
      },
      "text/plain": [
       "HBox(children=(HTML(value=''), FloatProgress(value=0.0, max=96.0), HTML(value='')))"
      ]
     },
     "metadata": {},
     "output_type": "display_data"
    },
    {
     "name": "stdout",
     "output_type": "stream",
     "text": [
      "\n"
     ]
    },
    {
     "data": {
      "application/vnd.jupyter.widget-view+json": {
       "model_id": "cb290775597f42e39236e341ecf38703",
       "version_major": 2,
       "version_minor": 0
      },
      "text/plain": [
       "HBox(children=(HTML(value=''), FloatProgress(value=0.0, max=96.0), HTML(value='')))"
      ]
     },
     "metadata": {},
     "output_type": "display_data"
    },
    {
     "name": "stdout",
     "output_type": "stream",
     "text": [
      "\n"
     ]
    },
    {
     "data": {
      "application/vnd.jupyter.widget-view+json": {
       "model_id": "0e02ba9b8c074fc4bd55dbdb214d3463",
       "version_major": 2,
       "version_minor": 0
      },
      "text/plain": [
       "HBox(children=(HTML(value=''), FloatProgress(value=0.0, max=96.0), HTML(value='')))"
      ]
     },
     "metadata": {},
     "output_type": "display_data"
    },
    {
     "name": "stdout",
     "output_type": "stream",
     "text": [
      "\n"
     ]
    },
    {
     "data": {
      "application/vnd.jupyter.widget-view+json": {
       "model_id": "cd12b0510fc3400582263e79f38bbac0",
       "version_major": 2,
       "version_minor": 0
      },
      "text/plain": [
       "HBox(children=(HTML(value=''), FloatProgress(value=0.0, max=96.0), HTML(value='')))"
      ]
     },
     "metadata": {},
     "output_type": "display_data"
    },
    {
     "name": "stdout",
     "output_type": "stream",
     "text": [
      "\n"
     ]
    },
    {
     "data": {
      "application/vnd.jupyter.widget-view+json": {
       "model_id": "6661a7f4dd244a47ab830cea8971b512",
       "version_major": 2,
       "version_minor": 0
      },
      "text/plain": [
       "HBox(children=(HTML(value=''), FloatProgress(value=0.0, max=96.0), HTML(value='')))"
      ]
     },
     "metadata": {},
     "output_type": "display_data"
    },
    {
     "name": "stdout",
     "output_type": "stream",
     "text": [
      "\n"
     ]
    },
    {
     "data": {
      "application/vnd.jupyter.widget-view+json": {
       "model_id": "ff53ab720b4342a8a2aa961a8b3910bd",
       "version_major": 2,
       "version_minor": 0
      },
      "text/plain": [
       "HBox(children=(HTML(value=''), FloatProgress(value=0.0, max=96.0), HTML(value='')))"
      ]
     },
     "metadata": {},
     "output_type": "display_data"
    },
    {
     "name": "stdout",
     "output_type": "stream",
     "text": [
      "\n"
     ]
    },
    {
     "data": {
      "application/vnd.jupyter.widget-view+json": {
       "model_id": "83a8f7156c6c4c27aeaece9c1d4471de",
       "version_major": 2,
       "version_minor": 0
      },
      "text/plain": [
       "HBox(children=(HTML(value=''), FloatProgress(value=0.0, max=96.0), HTML(value='')))"
      ]
     },
     "metadata": {},
     "output_type": "display_data"
    },
    {
     "name": "stdout",
     "output_type": "stream",
     "text": [
      "\n"
     ]
    },
    {
     "data": {
      "application/vnd.jupyter.widget-view+json": {
       "model_id": "7ab31208ea8b44dead8a0434aa64d52e",
       "version_major": 2,
       "version_minor": 0
      },
      "text/plain": [
       "HBox(children=(HTML(value=''), FloatProgress(value=0.0, max=96.0), HTML(value='')))"
      ]
     },
     "metadata": {},
     "output_type": "display_data"
    },
    {
     "name": "stdout",
     "output_type": "stream",
     "text": [
      "\n"
     ]
    },
    {
     "data": {
      "application/vnd.jupyter.widget-view+json": {
       "model_id": "3addf3c377db42109ba34cce86f36bb3",
       "version_major": 2,
       "version_minor": 0
      },
      "text/plain": [
       "HBox(children=(HTML(value=''), FloatProgress(value=0.0, max=96.0), HTML(value='')))"
      ]
     },
     "metadata": {},
     "output_type": "display_data"
    },
    {
     "name": "stdout",
     "output_type": "stream",
     "text": [
      "\n"
     ]
    }
   ],
   "source": [
    "coef = []\n",
    "tvalues = []\n",
    "r = []\n",
    "for i in range(25):\n",
    "    model = get_ols_model(pfo25, pfo_return.iloc[:,i], cd_91, SMB.iloc[:,0] - SMB.iloc[:,1], HML.iloc[:,2] - HML.iloc[:,0], RMW.iloc[:,2] - RMW.iloc[:,0], CMA.iloc[:,2] - CMA.iloc[:,0])\n",
    "    coef.append(model.params)\n",
    "    tvalues.append(model.tvalues)\n",
    "    r.append(model.rsquared)"
   ]
  },
  {
   "cell_type": "code",
   "execution_count": 158,
   "metadata": {},
   "outputs": [
    {
     "data": {
      "text/html": [
       "<div>\n",
       "<style scoped>\n",
       "    .dataframe tbody tr th:only-of-type {\n",
       "        vertical-align: middle;\n",
       "    }\n",
       "\n",
       "    .dataframe tbody tr th {\n",
       "        vertical-align: top;\n",
       "    }\n",
       "\n",
       "    .dataframe thead th {\n",
       "        text-align: right;\n",
       "    }\n",
       "</style>\n",
       "<table border=\"1\" class=\"dataframe\">\n",
       "  <thead>\n",
       "    <tr style=\"text-align: right;\">\n",
       "      <th></th>\n",
       "      <th>0</th>\n",
       "      <th>1</th>\n",
       "      <th>2</th>\n",
       "      <th>3</th>\n",
       "      <th>4</th>\n",
       "      <th>5</th>\n",
       "      <th>6</th>\n",
       "      <th>7</th>\n",
       "      <th>8</th>\n",
       "      <th>9</th>\n",
       "      <th>...</th>\n",
       "      <th>15</th>\n",
       "      <th>16</th>\n",
       "      <th>17</th>\n",
       "      <th>18</th>\n",
       "      <th>19</th>\n",
       "      <th>20</th>\n",
       "      <th>21</th>\n",
       "      <th>22</th>\n",
       "      <th>23</th>\n",
       "      <th>24</th>\n",
       "    </tr>\n",
       "  </thead>\n",
       "  <tbody>\n",
       "    <tr>\n",
       "      <th>Intercept</th>\n",
       "      <td>0.098523</td>\n",
       "      <td>0.050380</td>\n",
       "      <td>0.119707</td>\n",
       "      <td>0.069258</td>\n",
       "      <td>0.067941</td>\n",
       "      <td>0.021790</td>\n",
       "      <td>0.059728</td>\n",
       "      <td>0.074733</td>\n",
       "      <td>0.142079</td>\n",
       "      <td>0.080370</td>\n",
       "      <td>...</td>\n",
       "      <td>0.041056</td>\n",
       "      <td>0.018881</td>\n",
       "      <td>0.059991</td>\n",
       "      <td>0.074199</td>\n",
       "      <td>0.071287</td>\n",
       "      <td>0.073200</td>\n",
       "      <td>0.005212</td>\n",
       "      <td>0.060044</td>\n",
       "      <td>0.018967</td>\n",
       "      <td>-0.012631</td>\n",
       "    </tr>\n",
       "    <tr>\n",
       "      <th>market</th>\n",
       "      <td>0.604796</td>\n",
       "      <td>0.474850</td>\n",
       "      <td>0.848215</td>\n",
       "      <td>0.377337</td>\n",
       "      <td>0.517203</td>\n",
       "      <td>0.667836</td>\n",
       "      <td>0.773877</td>\n",
       "      <td>0.828704</td>\n",
       "      <td>0.740274</td>\n",
       "      <td>0.641141</td>\n",
       "      <td>...</td>\n",
       "      <td>0.745625</td>\n",
       "      <td>0.745060</td>\n",
       "      <td>0.850235</td>\n",
       "      <td>0.754554</td>\n",
       "      <td>0.600960</td>\n",
       "      <td>0.733733</td>\n",
       "      <td>0.720748</td>\n",
       "      <td>0.669154</td>\n",
       "      <td>0.729663</td>\n",
       "      <td>0.546406</td>\n",
       "    </tr>\n",
       "    <tr>\n",
       "      <th>factor0</th>\n",
       "      <td>1.208854</td>\n",
       "      <td>0.894404</td>\n",
       "      <td>0.932805</td>\n",
       "      <td>1.165262</td>\n",
       "      <td>0.612401</td>\n",
       "      <td>1.158244</td>\n",
       "      <td>1.071122</td>\n",
       "      <td>1.106607</td>\n",
       "      <td>0.985703</td>\n",
       "      <td>0.810176</td>\n",
       "      <td>...</td>\n",
       "      <td>0.754481</td>\n",
       "      <td>0.858425</td>\n",
       "      <td>1.010159</td>\n",
       "      <td>0.802770</td>\n",
       "      <td>0.521614</td>\n",
       "      <td>0.028409</td>\n",
       "      <td>0.260265</td>\n",
       "      <td>0.171157</td>\n",
       "      <td>0.202583</td>\n",
       "      <td>-0.023334</td>\n",
       "    </tr>\n",
       "    <tr>\n",
       "      <th>factor1</th>\n",
       "      <td>-0.027678</td>\n",
       "      <td>0.257932</td>\n",
       "      <td>0.356774</td>\n",
       "      <td>0.447777</td>\n",
       "      <td>0.202704</td>\n",
       "      <td>-0.072837</td>\n",
       "      <td>0.113292</td>\n",
       "      <td>0.124794</td>\n",
       "      <td>0.099456</td>\n",
       "      <td>0.392487</td>\n",
       "      <td>...</td>\n",
       "      <td>-0.532027</td>\n",
       "      <td>-0.239083</td>\n",
       "      <td>0.140296</td>\n",
       "      <td>0.182087</td>\n",
       "      <td>0.422214</td>\n",
       "      <td>-0.776057</td>\n",
       "      <td>-0.218224</td>\n",
       "      <td>-0.100335</td>\n",
       "      <td>0.267804</td>\n",
       "      <td>0.509029</td>\n",
       "    </tr>\n",
       "    <tr>\n",
       "      <th>factor2</th>\n",
       "      <td>-0.310040</td>\n",
       "      <td>0.218767</td>\n",
       "      <td>-0.457007</td>\n",
       "      <td>0.495374</td>\n",
       "      <td>0.103570</td>\n",
       "      <td>0.285141</td>\n",
       "      <td>0.376678</td>\n",
       "      <td>0.246228</td>\n",
       "      <td>0.276278</td>\n",
       "      <td>0.370098</td>\n",
       "      <td>...</td>\n",
       "      <td>-0.076042</td>\n",
       "      <td>0.098924</td>\n",
       "      <td>0.107611</td>\n",
       "      <td>0.331486</td>\n",
       "      <td>0.295136</td>\n",
       "      <td>0.191418</td>\n",
       "      <td>0.443813</td>\n",
       "      <td>0.356415</td>\n",
       "      <td>0.159085</td>\n",
       "      <td>0.430463</td>\n",
       "    </tr>\n",
       "    <tr>\n",
       "      <th>factor3</th>\n",
       "      <td>0.997745</td>\n",
       "      <td>-0.342577</td>\n",
       "      <td>0.463993</td>\n",
       "      <td>-0.267625</td>\n",
       "      <td>-0.208285</td>\n",
       "      <td>0.000500</td>\n",
       "      <td>-0.299026</td>\n",
       "      <td>-0.001934</td>\n",
       "      <td>-0.178130</td>\n",
       "      <td>-0.369356</td>\n",
       "      <td>...</td>\n",
       "      <td>-0.548602</td>\n",
       "      <td>-0.391246</td>\n",
       "      <td>-0.143072</td>\n",
       "      <td>-0.321735</td>\n",
       "      <td>-0.371898</td>\n",
       "      <td>-1.071489</td>\n",
       "      <td>-0.697698</td>\n",
       "      <td>-0.740846</td>\n",
       "      <td>-0.340997</td>\n",
       "      <td>-0.732618</td>\n",
       "    </tr>\n",
       "  </tbody>\n",
       "</table>\n",
       "<p>6 rows × 25 columns</p>\n",
       "</div>"
      ],
      "text/plain": [
       "                 0         1         2         3         4         5   \\\n",
       "Intercept  0.098523  0.050380  0.119707  0.069258  0.067941  0.021790   \n",
       "market     0.604796  0.474850  0.848215  0.377337  0.517203  0.667836   \n",
       "factor0    1.208854  0.894404  0.932805  1.165262  0.612401  1.158244   \n",
       "factor1   -0.027678  0.257932  0.356774  0.447777  0.202704 -0.072837   \n",
       "factor2   -0.310040  0.218767 -0.457007  0.495374  0.103570  0.285141   \n",
       "factor3    0.997745 -0.342577  0.463993 -0.267625 -0.208285  0.000500   \n",
       "\n",
       "                 6         7         8         9   ...        15        16  \\\n",
       "Intercept  0.059728  0.074733  0.142079  0.080370  ...  0.041056  0.018881   \n",
       "market     0.773877  0.828704  0.740274  0.641141  ...  0.745625  0.745060   \n",
       "factor0    1.071122  1.106607  0.985703  0.810176  ...  0.754481  0.858425   \n",
       "factor1    0.113292  0.124794  0.099456  0.392487  ... -0.532027 -0.239083   \n",
       "factor2    0.376678  0.246228  0.276278  0.370098  ... -0.076042  0.098924   \n",
       "factor3   -0.299026 -0.001934 -0.178130 -0.369356  ... -0.548602 -0.391246   \n",
       "\n",
       "                 17        18        19        20        21        22  \\\n",
       "Intercept  0.059991  0.074199  0.071287  0.073200  0.005212  0.060044   \n",
       "market     0.850235  0.754554  0.600960  0.733733  0.720748  0.669154   \n",
       "factor0    1.010159  0.802770  0.521614  0.028409  0.260265  0.171157   \n",
       "factor1    0.140296  0.182087  0.422214 -0.776057 -0.218224 -0.100335   \n",
       "factor2    0.107611  0.331486  0.295136  0.191418  0.443813  0.356415   \n",
       "factor3   -0.143072 -0.321735 -0.371898 -1.071489 -0.697698 -0.740846   \n",
       "\n",
       "                 23        24  \n",
       "Intercept  0.018967 -0.012631  \n",
       "market     0.729663  0.546406  \n",
       "factor0    0.202583 -0.023334  \n",
       "factor1    0.267804  0.509029  \n",
       "factor2    0.159085  0.430463  \n",
       "factor3   -0.340997 -0.732618  \n",
       "\n",
       "[6 rows x 25 columns]"
      ]
     },
     "execution_count": 158,
     "metadata": {},
     "output_type": "execute_result"
    }
   ],
   "source": [
    "pd.concat(coef, axis=1)"
   ]
  },
  {
   "cell_type": "code",
   "execution_count": 163,
   "metadata": {},
   "outputs": [
    {
     "data": {
      "text/html": [
       "<div>\n",
       "<style scoped>\n",
       "    .dataframe tbody tr th:only-of-type {\n",
       "        vertical-align: middle;\n",
       "    }\n",
       "\n",
       "    .dataframe tbody tr th {\n",
       "        vertical-align: top;\n",
       "    }\n",
       "\n",
       "    .dataframe thead th {\n",
       "        text-align: right;\n",
       "    }\n",
       "</style>\n",
       "<table border=\"1\" class=\"dataframe\">\n",
       "  <thead>\n",
       "    <tr style=\"text-align: right;\">\n",
       "      <th></th>\n",
       "      <th>0</th>\n",
       "      <th>1</th>\n",
       "      <th>2</th>\n",
       "      <th>3</th>\n",
       "      <th>4</th>\n",
       "      <th>5</th>\n",
       "      <th>6</th>\n",
       "      <th>7</th>\n",
       "      <th>8</th>\n",
       "      <th>9</th>\n",
       "      <th>...</th>\n",
       "      <th>15</th>\n",
       "      <th>16</th>\n",
       "      <th>17</th>\n",
       "      <th>18</th>\n",
       "      <th>19</th>\n",
       "      <th>20</th>\n",
       "      <th>21</th>\n",
       "      <th>22</th>\n",
       "      <th>23</th>\n",
       "      <th>24</th>\n",
       "    </tr>\n",
       "  </thead>\n",
       "  <tbody>\n",
       "    <tr>\n",
       "      <th>Intercept</th>\n",
       "      <td>1.144338</td>\n",
       "      <td>0.728494</td>\n",
       "      <td>1.344542</td>\n",
       "      <td>0.947818</td>\n",
       "      <td>0.914008</td>\n",
       "      <td>0.369481</td>\n",
       "      <td>1.157930</td>\n",
       "      <td>1.534483</td>\n",
       "      <td>2.781025</td>\n",
       "      <td>1.430106</td>\n",
       "      <td>...</td>\n",
       "      <td>0.596463</td>\n",
       "      <td>0.366414</td>\n",
       "      <td>1.245542</td>\n",
       "      <td>1.590644</td>\n",
       "      <td>1.346815</td>\n",
       "      <td>1.252161</td>\n",
       "      <td>0.105299</td>\n",
       "      <td>1.207154</td>\n",
       "      <td>0.427658</td>\n",
       "      <td>-0.275734</td>\n",
       "    </tr>\n",
       "    <tr>\n",
       "      <th>market</th>\n",
       "      <td>5.422336</td>\n",
       "      <td>5.300095</td>\n",
       "      <td>7.353962</td>\n",
       "      <td>3.986051</td>\n",
       "      <td>5.370759</td>\n",
       "      <td>8.740953</td>\n",
       "      <td>11.580690</td>\n",
       "      <td>13.134421</td>\n",
       "      <td>11.184760</td>\n",
       "      <td>8.806210</td>\n",
       "      <td>...</td>\n",
       "      <td>8.361505</td>\n",
       "      <td>11.160661</td>\n",
       "      <td>13.625979</td>\n",
       "      <td>12.486006</td>\n",
       "      <td>8.764019</td>\n",
       "      <td>9.688260</td>\n",
       "      <td>11.240397</td>\n",
       "      <td>10.384414</td>\n",
       "      <td>12.699094</td>\n",
       "      <td>9.207374</td>\n",
       "    </tr>\n",
       "    <tr>\n",
       "      <th>factor0</th>\n",
       "      <td>7.544079</td>\n",
       "      <td>6.948888</td>\n",
       "      <td>5.629382</td>\n",
       "      <td>8.568234</td>\n",
       "      <td>4.426546</td>\n",
       "      <td>10.552209</td>\n",
       "      <td>11.157223</td>\n",
       "      <td>12.208422</td>\n",
       "      <td>10.366560</td>\n",
       "      <td>7.745851</td>\n",
       "      <td>...</td>\n",
       "      <td>5.889344</td>\n",
       "      <td>8.950670</td>\n",
       "      <td>11.268681</td>\n",
       "      <td>9.246530</td>\n",
       "      <td>5.294948</td>\n",
       "      <td>0.261108</td>\n",
       "      <td>2.825320</td>\n",
       "      <td>1.848862</td>\n",
       "      <td>2.454187</td>\n",
       "      <td>-0.273689</td>\n",
       "    </tr>\n",
       "    <tr>\n",
       "      <th>factor1</th>\n",
       "      <td>-0.192218</td>\n",
       "      <td>2.230087</td>\n",
       "      <td>2.396064</td>\n",
       "      <td>3.664077</td>\n",
       "      <td>1.630518</td>\n",
       "      <td>-0.738462</td>\n",
       "      <td>1.313258</td>\n",
       "      <td>1.532129</td>\n",
       "      <td>1.164008</td>\n",
       "      <td>4.175904</td>\n",
       "      <td>...</td>\n",
       "      <td>-4.621540</td>\n",
       "      <td>-2.774198</td>\n",
       "      <td>1.741662</td>\n",
       "      <td>2.334001</td>\n",
       "      <td>4.769574</td>\n",
       "      <td>-7.937622</td>\n",
       "      <td>-2.636270</td>\n",
       "      <td>-1.206138</td>\n",
       "      <td>3.610417</td>\n",
       "      <td>6.644331</td>\n",
       "    </tr>\n",
       "    <tr>\n",
       "      <th>factor2</th>\n",
       "      <td>-1.242570</td>\n",
       "      <td>1.091525</td>\n",
       "      <td>-1.771181</td>\n",
       "      <td>2.339222</td>\n",
       "      <td>0.480764</td>\n",
       "      <td>1.668297</td>\n",
       "      <td>2.519752</td>\n",
       "      <td>1.744511</td>\n",
       "      <td>1.865975</td>\n",
       "      <td>2.272361</td>\n",
       "      <td>...</td>\n",
       "      <td>-0.381189</td>\n",
       "      <td>0.662408</td>\n",
       "      <td>0.770919</td>\n",
       "      <td>2.452012</td>\n",
       "      <td>1.924002</td>\n",
       "      <td>1.129836</td>\n",
       "      <td>3.094015</td>\n",
       "      <td>2.472502</td>\n",
       "      <td>1.237672</td>\n",
       "      <td>3.242507</td>\n",
       "    </tr>\n",
       "    <tr>\n",
       "      <th>factor3</th>\n",
       "      <td>3.375210</td>\n",
       "      <td>-1.442743</td>\n",
       "      <td>1.517856</td>\n",
       "      <td>-1.066703</td>\n",
       "      <td>-0.816087</td>\n",
       "      <td>0.002470</td>\n",
       "      <td>-1.688400</td>\n",
       "      <td>-0.011566</td>\n",
       "      <td>-1.015485</td>\n",
       "      <td>-1.914188</td>\n",
       "      <td>...</td>\n",
       "      <td>-2.321266</td>\n",
       "      <td>-2.211324</td>\n",
       "      <td>-0.865142</td>\n",
       "      <td>-2.008791</td>\n",
       "      <td>-2.046377</td>\n",
       "      <td>-5.338245</td>\n",
       "      <td>-4.105527</td>\n",
       "      <td>-4.337982</td>\n",
       "      <td>-2.239261</td>\n",
       "      <td>-4.658016</td>\n",
       "    </tr>\n",
       "  </tbody>\n",
       "</table>\n",
       "<p>6 rows × 25 columns</p>\n",
       "</div>"
      ],
      "text/plain": [
       "                 0         1         2         3         4          5   \\\n",
       "Intercept  1.144338  0.728494  1.344542  0.947818  0.914008   0.369481   \n",
       "market     5.422336  5.300095  7.353962  3.986051  5.370759   8.740953   \n",
       "factor0    7.544079  6.948888  5.629382  8.568234  4.426546  10.552209   \n",
       "factor1   -0.192218  2.230087  2.396064  3.664077  1.630518  -0.738462   \n",
       "factor2   -1.242570  1.091525 -1.771181  2.339222  0.480764   1.668297   \n",
       "factor3    3.375210 -1.442743  1.517856 -1.066703 -0.816087   0.002470   \n",
       "\n",
       "                  6          7          8         9   ...        15  \\\n",
       "Intercept   1.157930   1.534483   2.781025  1.430106  ...  0.596463   \n",
       "market     11.580690  13.134421  11.184760  8.806210  ...  8.361505   \n",
       "factor0    11.157223  12.208422  10.366560  7.745851  ...  5.889344   \n",
       "factor1     1.313258   1.532129   1.164008  4.175904  ... -4.621540   \n",
       "factor2     2.519752   1.744511   1.865975  2.272361  ... -0.381189   \n",
       "factor3    -1.688400  -0.011566  -1.015485 -1.914188  ... -2.321266   \n",
       "\n",
       "                  16         17         18        19        20         21  \\\n",
       "Intercept   0.366414   1.245542   1.590644  1.346815  1.252161   0.105299   \n",
       "market     11.160661  13.625979  12.486006  8.764019  9.688260  11.240397   \n",
       "factor0     8.950670  11.268681   9.246530  5.294948  0.261108   2.825320   \n",
       "factor1    -2.774198   1.741662   2.334001  4.769574 -7.937622  -2.636270   \n",
       "factor2     0.662408   0.770919   2.452012  1.924002  1.129836   3.094015   \n",
       "factor3    -2.211324  -0.865142  -2.008791 -2.046377 -5.338245  -4.105527   \n",
       "\n",
       "                  22         23        24  \n",
       "Intercept   1.207154   0.427658 -0.275734  \n",
       "market     10.384414  12.699094  9.207374  \n",
       "factor0     1.848862   2.454187 -0.273689  \n",
       "factor1    -1.206138   3.610417  6.644331  \n",
       "factor2     2.472502   1.237672  3.242507  \n",
       "factor3    -4.337982  -2.239261 -4.658016  \n",
       "\n",
       "[6 rows x 25 columns]"
      ]
     },
     "execution_count": 163,
     "metadata": {},
     "output_type": "execute_result"
    }
   ],
   "source": [
    "pd.concat(tvalues, axis=1)"
   ]
  },
  {
   "cell_type": "code",
   "execution_count": 160,
   "metadata": {},
   "outputs": [
    {
     "data": {
      "text/plain": [
       "[0.5640928533838516,\n",
       " 0.7351187660600726,\n",
       " 0.6623672729374508,\n",
       " 0.7284448194396365,\n",
       " 0.6214191179872637,\n",
       " 0.8315968680481619,\n",
       " 0.8901411076523956,\n",
       " 0.894444023587854,\n",
       " 0.8730396285149936,\n",
       " 0.83025202217042,\n",
       " 0.8316813131898545,\n",
       " 0.9043137473116359,\n",
       " 0.9008976187500319,\n",
       " 0.8985763583806846,\n",
       " 0.8680417411465412,\n",
       " 0.8264100395853473,\n",
       " 0.882436692769221,\n",
       " 0.9026549985018738,\n",
       " 0.8865023220790371,\n",
       " 0.8002107395403889,\n",
       " 0.8379444683067706,\n",
       " 0.8395781932716608,\n",
       " 0.8223831808787917,\n",
       " 0.8384647945560972,\n",
       " 0.8127217552955495]"
      ]
     },
     "execution_count": 160,
     "metadata": {},
     "output_type": "execute_result"
    }
   ],
   "source": [
    "r"
   ]
  }
 ],
 "metadata": {
  "kernelspec": {
   "display_name": "Python 3",
   "language": "python",
   "name": "python3"
  },
  "language_info": {
   "codemirror_mode": {
    "name": "ipython",
    "version": 3
   },
   "file_extension": ".py",
   "mimetype": "text/x-python",
   "name": "python",
   "nbconvert_exporter": "python",
   "pygments_lexer": "ipython3",
   "version": "3.8.5"
  }
 },
 "nbformat": 4,
 "nbformat_minor": 4
}
