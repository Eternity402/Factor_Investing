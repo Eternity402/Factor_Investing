{
 "cells": [
  {
   "cell_type": "code",
   "execution_count": 1,
   "metadata": {},
   "outputs": [],
   "source": [
    "# import library\n",
    "import pickle, os\n",
    "import pandas as pd\n",
    "import numpy as np\n",
    "import tqdm.notebook as tqdm\n",
    "import copy\n",
    "from scipy.stats.mstats import winsorize\n",
    "from statsmodels.formula.api import ols\n",
    "\n",
    "os.chdir('C:\\\\Users\\\\lyoo9\\\\_Moggle-Labs')\n",
    "# # Data Download\n",
    "with open('FS_손익계산서보정본', 'rb') as f:\n",
    "    data = pickle.load(f)\n",
    "\n",
    "with open('Final_FS_ind', 'rb') as f:\n",
    "    ind = pickle.load(f)\n",
    "\n",
    "# 특정 자산만 뽑아서 csv로 정리하기\n",
    "def get_item(concept_id):\n",
    "    item = []\n",
    "    item_ind = []\n",
    "    # check id's address\n",
    "    id_address = None\n",
    "    for i in range(len(data)):\n",
    "        for j in range(3):\n",
    "            try:\n",
    "                if concept_id in data[i][j].iloc[:,0].values:\n",
    "                    id_address = j\n",
    "            except AttributeError:\n",
    "                pass\n",
    "        if id_address != None:\n",
    "            break\n",
    "            \n",
    "    for i in range(len(data)):\n",
    "        if type(data[i][id_address]) == type(data[0][id_address]):\n",
    "            item.append(data[i][id_address][data[i][id_address][data[i][id_address].columns[0]] == concept_id].iloc[:1])\n",
    "            if len(data[i][id_address][data[i][id_address][data[i][id_address].columns[0]] == concept_id]) > 0:\n",
    "                item_ind.append(ind[i])\n",
    "    df_item = pd.concat(item)\n",
    "    date = list(filter(lambda x: x[1] == ('연결재무제표',), df_item.columns))\n",
    "    if id_address ==0:\n",
    "        date_clean = list(map(lambda x: x[0], df_item[date].columns))\n",
    "        df_item[date].columns = date_clean\n",
    "        df_item2 = df_item[date]\n",
    "        df_item2.columns = date_clean\n",
    "        date_shifted = list(map(lambda x: shift_q(x), date_clean))\n",
    "        df_item3 = df_item2\n",
    "        df_item3.columns = date_shifted\n",
    "        df_item4 = df_item3.groupby(level=0, axis=1).last()\n",
    "        df_item3 = df_item4\n",
    "        date_shifted2 = list(map(lambda x: shift_d(x), df_item4.columns))\n",
    "        df_item3.columns = date_shifted2\n",
    "        df_item5 = df_item3.groupby(level=0, axis=1).last()\n",
    "        corp_code = list(map(lambda x:x[2], item_ind))\n",
    "        df_item5['corp_code'] = corp_code\n",
    "        df_item5 = df_item5.set_index('corp_code')\n",
    "    else:\n",
    "        date_clean = list(map(lambda x: x[0], df_item[date].columns))\n",
    "        df_item[date].columns = date_clean\n",
    "        df_item2 = df_item[date]\n",
    "        df_item2.columns = date_clean\n",
    "        date_shifted = list(map(lambda x: shift_flow_date(x), date_clean))\n",
    "        df_item2.columns = date_shifted\n",
    "        df_item3 = df_item2.groupby(level=0, axis=1).last()\n",
    "        corp_code = list(map(lambda x:x[2], item_ind))\n",
    "        df_item3['corp_code'] = corp_code\n",
    "        df_item3 = df_item3.set_index('corp_code')\n",
    "        df_item5 = df_item3\n",
    "    return df_item5\n",
    "\n",
    "def shift_q(date):\n",
    "    if date[4:6]=='01' or date[4:6]=='02':\n",
    "        date = date[:4] + '0331'\n",
    "    elif date[4:6]=='04' or date[4:6]=='05':\n",
    "        date = date[:4] + '0630'\n",
    "    elif date[4:6]=='07' or date[4:6]=='08':\n",
    "        date = date[:4] + '0930'\n",
    "    elif date[4:6]=='10' or date[4:6]=='11':\n",
    "        date = date[:4] + '1231'\n",
    "    return date\n",
    "\n",
    "def shift_d(date):\n",
    "    # 케이스 두개 밖에 안되니까 그냥 수동으로 따져주자.\n",
    "    if date[6:]=='01':\n",
    "        date = date[:6] + '31'\n",
    "    elif date[6:]=='29':\n",
    "        date = date[:6] + '30'\n",
    "    return date\n",
    "\n",
    "def shift_flow_date(date):\n",
    "    # 우선은 연간 데이터만 활용하도록 만들어놓아도 될 듯? 나중에 분기별로 뽑을 수 있는 옵션을 추가해야 할 것 같다.\n",
    "    if date[4:6]=='01' and date[-4:-2]=='12':\n",
    "        date = date[-8:-2] + '31'\n",
    "    else:\n",
    "        date = None\n",
    "    return date\n",
    "\n",
    "def get_item_on_date(item, date):\n",
    "    return get_item(item)[date]\n",
    "\n",
    "def get_item_for_period(item, date_from, date_to, term = 'Y'):\n",
    "    # term은 Y, H, Q의 세 가지 옵션으로, 연도별, 반기별, 분기별 데이터를 얻어올 수 있도록 하는 옵션이다.\n",
    "    data = []\n",
    "    item_data = get_item(item)\n",
    "    if term == 'Y':\n",
    "        num = int(date_to[:4]) - int(date_from[:4]) +1\n",
    "        date_working = date_from\n",
    "        for i in range(num):\n",
    "            data.append(item_data[date_working])\n",
    "            date_working = date_working[:2] + str(int(date_working[2:4]) + 1) + date_working[4:]\n",
    "            \n",
    "    elif term == 'H':\n",
    "        num = int((int(date_to[:4]) - int(date_from[:4])) * 2 + (int(date_to[4:6]) - int(date_from[4:6]))/6 + 1)\n",
    "        date_working = date_from\n",
    "        for i in range(num):\n",
    "            try:\n",
    "                data.append(item_data[date_working])\n",
    "            except:\n",
    "                try:\n",
    "                    date_working = date_working[:6] + str(61 - int(date_working[6:]))\n",
    "                    data.append(item_data[date_working])\n",
    "                except KeyError:\n",
    "                    print('해당 날짜의 데이터가 없습니다:', date_working)\n",
    "            if int(date_working[4:6])+6 > 12:\n",
    "                date_working = date_working[:2] + str(int(date_working[2:4]) + 1) +'0'+ str(int(date_working[4:6])-6)+'31'\n",
    "            else:\n",
    "                date_working = date_working[:4] + str(int(date_working[4:6]) + 6).zfill(2) + '31'\n",
    "                \n",
    "    else:\n",
    "        num = int((int(date_to[:4]) - int(date_from[:4])) * 4 + (int(date_to[4:6]) - int(date_from[4:6]))/3 + 1)\n",
    "        date_working = date_from\n",
    "        for i in range(num):\n",
    "            try:\n",
    "                data.append(item_data[date_working])\n",
    "            except:\n",
    "                try:\n",
    "                    date_working = date_working[:6] + str(61 - int(date_working[6:]))\n",
    "                    data.append(item_data[date_working])\n",
    "                except KeyError:\n",
    "                    print('해당 날짜의 데이터가 없습니다:', date_working)\n",
    "            if int(date_working[4:6])+3 > 12:\n",
    "                date_working = date_working[:2] + str(int(date_working[2:4]) + 1) +'0331'\n",
    "            else:\n",
    "                date_working = date_working[:4] + str(int(date_working[4:6]) + 3).zfill(2) + '31'\n",
    "                \n",
    "    data = pd.concat(data, axis = 1)\n",
    "    return data\n",
    "\n",
    "os.chdir('C:\\\\Users\\\\lyoo9\\\\_System Trading\\\\Backend\\\\KRX_price')\n",
    "def get_market_data_on_date(date, print_error = True):\n",
    "    # 에러 메시지를 출력하고 싶지 않으면 print_error를 False로 설정\n",
    "    try:\n",
    "        data = pd.read_csv(date[2:4] + '_' + str(int(date[4:6])) + '_' + str(int(date[6:8])) + '.csv', encoding = 'cp949')\n",
    "        data['종목코드'] = data['종목코드'].map(lambda x:str(x).zfill(6) if x != None else None)\n",
    "        if data.isna()['종가'].sum() == len(data):\n",
    "            raise FileNotFoundError\n",
    "    except FileNotFoundError:\n",
    "        if print_error:\n",
    "            print('해당 날짜의 데이터가 존재하지 않습니다:', date)\n",
    "        data = None\n",
    "    return data\n",
    "\n",
    "def get_market_cap_on_date(date, get_code = False):\n",
    "    if get_code:\n",
    "        data = get_market_data_on_date(date)[['종목코드','시장구분','시가총액']].set_index('종목코드')\n",
    "        data.columns = [['시장구분','Market_Cap']]\n",
    "    else:\n",
    "        data = get_market_data_on_date(date)[['종목코드','시가총액']].set_index('종목코드')\n",
    "        data.columns = [['Market_Cap']]\n",
    "    data.index.rename('corp_code', inplace = True)\n",
    "    return data\n",
    "\n",
    "def last_market_date(date):\n",
    "    # date의 기본형식은 'YYYYMM' : ex)'201212'. -> 'YYYYMMDD'도 가능하도록 코드 변경했음\n",
    "    get_data = False\n",
    "    day = 31\n",
    "    while not get_data:\n",
    "        if type(get_market_data_on_date(date[:6] + str(day), print_error = False)) != type(None):\n",
    "            market_date = date[:6] + str(day)\n",
    "            get_data = True\n",
    "        else:\n",
    "            day -=1\n",
    "    return market_date\n",
    "\n",
    "def find_next_market_date(date, today_opt = False):\n",
    "    get_data = False\n",
    "    if today_opt:\n",
    "        market_date = pd.Timestamp(date)\n",
    "    else:\n",
    "        market_date = pd.Timestamp(date) + pd.Timedelta(days=1)\n",
    "    while not get_data:\n",
    "        if type(get_market_data_on_date(market_date.strftime('%Y%m%d'), print_error = False)) != type(None):\n",
    "            get_data = True\n",
    "        else:\n",
    "            market_date += pd.Timedelta(days=1)\n",
    "    \n",
    "    return market_date.strftime('%Y%m%d')\n",
    "\n",
    "def get_market_cap_for_period(date_from, date_to, term = 'Y', ind_match = True):\n",
    "    # ind_match는 fundamental과 합치기 편하도록 실제 날짜가 아니라 월말 날짜를 표시하도록 하는 옵션\n",
    "    data = []\n",
    "    ind = []\n",
    "    if term == 'Y':\n",
    "        num = int(date_to[:4]) - int(date_from[:4]) +1\n",
    "        date_working = date_from\n",
    "        for i in range(num):\n",
    "            data.append(get_market_cap_on_date(last_market_date(date_working), get_code = True))\n",
    "            if ind_match:\n",
    "                ind.append(date_working)\n",
    "            else:\n",
    "                ind.append(last_market_date(date_working))\n",
    "            date_working = date_working[:2] + str(int(date_working[2:4]) + 1) + date_working[4:]\n",
    "            \n",
    "    elif term == 'H':\n",
    "        num = int((int(date_to[:4]) - int(date_from[:4])) * 2 + (int(date_to[4:6]) - int(date_from[4:6]))/6 + 1)\n",
    "        date_working = date_from\n",
    "        for i in range(num):\n",
    "            data.append(get_market_cap_on_date(last_market_date(date_working), get_code = True))\n",
    "            if ind_match:\n",
    "                ind.append(date_working)\n",
    "            else:\n",
    "                ind.append(last_market_date(date_working))\n",
    "            if int(date_working[4:6])+6 > 12:\n",
    "                date_working = date_working[:2] + str(int(date_working[2:4]) + 1) +'0'+ str(int(date_working[4:6])-6)+'31'\n",
    "            else:\n",
    "                date_working = date_working[:4] + str(int(date_working[4:6]) + 6).zfill(2) + '31'\n",
    "                \n",
    "    else:\n",
    "        num = int((int(date_to[:4]) - int(date_from[:4])) * 4 + (int(date_to[4:6]) - int(date_from[4:6]))/3 + 1)\n",
    "        date_working = date_from\n",
    "        for i in range(num):\n",
    "            data.append(get_market_cap_on_date(last_market_date(date_working), get_code = True))\n",
    "            if ind_match:\n",
    "                ind.append(date_working)\n",
    "            else:\n",
    "                ind.append(last_market_date(date_working))\n",
    "            if int(date_working[4:6])+3 > 12:\n",
    "                date_working = date_working[:2] + str(int(date_working[2:4]) + 1) +'0331'\n",
    "            else:\n",
    "                date_working = date_working[:4] + str(int(date_working[4:6]) + 3).zfill(2) + '31'\n",
    "    cap_data = [x.iloc[:,1] for x in data]\n",
    "    cat_data = [x.iloc[:,0] for x in data]\n",
    "    cap_data = pd.concat(cap_data, axis =1)\n",
    "    cap_data.columns = ind\n",
    "    cat_data = pd.concat(cat_data, axis =1)\n",
    "    cat_data.columns = ind\n",
    "    return cap_data, cat_data\n",
    "\n",
    "def get_market_category(data):\n",
    "    market_cat = []\n",
    "    for i in range(len(data.columns)):\n",
    "        market_cat.append(get_market_cap_on_date(last_market_date(data.columns[i]), get_code = True).iloc[:,0])\n",
    "    market_cat = pd.concat(market_cat, axis=1)\n",
    "    market_cat.columns = data.columns\n",
    "    return market_cat\n",
    "\n",
    "def get_breakpoint(data, breakpoint):\n",
    "    absolute_point = []\n",
    "    rank = data.rank(pct=True)\n",
    "    for i in range(len(breakpoint)):\n",
    "        absolute_point.append((data[rank < breakpoint[i]].max() + data[rank > breakpoint[i]].min())/2)\n",
    "    return absolute_point\n",
    "\n",
    "def get_mask(data, market_cat = None, market_bp = 'All', breakpoint: list = [0.5]):\n",
    "    # data는 mask의 기준이 되는 baseline data\n",
    "    # market_bp는 'ALL', 'KOSPI', 'KOSDAQ'으로, 기준이 되는 breakpoint의 market을 의미\n",
    "    # breakpoint는 masking의 구분점으로, list안에 float이 담긴 형태를 받음\n",
    "    breakpoint = np.sort(breakpoint)\n",
    "    mask_list = []\n",
    "    \n",
    "    data_ind = data.index\n",
    "    if type(market_cat) != type(None):\n",
    "        market_cat = market_cat[market_cat.index.map(lambda x: x in data.index)]\n",
    "        for i in range(len(data)):\n",
    "            if data_ind[i] not in market_cat.index:\n",
    "                market_cat.loc[data_ind[i]] = None\n",
    "        market_cat = market_cat.reindex(index = data.index)\n",
    "    for i in range(len(data.columns)):\n",
    "        mask = data.iloc[:,i] * 0 +1\n",
    "        mask_np = -np.ones(len(mask))\n",
    "        #rank = data.iloc[:,i].rank(pct = True)\n",
    "        if market_bp == 'All':\n",
    "            absolute_point = get_breakpoint(data.iloc[:,i], breakpoint)\n",
    "        if market_bp == 'KOSPI':\n",
    "            absolute_point = get_breakpoint(data[market_cat.iloc[:,i]=='KOSPI'].iloc[:,i], breakpoint)\n",
    "        if market_bp == 'KOSDAQ':\n",
    "            absolute_point = get_breakpoint(data[market_cat.iloc[:,i]=='KOSDAQ'].iloc[:,i], breakpoint)\n",
    "        for j in range(len(breakpoint)+1):\n",
    "            if j < len(breakpoint):\n",
    "                for k in range(len(mask)):\n",
    "                    mask_np[k] = j if data.iloc[k,i] < absolute_point[j] and mask_np[k] == -1 else mask_np[k]\n",
    "            else:\n",
    "                for k in range(len(mask)):\n",
    "                    mask_np[k] = j if data.iloc[k,i] > absolute_point[j-1] and mask_np[k] == -1 else mask_np[k]\n",
    "        mask = mask * mask_np\n",
    "        mask_list.append(mask)\n",
    "    mask_df = pd.concat(mask_list, axis =1)\n",
    "    return mask_df\n",
    "\n",
    "def shift_date_quarter(data, num_of_quarters):\n",
    "    # data의 date를 원하는 만큼 밀어줌.\n",
    "    dates = data.columns\n",
    "    years = [int(x[:4]) for x in dates]\n",
    "    months = [int(x[4:6]) for x in dates]\n",
    "    shifted_months = [x + num_of_quarters * 3 for x in months]\n",
    "    shifted_years = [x + (shifted_months[i]-1) // 12 for i, x in enumerate(years)]\n",
    "    shifted_months = [(x -1) % 12 +1 for x in shifted_months]\n",
    "    dates = [str(shifted_years[i]) + str(shifted_months[i]).zfill(2)+ '30' if shifted_months[i] in [6, 9] else str(shifted_years[i]) + str(shifted_months[i]).zfill(2)+ '31' for i in np.arange(len(years))]\n",
    "    data2 = copy.deepcopy(data)\n",
    "    data2.columns = dates\n",
    "    return data2\n",
    " \n",
    "def get_factor_on_date_by_mask(mask, term = 'd', winsorize_limits = 0.01, weight = 'EW'):\n",
    "    # @@@@@@@@@@@ option 추가해야할듯! : daily / weekly / monthly / quarterly 정도까지는 구현을 해놓아야할듯\n",
    "    # monthly 계산할 때 첫 달은 어떻게 계산하는거지? 전달 말일 기준으로 계산하나? 아니면 해당 달 시초가 기준으로 계산하나?\n",
    "    # -> 우선 첫 달은 시가 기준, 이후로는 전달 말일에 리밸런싱 하는 걸 기준으로 계산했음. \n",
    "    term_conservative = pd.Timestamp(mask.columns[1]) - pd.Timestamp(mask.columns[0]) - pd.Timedelta(days = 7)\n",
    "    if pd.Timestamp(mask.columns[-1]) + term_conservative >  pd.Timestamp('20210630'):\n",
    "        date_to = pd.Timestamp('20210630')\n",
    "    else:\n",
    "        date_to = pd.Timestamp(last_market_date((pd.Timestamp(mask.columns[-1]) + term_conservative).strftime('%Y%m%d')))\n",
    "    date_from = pd.Timestamp(mask.columns[0])\n",
    "    factor_days = (date_to - date_from).days\n",
    "    factor_months = (date_to.year - date_from.year)*12 + (date_to.month - date_from.month)\n",
    "    \n",
    "    date_point = date_from.strftime('%Y%m%d')\n",
    "    # this is for storing the last date\n",
    "    date_point_marked = None\n",
    "    \n",
    "    total_factor = []\n",
    "    date_list = []\n",
    "    \n",
    "    if term == 'd':\n",
    "        flag = -1\n",
    "#         for _ in range(factor_days):\n",
    "        for _ in tqdm.tqdm(range(10)):\n",
    "            if pd.Timestamp(find_next_market_date(date_point)) > pd.Timestamp(mask.columns[flag+1]):\n",
    "                flag+=1\n",
    "                c_mask = mask.iloc[:,flag]\n",
    "            date_point_marked = date_point\n",
    "            first = get_market_data_on_date(date_point_marked, print_error = False).loc[:,['종목코드', '종가', '시가총액', '등락률']]\n",
    "            date_point = find_next_market_date(date_point_marked)\n",
    "            second = get_market_data_on_date(date_point, print_error = False).loc[:,['종목코드', '종가', '시가총액', '등락률']]\n",
    "            date_list.append(date_point)\n",
    "            return_list = [[] for x in np.arange(mask.max()[0]+1)]\n",
    "            value_list = [[] for x in np.arange(mask.max()[0]+1)]\n",
    "            for i in range(len(first)):\n",
    "                if first.iloc[i,0] in c_mask.index and c_mask.notna().loc[first.iloc[i,0]]:\n",
    "                    if second.notna()[second['종목코드'] == first.iloc[i,0]].iloc[0,0]:\n",
    "                        return_list[int(c_mask.loc[first.iloc[i,0]])].append(second[second['종목코드'] == first.iloc[i,0]].iloc[0,3])\n",
    "                    else:\n",
    "                        return_list[int(c_mask.loc[first.iloc[i,0]])].append(-0.99)\n",
    "                    value_list[int(c_mask.loc[first.iloc[i,0]])].append(first.iloc[i,2])\n",
    "                    \n",
    "            if weight == 'VW':\n",
    "                for i in range(len(return_list)):\n",
    "                    # len을 곱해준 건 나중에 mean에서 EW와 같은 형태로 들어가게 하도록 하기 위함.\n",
    "                    return_list[i] *= value_list[i]/ np.sum(value_list[i]) * len(value_list[i])\n",
    "                    \n",
    "            # winsorize\n",
    "            if winsorize_limits > 0:\n",
    "                for i in range(len(return_list)):\n",
    "                    return_list[i] = winsorize(return_list[i], limits = winsorize_limits)\n",
    "                \n",
    "            factor = [np.mean(x) for x in return_list]\n",
    "            total_factor.append(factor)\n",
    "        return pd.DataFrame(total_factor, index = date_list)\n",
    "    elif term == 'm':\n",
    "        flag = -1\n",
    "        for _ in tqdm.tqdm(range(factor_months)):\n",
    "            if flag +1 == mask.shape[1]:\n",
    "                c_mask = mask.iloc[:,flag]\n",
    "                date_point_marked = date_point\n",
    "                first = (get_market_data_on_date(date_point_marked, print_error = False).loc[:,['종목코드', '시가', '시가총액', '등락률']]).set_index('종목코드')\n",
    "                c_mask = c_mask.loc[list(filter(lambda x: x in first.index, c_mask[c_mask.notna()].index))]\n",
    "            elif pd.Timestamp(find_next_market_date(date_point)) > pd.Timestamp(mask.columns[flag+1]):\n",
    "                flag+=1\n",
    "                c_mask = mask.iloc[:,flag]\n",
    "                date_point_marked = last_market_date(date_point)\n",
    "                first = (get_market_data_on_date(date_point_marked, print_error = False).loc[:,['종목코드', '시가', '시가총액', '등락률']]).set_index('종목코드')\n",
    "                c_mask = c_mask.loc[list(filter(lambda x: x in first.index, c_mask[c_mask.notna()].index))]\n",
    "            else:\n",
    "                date_point_marked = date_point\n",
    "                first = (get_market_data_on_date(date_point_marked, print_error = False).loc[:,['종목코드', '종가', '시가총액', '등락률']]).set_index('종목코드')\n",
    "            \n",
    "            # 통일된 수식으로 flag가 바뀐 경우의 말일을 계산할 수 있음\n",
    "            date_point = last_market_date(find_next_market_date(date_point_marked))\n",
    "            second = (get_market_data_on_date(date_point, print_error = False).loc[:,['종목코드', '종가', '시가총액', '등락률']]).set_index('종목코드')\n",
    "            date_list.append(date_point[:6])\n",
    "            return_value = get_market_return_for_period(date_point_marked, date_point)\n",
    "            return_list = []\n",
    "            value_list = []\n",
    "            for i in range(int(mask.max()[0]+1)):\n",
    "                return_list.append(return_value.loc[c_mask[c_mask == i].index].loc[:,['등락률']].values)\n",
    "                value_list.append(return_value.loc[c_mask[c_mask == i].index].loc[:,['시가총액']].values)\n",
    "            c_mask.drop(list(set(c_mask.index) - set(second.index)), inplace=True)\n",
    "            if weight == 'VW':\n",
    "                for i in range(len(return_list)):\n",
    "                    # len을 곱해준 건 나중에 mean에서 EW와 같은 형태로 들어가게 하도록 하기 위함.\n",
    "                    return_list[i] *= value_list[i]/ np.sum(value_list[i]) * len(value_list[i])\n",
    "            # winsorize\n",
    "            if winsorize_limits > 0:\n",
    "                for i in range(len(return_list)):\n",
    "                    return_list[i] = winsorize(return_list[i], limits = winsorize_limits)\n",
    "            factor = [np.mean(x) for x in return_list]\n",
    "            total_factor.append(factor)\n",
    "        return pd.DataFrame(total_factor, index = date_list)"
   ]
  },
  {
   "cell_type": "code",
   "execution_count": 2,
   "metadata": {},
   "outputs": [],
   "source": [
    "def get_factor_on_date_by_mask2(mask, term = 'd', winsorize_limits = 0.01, weight = 'EW'):\n",
    "    # @@@@@@@@@@@ option 추가해야할듯! : daily / weekly / monthly / quarterly 정도까지는 구현을 해놓아야할듯\n",
    "    # monthly 계산할 때 첫 달은 어떻게 계산하는거지? 전달 말일 기준으로 계산하나? 아니면 해당 달 시초가 기준으로 계산하나?\n",
    "    # -> 우선 첫 달은 시가 기준, 이후로는 전달 말일에 리밸런싱 하는 걸 기준으로 계산했음. \n",
    "    term_conservative = pd.Timestamp(mask.columns[1]) - pd.Timestamp(mask.columns[0]) - pd.Timedelta(days = 7)\n",
    "    if pd.Timestamp(mask.columns[-1]) + term_conservative >  pd.Timestamp('20210630'):\n",
    "        date_to = pd.Timestamp('20210630')\n",
    "    else:\n",
    "        date_to = pd.Timestamp(last_market_date((pd.Timestamp(mask.columns[-1]) + term_conservative).strftime('%Y%m%d')))\n",
    "    date_from = pd.Timestamp(mask.columns[0])\n",
    "    factor_days = (date_to - date_from).days\n",
    "    factor_months = (date_to.year - date_from.year)*12 + (date_to.month - date_from.month)\n",
    "    \n",
    "    date_point = date_from.strftime('%Y%m%d')\n",
    "    # this is for storing the last date\n",
    "    date_point_marked = None\n",
    "    \n",
    "    total_factor = []\n",
    "    date_list = []\n",
    "    \n",
    "    if term == 'd':\n",
    "        flag = -1\n",
    "#         for _ in range(factor_days):\n",
    "        for _ in tqdm.tqdm(range(10)):\n",
    "            if pd.Timestamp(find_next_market_date(date_point)) > pd.Timestamp(mask.columns[flag+1]):\n",
    "                flag+=1\n",
    "                c_mask = mask.iloc[:,flag]\n",
    "            date_point_marked = date_point\n",
    "            first = get_market_data_on_date(date_point_marked, print_error = False).loc[:,['종목코드', '종가', '시가총액', '등락률']]\n",
    "            date_point = find_next_market_date(date_point_marked)\n",
    "            second = get_market_data_on_date(date_point, print_error = False).loc[:,['종목코드', '종가', '시가총액', '등락률']]\n",
    "            date_list.append(date_point)\n",
    "            return_list = [[] for x in np.arange(mask.max()[0]+1)]\n",
    "            value_list = [[] for x in np.arange(mask.max()[0]+1)]\n",
    "            for i in range(len(first)):\n",
    "                if first.iloc[i,0] in c_mask.index and c_mask.notna().loc[first.iloc[i,0]]:\n",
    "                    if second.notna()[second['종목코드'] == first.iloc[i,0]].iloc[0,0]:\n",
    "                        return_list[int(c_mask.loc[first.iloc[i,0]])].append(second[second['종목코드'] == first.iloc[i,0]].iloc[0,3])\n",
    "                    else:\n",
    "                        return_list[int(c_mask.loc[first.iloc[i,0]])].append(-0.99)\n",
    "                    value_list[int(c_mask.loc[first.iloc[i,0]])].append(first.iloc[i,2])\n",
    "                    \n",
    "            if weight == 'VW':\n",
    "                for i in range(len(return_list)):\n",
    "                    # len을 곱해준 건 나중에 mean에서 EW와 같은 형태로 들어가게 하도록 하기 위함.\n",
    "                    return_list[i] *= value_list[i]/ np.sum(value_list[i]) * len(value_list[i])\n",
    "                    \n",
    "            # winsorize\n",
    "            if winsorize_limits > 0:\n",
    "                for i in range(len(return_list)):\n",
    "                    return_list[i] = winsorize(return_list[i], limits = winsorize_limits)\n",
    "                \n",
    "            factor = [np.mean(x) for x in return_list]\n",
    "            total_factor.append(factor)\n",
    "        return pd.DataFrame(total_factor, index = date_list)\n",
    "    elif term == 'm':\n",
    "        flag = -1\n",
    "        for _ in tqdm.tqdm(range(factor_months)):\n",
    "            if flag +1 == mask.shape[1]:\n",
    "                c_mask = mask.iloc[:,flag]\n",
    "                date_point_marked = date_point\n",
    "                first = (get_market_data_on_date(date_point_marked, print_error = False).loc[:,['종목코드', '시가', '시가총액', '등락률']]).set_index('종목코드')\n",
    "                c_mask = c_mask.loc[list(filter(lambda x: x in first.index, c_mask[c_mask.notna()].index))]\n",
    "            elif pd.Timestamp(find_next_market_date(date_point)) > pd.Timestamp(mask.columns[flag+1]):\n",
    "                flag+=1\n",
    "                c_mask = mask.iloc[:,flag]\n",
    "                date_point_marked = last_market_date(date_point)\n",
    "                first = (get_market_data_on_date(date_point_marked, print_error = False).loc[:,['종목코드', '시가', '시가총액', '등락률']]).set_index('종목코드')\n",
    "                c_mask = c_mask.loc[list(filter(lambda x: x in first.index, c_mask[c_mask.notna()].index))]\n",
    "            else:\n",
    "                date_point_marked = date_point\n",
    "                first = (get_market_data_on_date(date_point_marked, print_error = False).loc[:,['종목코드', '종가', '시가총액', '등락률']]).set_index('종목코드')\n",
    "            \n",
    "            # 통일된 수식으로 flag가 바뀐 경우의 말일을 계산할 수 있음\n",
    "            date_point = last_market_date(find_next_market_date(date_point_marked))\n",
    "            second = (get_market_data_on_date(date_point, print_error = False).loc[:,['종목코드', '종가', '시가총액', '등락률']]).set_index('종목코드')\n",
    "            date_list.append(date_point[:6])\n",
    "            return_value = get_market_return_for_period2(date_point_marked, date_point)\n",
    "            return_list = []\n",
    "            value_list = []\n",
    "            for i in range(int(mask.max()[0]+1)):\n",
    "                return_list.append(return_value.loc[c_mask[c_mask == i].index].loc[:,['등락률']].values)\n",
    "                value_list.append(return_value.loc[c_mask[c_mask == i].index].loc[:,['시가총액']].values)\n",
    "            c_mask.drop(list(set(c_mask.index) - set(second.index)), inplace=True)\n",
    "            if weight == 'VW':\n",
    "                for i in range(len(return_list)):\n",
    "                    # len을 곱해준 건 나중에 mean에서 EW와 같은 형태로 들어가게 하도록 하기 위함.\n",
    "                    return_list[i] *= value_list[i]/ np.sum(value_list[i]) * len(value_list[i])\n",
    "            # winsorize\n",
    "            if winsorize_limits > 0:\n",
    "                for i in range(len(return_list)):\n",
    "                    return_list[i] = winsorize(return_list[i], limits = winsorize_limits)\n",
    "            factor = [np.mean(x) for x in return_list]\n",
    "            total_factor.append(factor)\n",
    "        return pd.DataFrame(total_factor, index = date_list)"
   ]
  },
  {
   "cell_type": "markdown",
   "metadata": {},
   "source": [
    "# extract all monthly market_return (Make it fast)"
   ]
  },
  {
   "cell_type": "code",
   "execution_count": 5,
   "metadata": {},
   "outputs": [
    {
     "data": {
      "application/vnd.jupyter.widget-view+json": {
       "model_id": "39a05fb483e240d3be8a560759a455d6",
       "version_major": 2,
       "version_minor": 0
      },
      "text/plain": [
       "HBox(children=(HTML(value=''), FloatProgress(value=0.0, max=246.0), HTML(value='')))"
      ]
     },
     "metadata": {},
     "output_type": "display_data"
    },
    {
     "name": "stdout",
     "output_type": "stream",
     "text": [
      "\n"
     ]
    }
   ],
   "source": [
    "start = '20010101'\n",
    "total_mr = []\n",
    "mr_date = []\n",
    "for i in tqdm.tqdm(range(246)):\n",
    "    start = last_market_date(start)\n",
    "    end = last_market_date(find_next_market_date(start))\n",
    "    tobe = get_market_return_for_period(start, end)\n",
    "    mr_date.append(end)\n",
    "    total_mr.append(tobe)\n",
    "    start = find_next_market_date(start)"
   ]
  },
  {
   "cell_type": "code",
   "execution_count": 6,
   "metadata": {},
   "outputs": [],
   "source": [
    "def get_market_return_for_period2(date_from, date_to):\n",
    "    return total_mr[mr_date.index(date_to)]"
   ]
  },
  {
   "cell_type": "code",
   "execution_count": 4,
   "metadata": {},
   "outputs": [],
   "source": [
    "def get_market_return_for_period(date_from, date_to):\n",
    "    first = get_market_data_on_date(find_next_market_date(date_from, today_opt = True), print_error = False).loc[:, ['종목코드', '종가', '시가총액']].set_index('종목코드')\n",
    "    df = pd.DataFrame()\n",
    "    flag = find_next_market_date(date_from, today_opt = True)\n",
    "    while flag != date_to:\n",
    "        flag = find_next_market_date(flag)\n",
    "        df = pd.concat([df, get_market_data_on_date(flag, print_error = False).loc[:,['종목코드', '등락률']].set_index('종목코드').rename({'등락률':flag}, axis=1)], axis=1)\n",
    "        if flag == date_to:\n",
    "            second = get_market_data_on_date(flag, print_error = False).loc[:, ['종목코드', '종가']].set_index('종목코드')\n",
    "    df = df.applymap(lambda x: (100 + x)/100)\n",
    "    for i in range(len(df.columns)):\n",
    "        if i == 0:\n",
    "            geo_sum = df.iloc[:,i].copy()\n",
    "        else:\n",
    "            geo_sum *= df.values[:,i]\n",
    "    compute_by_price = second['종가'] / first['종가']\n",
    "    # 가정 : 3% 이상 차이가 날 수 없다. 계산상 최대 1프로 정도 차이지만, 좀 갭을 두었음.\n",
    "    final_return = (compute_by_price - geo_sum < 0.03) * compute_by_price + (compute_by_price - geo_sum >= 0.03) * geo_sum\n",
    "    final_return = pd.concat([final_return.loc[first.index].fillna(0.01), first['시가총액']], axis=1).rename({0:'등락률'}, axis=1)\n",
    "    final_return['등락률'] = final_return['등락률'] -1\n",
    "    return final_return"
   ]
  },
  {
   "cell_type": "code",
   "execution_count": 3,
   "metadata": {},
   "outputs": [],
   "source": [
    "def get_momentum(data, before, after):\n",
    "    # before는 기준시점, after는 모멘텀 체크 시점.\n",
    "    # 즉, 12-1 모멘텀 체크를 위해서는 before에 12, after에 1 을 입력하면 된다.\n",
    "    return data.T.pct_change(before - after, fill_method = None).shift(after).iloc[before:,:].T"
   ]
  },
  {
   "cell_type": "code",
   "execution_count": 3,
   "metadata": {},
   "outputs": [],
   "source": [
    "# get momentum\n",
    "def get_momentum_for_period(date_from, date_to, term, before, after):\n",
    "    flag = last_market_date(date_from)\n",
    "    "
   ]
  },
  {
   "cell_type": "markdown",
   "metadata": {},
   "source": [
    "# Pfo Construction"
   ]
  },
  {
   "cell_type": "code",
   "execution_count": 7,
   "metadata": {},
   "outputs": [],
   "source": [
    "def make_portfolio(mask, data, market_bp= 'All', breakpoint=[0.5]):\n",
    "    # 여기서 앞에 들어가는 거는 마스크, 뒤에 들어가는 거는 실제값. \n",
    "    max_num = int(mask.max()[0]+1)\n",
    "    new_df = pd.DataFrame(index = mask.index, columns = mask.columns)\n",
    "    for i in range(len(mask.columns)):\n",
    "        for j in range(max_num):\n",
    "            get_index = list(filter(lambda x: x in data.index, mask.iloc[:,i][mask.iloc[:,i]==j].index))\n",
    "            pfo_mask = get_mask(pd.DataFrame(data.loc[get_index].iloc[:,i]), get_market_category(pd.DataFrame(data.loc[get_index].iloc[:,i])), market_bp, breakpoint)\n",
    "            new_df.iloc[:,i].loc[pfo_mask.index] = pfo_mask.values[:,0]\n",
    "    return new_df\n",
    "\n",
    "def serialize_pfo(mask_list: list):\n",
    "    # 사전식 배열. 앞에서부터 사전식으로 serialize하여 뱉음\n",
    "    serial_num = [x.max().max()+1 for x in mask_list]\n",
    "    for i in reversed(range(len(serial_num)-1)):\n",
    "        serial_num[i] *= serial_num[i+1]\n",
    "    serial_num += [1]\n",
    "    serial_num = serial_num[1:]\n",
    "    serial_elem = [x * mask_list[i] for i, x in enumerate(serial_num)]\n",
    "    for i in range(len(serial_elem)-1):\n",
    "        serial_elem[0] += serial_elem[i+1]\n",
    "    return serial_elem[0]"
   ]
  },
  {
   "cell_type": "markdown",
   "metadata": {},
   "source": [
    "# Regression 해볼 수 있도록 만들기"
   ]
  },
  {
   "cell_type": "code",
   "execution_count": 5,
   "metadata": {},
   "outputs": [],
   "source": [
    "def get_market_return(mask, term = 'd'):\n",
    "    term_conservative = pd.Timestamp(mask.columns[1]) - pd.Timestamp(mask.columns[0]) - pd.Timedelta(days = 7)\n",
    "    if pd.Timestamp(mask.columns[-1]) + term_conservative >  pd.Timestamp('20210630'):\n",
    "        date_to = pd.Timestamp('20210630')\n",
    "    else:\n",
    "        date_to = pd.Timestamp(last_market_date((pd.Timestamp(mask.columns[-1]) + term_conservative).strftime('%Y%m%d')))\n",
    "    date_from = pd.Timestamp(mask.columns[0])\n",
    "    factor_days = (date_to - date_from).days\n",
    "    factor_months = (date_to.year - date_from.year)*12 + (date_to.month - date_from.month)\n",
    "    \n",
    "    date_point = date_from.strftime('%Y%m%d')\n",
    "    # this is for storing the last date\n",
    "    date_point_marked = None\n",
    "    \n",
    "    total_return = []\n",
    "    date_list = []\n",
    "    \n",
    "    if term == 'd':\n",
    "        flag = -1\n",
    "        date_point = find_next_market_date(date_point)\n",
    "        for _ in tqdm.tqdm(range(factor_days)):\n",
    "            if pd.Timestamp(find_next_market_date(date_point)) > pd.Timestamp(mask.columns[flag+1]):\n",
    "                flag+=1\n",
    "                c_mask = mask.iloc[:,flag]\n",
    "            first = get_market_data_on_date(date_point, print_error = False).loc[:,['종목코드', '종가', '시가총액', '등락률']]\n",
    "            date_list.append(date_point)\n",
    "            date_point = find_next_market_date(date_point)\n",
    "            \n",
    "            market_cap = first['시가총액'].sum()\n",
    "            R = first['등락률'] * (first['시가총액'] / market_cap)\n",
    "            total_return.append(R.fillna(0).sum())\n",
    "            \n",
    "        return pd.DataFrame(total_return, index = date_list)\n",
    "    elif term == 'm':\n",
    "        flag = -1\n",
    "        for _ in tqdm.tqdm(range(factor_months)):\n",
    "            if flag +1 == mask.shape[1]:\n",
    "                c_mask = mask.iloc[:,flag]\n",
    "                date_point = find_next_market_date(date_point)\n",
    "                date_point_marked = date_point\n",
    "            elif pd.Timestamp(find_next_market_date(date_point)) > pd.Timestamp(mask.columns[flag+1]):\n",
    "                flag+=1\n",
    "                c_mask = mask.iloc[:,flag]\n",
    "                date_point_marked = last_market_date(date_point)\n",
    "            else:\n",
    "                date_point_marked = date_point\n",
    "            \n",
    "            date_point = last_market_date(find_next_market_date(date_point_marked))\n",
    "            return_value = get_market_return_for_period(date_point_marked, date_point)\n",
    "            date_list.append(date_point[:6])\n",
    "            market_cap = return_value['시가총액'].sum()\n",
    "            R = return_value['등락률'] * (return_value['시가총액'] / market_cap)\n",
    "            \n",
    "            total_return.append(R.replace([np.inf, -np.inf], np.nan).fillna(0).sum())\n",
    "        return pd.DataFrame(total_return, index = date_list)"
   ]
  },
  {
   "cell_type": "code",
   "execution_count": 8,
   "metadata": {},
   "outputs": [],
   "source": [
    "# risk free rate\n",
    "os.chdir('C:\\\\Users\\\\lyoo9\\\\_Moggle-Labs')\n",
    "R_f = pd.read_excel('risk_free_rate.xls')\n",
    "cd_91 = R_f.iloc[[1,6],1:]\n",
    "cd_91 =cd_91.T.set_index(1)\n",
    "cd_91.index = cd_91.index.map(lambda x:x[:-1])\n",
    "cd_91.columns = ['cd_91']\n",
    "os.chdir('C:\\\\Users\\\\lyoo9\\\\_System Trading\\\\Backend\\\\KRX_price')"
   ]
  },
  {
   "cell_type": "code",
   "execution_count": null,
   "metadata": {},
   "outputs": [],
   "source": [
    "# pfo가 주어지면, 이제 해당 column별로 수익률을 회귀해야 함.\n",
    "# 기간은 201307~202106으로 하자."
   ]
  },
  {
   "cell_type": "code",
   "execution_count": 5,
   "metadata": {},
   "outputs": [
    {
     "ename": "NameError",
     "evalue": "name 'pfo' is not defined",
     "output_type": "error",
     "traceback": [
      "\u001b[1;31m---------------------------------------------------------------------------\u001b[0m",
      "\u001b[1;31mNameError\u001b[0m                                 Traceback (most recent call last)",
      "\u001b[1;32m<ipython-input-5-3d0dc371ef3d>\u001b[0m in \u001b[0;36m<module>\u001b[1;34m\u001b[0m\n\u001b[1;32m----> 1\u001b[1;33m \u001b[0mR_p\u001b[0m \u001b[1;33m=\u001b[0m \u001b[0mpfo\u001b[0m\u001b[1;33m.\u001b[0m\u001b[0miloc\u001b[0m\u001b[1;33m[\u001b[0m\u001b[1;36m6\u001b[0m\u001b[1;33m:\u001b[0m\u001b[1;33m,\u001b[0m\u001b[1;36m0\u001b[0m\u001b[1;33m]\u001b[0m \u001b[1;33m-\u001b[0m \u001b[0mcd_91\u001b[0m\u001b[1;33m[\u001b[0m\u001b[1;33m:\u001b[0m\u001b[1;33m-\u001b[0m\u001b[1;36m4\u001b[0m\u001b[1;33m]\u001b[0m\u001b[1;33m\u001b[0m\u001b[1;33m\u001b[0m\u001b[0m\n\u001b[0m\u001b[0;32m      2\u001b[0m \u001b[0mR_m\u001b[0m \u001b[1;33m=\u001b[0m \u001b[0mR_m\u001b[0m\u001b[1;33m.\u001b[0m\u001b[0miloc\u001b[0m\u001b[1;33m[\u001b[0m\u001b[1;36m6\u001b[0m\u001b[1;33m:\u001b[0m\u001b[1;33m,\u001b[0m\u001b[1;36m0\u001b[0m\u001b[1;33m]\u001b[0m \u001b[1;33m-\u001b[0m \u001b[0mcd_91\u001b[0m\u001b[1;33m[\u001b[0m\u001b[1;33m:\u001b[0m\u001b[1;33m-\u001b[0m\u001b[1;36m4\u001b[0m\u001b[1;33m]\u001b[0m\u001b[1;33m\u001b[0m\u001b[1;33m\u001b[0m\u001b[0m\n\u001b[0;32m      3\u001b[0m \u001b[0mequity_factor\u001b[0m \u001b[1;33m=\u001b[0m \u001b[1;33m(\u001b[0m\u001b[0mequity_factor\u001b[0m\u001b[1;33m.\u001b[0m\u001b[0miloc\u001b[0m\u001b[1;33m[\u001b[0m\u001b[1;33m:\u001b[0m\u001b[1;33m,\u001b[0m\u001b[1;36m0\u001b[0m\u001b[1;33m]\u001b[0m \u001b[1;33m-\u001b[0m \u001b[0mequity_factor\u001b[0m\u001b[1;33m.\u001b[0m\u001b[0miloc\u001b[0m\u001b[1;33m[\u001b[0m\u001b[1;33m:\u001b[0m\u001b[1;33m,\u001b[0m\u001b[1;36m1\u001b[0m\u001b[1;33m]\u001b[0m\u001b[1;33m)\u001b[0m\u001b[1;33m.\u001b[0m\u001b[0miloc\u001b[0m\u001b[1;33m[\u001b[0m\u001b[1;36m6\u001b[0m\u001b[1;33m:\u001b[0m\u001b[1;36m0\u001b[0m\u001b[1;33m]\u001b[0m\u001b[1;33m\u001b[0m\u001b[1;33m\u001b[0m\u001b[0m\n\u001b[0;32m      4\u001b[0m \u001b[1;33m\u001b[0m\u001b[0m\n\u001b[0;32m      5\u001b[0m \u001b[0mdf\u001b[0m \u001b[1;33m=\u001b[0m \u001b[0mpd\u001b[0m\u001b[1;33m.\u001b[0m\u001b[0mDataFrame\u001b[0m\u001b[1;33m(\u001b[0m\u001b[1;33m[\u001b[0m\u001b[0mR_p\u001b[0m\u001b[1;33m,\u001b[0m \u001b[0mR_m\u001b[0m\u001b[1;33m,\u001b[0m \u001b[0mequity_factor\u001b[0m\u001b[1;33m]\u001b[0m\u001b[1;33m)\u001b[0m\u001b[1;33m\u001b[0m\u001b[1;33m\u001b[0m\u001b[0m\n",
      "\u001b[1;31mNameError\u001b[0m: name 'pfo' is not defined"
     ]
    }
   ],
   "source": [
    "R_p = pfo.iloc[6:,0] - cd_91[:-4]\n",
    "R_m = R_m.iloc[6:,0] - cd_91[:-4]\n",
    "equity_factor = (equity_factor.iloc[:,0] - equity_factor.iloc[:,1]).iloc[6:0]\n",
    "\n",
    "df = pd.DataFrame([R_p, R_m, equity_factor])"
   ]
  },
  {
   "cell_type": "markdown",
   "metadata": {},
   "source": [
    "# 모듈화하기"
   ]
  },
  {
   "cell_type": "code",
   "execution_count": 9,
   "metadata": {},
   "outputs": [],
   "source": [
    "def get_risk_free_rate(pfo, risk_free):\n",
    "    return risk_free.loc[pfo.index]\n",
    "\n",
    "def get_ols_model(mask, R_m, pfo_column, risk_free, *args):\n",
    "    R_f = (get_risk_free_rate(pfo_column, risk_free).astype(float)/12).squeeze()\n",
    "    df = pd.DataFrame([(pfo_column - R_f.T).values.squeeze(), (R_m - R_f).values.squeeze()] + [x.values.squeeze() for x in args]).T\n",
    "    df.columns = ['pfo', 'market'] + ['factor' + str(i) for i, x in enumerate(args)]\n",
    "    var_str = ''\n",
    "    for i in range(len(df.columns)-2):\n",
    "        var_str += ' + ' + ['factor' + str(i) for i, x in enumerate(args)][i]\n",
    "    model = ols(formula = 'pfo ~ market' + var_str,data = df).fit()\n",
    "    return model"
   ]
  },
  {
   "cell_type": "markdown",
   "metadata": {},
   "source": [
    "# 이제 FF5 구현해보자. "
   ]
  },
  {
   "cell_type": "code",
   "execution_count": 164,
   "metadata": {},
   "outputs": [
    {
     "name": "stderr",
     "output_type": "stream",
     "text": [
      "C:\\Users\\lyoo9\\anaconda3\\lib\\site-packages\\pandas\\core\\dtypes\\cast.py:1229: VisibleDeprecationWarning: Creating an ndarray from ragged nested sequences (which is a list-or-tuple of lists-or-tuples-or ndarrays with different lengths or shapes) is deprecated. If you meant to do this, you must specify 'dtype=object' when creating the ndarray\n",
      "  v = np.array(v, copy=False)\n",
      "C:\\Users\\lyoo9\\anaconda3\\lib\\site-packages\\numpy\\core\\_asarray.py:83: VisibleDeprecationWarning: Creating an ndarray from ragged nested sequences (which is a list-or-tuple of lists-or-tuples-or ndarrays with different lengths or shapes) is deprecated. If you meant to do this, you must specify 'dtype=object' when creating the ndarray\n",
      "  return array(a, dtype, copy=False, order=order)\n"
     ]
    }
   ],
   "source": [
    "Market_cap = get_market_cap_for_period('20101231', '20191231')\n",
    "\n",
    "equity = get_item_for_period('ifrs_Equity', '20101231', '20191231')\n",
    "\n",
    "BEME = equity/Market_cap[0]"
   ]
  },
  {
   "cell_type": "code",
   "execution_count": 165,
   "metadata": {},
   "outputs": [],
   "source": [
    "Market_cap = get_market_cap_for_period('20110630', '20200630')"
   ]
  },
  {
   "cell_type": "code",
   "execution_count": 166,
   "metadata": {},
   "outputs": [
    {
     "data": {
      "application/vnd.jupyter.widget-view+json": {
       "model_id": "51e632b32b0e43618a95c592d62c6109",
       "version_major": 2,
       "version_minor": 0
      },
      "text/plain": [
       "HBox(children=(HTML(value=''), FloatProgress(value=0.0, max=120.0), HTML(value='')))"
      ]
     },
     "metadata": {},
     "output_type": "display_data"
    },
    {
     "name": "stdout",
     "output_type": "stream",
     "text": [
      "\n"
     ]
    },
    {
     "ename": "KeyboardInterrupt",
     "evalue": "",
     "output_type": "error",
     "traceback": [
      "\u001b[1;31m---------------------------------------------------------------------------\u001b[0m",
      "\u001b[1;31mKeyboardInterrupt\u001b[0m                         Traceback (most recent call last)",
      "\u001b[1;32m<ipython-input-166-36e12cf583a9>\u001b[0m in \u001b[0;36m<module>\u001b[1;34m\u001b[0m\n\u001b[0;32m      2\u001b[0m \u001b[0mSMB_mask\u001b[0m \u001b[1;33m=\u001b[0m \u001b[0mget_mask\u001b[0m\u001b[1;33m(\u001b[0m\u001b[0mMarket_cap\u001b[0m\u001b[1;33m[\u001b[0m\u001b[1;36m0\u001b[0m\u001b[1;33m]\u001b[0m\u001b[1;33m,\u001b[0m \u001b[0mMarket_cap\u001b[0m\u001b[1;33m[\u001b[0m\u001b[1;36m1\u001b[0m\u001b[1;33m]\u001b[0m\u001b[1;33m,\u001b[0m \u001b[0mmarket_bp\u001b[0m \u001b[1;33m=\u001b[0m \u001b[1;34m'KOSPI'\u001b[0m\u001b[1;33m)\u001b[0m\u001b[1;33m\u001b[0m\u001b[1;33m\u001b[0m\u001b[0m\n\u001b[0;32m      3\u001b[0m \u001b[1;33m\u001b[0m\u001b[0m\n\u001b[1;32m----> 4\u001b[1;33m \u001b[0mSMB\u001b[0m \u001b[1;33m=\u001b[0m \u001b[0mget_factor_on_date_by_mask\u001b[0m\u001b[1;33m(\u001b[0m\u001b[0mSMB_mask\u001b[0m\u001b[1;33m,\u001b[0m \u001b[0mterm\u001b[0m \u001b[1;33m=\u001b[0m \u001b[1;34m'm'\u001b[0m\u001b[1;33m,\u001b[0m \u001b[0mwinsorize_limits\u001b[0m \u001b[1;33m=\u001b[0m \u001b[1;36m0.01\u001b[0m\u001b[1;33m,\u001b[0m \u001b[0mweight\u001b[0m \u001b[1;33m=\u001b[0m \u001b[1;34m'VW'\u001b[0m\u001b[1;33m)\u001b[0m\u001b[1;33m\u001b[0m\u001b[1;33m\u001b[0m\u001b[0m\n\u001b[0m",
      "\u001b[1;32m<ipython-input-1-cf5a14707296>\u001b[0m in \u001b[0;36mget_factor_on_date_by_mask\u001b[1;34m(mask, term, winsorize_limits, weight)\u001b[0m\n\u001b[0;32m    388\u001b[0m             \u001b[0msecond\u001b[0m \u001b[1;33m=\u001b[0m \u001b[1;33m(\u001b[0m\u001b[0mget_market_data_on_date\u001b[0m\u001b[1;33m(\u001b[0m\u001b[0mdate_point\u001b[0m\u001b[1;33m,\u001b[0m \u001b[0mprint_error\u001b[0m \u001b[1;33m=\u001b[0m \u001b[1;32mFalse\u001b[0m\u001b[1;33m)\u001b[0m\u001b[1;33m.\u001b[0m\u001b[0mloc\u001b[0m\u001b[1;33m[\u001b[0m\u001b[1;33m:\u001b[0m\u001b[1;33m,\u001b[0m\u001b[1;33m[\u001b[0m\u001b[1;34m'종목코드'\u001b[0m\u001b[1;33m,\u001b[0m \u001b[1;34m'종가'\u001b[0m\u001b[1;33m,\u001b[0m \u001b[1;34m'시가총액'\u001b[0m\u001b[1;33m,\u001b[0m \u001b[1;34m'등락률'\u001b[0m\u001b[1;33m]\u001b[0m\u001b[1;33m]\u001b[0m\u001b[1;33m)\u001b[0m\u001b[1;33m.\u001b[0m\u001b[0mset_index\u001b[0m\u001b[1;33m(\u001b[0m\u001b[1;34m'종목코드'\u001b[0m\u001b[1;33m)\u001b[0m\u001b[1;33m\u001b[0m\u001b[1;33m\u001b[0m\u001b[0m\n\u001b[0;32m    389\u001b[0m             \u001b[0mdate_list\u001b[0m\u001b[1;33m.\u001b[0m\u001b[0mappend\u001b[0m\u001b[1;33m(\u001b[0m\u001b[0mdate_point\u001b[0m\u001b[1;33m[\u001b[0m\u001b[1;33m:\u001b[0m\u001b[1;36m6\u001b[0m\u001b[1;33m]\u001b[0m\u001b[1;33m)\u001b[0m\u001b[1;33m\u001b[0m\u001b[1;33m\u001b[0m\u001b[0m\n\u001b[1;32m--> 390\u001b[1;33m             \u001b[0mreturn_value\u001b[0m \u001b[1;33m=\u001b[0m \u001b[0mget_market_return_for_period\u001b[0m\u001b[1;33m(\u001b[0m\u001b[0mdate_point_marked\u001b[0m\u001b[1;33m,\u001b[0m \u001b[0mdate_point\u001b[0m\u001b[1;33m)\u001b[0m\u001b[1;33m\u001b[0m\u001b[1;33m\u001b[0m\u001b[0m\n\u001b[0m\u001b[0;32m    391\u001b[0m             \u001b[0mreturn_list\u001b[0m \u001b[1;33m=\u001b[0m \u001b[1;33m[\u001b[0m\u001b[1;33m]\u001b[0m\u001b[1;33m\u001b[0m\u001b[1;33m\u001b[0m\u001b[0m\n\u001b[0;32m    392\u001b[0m             \u001b[0mvalue_list\u001b[0m \u001b[1;33m=\u001b[0m \u001b[1;33m[\u001b[0m\u001b[1;33m]\u001b[0m\u001b[1;33m\u001b[0m\u001b[1;33m\u001b[0m\u001b[0m\n",
      "\u001b[1;32m<ipython-input-4-ce22437acbcd>\u001b[0m in \u001b[0;36mget_market_return_for_period\u001b[1;34m(date_from, date_to)\u001b[0m\n\u001b[0;32m      5\u001b[0m     \u001b[1;32mwhile\u001b[0m \u001b[0mflag\u001b[0m \u001b[1;33m!=\u001b[0m \u001b[0mdate_to\u001b[0m\u001b[1;33m:\u001b[0m\u001b[1;33m\u001b[0m\u001b[1;33m\u001b[0m\u001b[0m\n\u001b[0;32m      6\u001b[0m         \u001b[0mflag\u001b[0m \u001b[1;33m=\u001b[0m \u001b[0mfind_next_market_date\u001b[0m\u001b[1;33m(\u001b[0m\u001b[0mflag\u001b[0m\u001b[1;33m)\u001b[0m\u001b[1;33m\u001b[0m\u001b[1;33m\u001b[0m\u001b[0m\n\u001b[1;32m----> 7\u001b[1;33m         \u001b[0mdf\u001b[0m \u001b[1;33m=\u001b[0m \u001b[0mpd\u001b[0m\u001b[1;33m.\u001b[0m\u001b[0mconcat\u001b[0m\u001b[1;33m(\u001b[0m\u001b[1;33m[\u001b[0m\u001b[0mdf\u001b[0m\u001b[1;33m,\u001b[0m \u001b[0mget_market_data_on_date\u001b[0m\u001b[1;33m(\u001b[0m\u001b[0mflag\u001b[0m\u001b[1;33m,\u001b[0m \u001b[0mprint_error\u001b[0m \u001b[1;33m=\u001b[0m \u001b[1;32mFalse\u001b[0m\u001b[1;33m)\u001b[0m\u001b[1;33m.\u001b[0m\u001b[0mloc\u001b[0m\u001b[1;33m[\u001b[0m\u001b[1;33m:\u001b[0m\u001b[1;33m,\u001b[0m\u001b[1;33m[\u001b[0m\u001b[1;34m'종목코드'\u001b[0m\u001b[1;33m,\u001b[0m \u001b[1;34m'등락률'\u001b[0m\u001b[1;33m]\u001b[0m\u001b[1;33m]\u001b[0m\u001b[1;33m.\u001b[0m\u001b[0mset_index\u001b[0m\u001b[1;33m(\u001b[0m\u001b[1;34m'종목코드'\u001b[0m\u001b[1;33m)\u001b[0m\u001b[1;33m.\u001b[0m\u001b[0mrename\u001b[0m\u001b[1;33m(\u001b[0m\u001b[1;33m{\u001b[0m\u001b[1;34m'등락률'\u001b[0m\u001b[1;33m:\u001b[0m\u001b[0mflag\u001b[0m\u001b[1;33m}\u001b[0m\u001b[1;33m,\u001b[0m \u001b[0maxis\u001b[0m\u001b[1;33m=\u001b[0m\u001b[1;36m1\u001b[0m\u001b[1;33m)\u001b[0m\u001b[1;33m]\u001b[0m\u001b[1;33m,\u001b[0m \u001b[0maxis\u001b[0m\u001b[1;33m=\u001b[0m\u001b[1;36m1\u001b[0m\u001b[1;33m)\u001b[0m\u001b[1;33m\u001b[0m\u001b[1;33m\u001b[0m\u001b[0m\n\u001b[0m\u001b[0;32m      8\u001b[0m         \u001b[1;32mif\u001b[0m \u001b[0mflag\u001b[0m \u001b[1;33m==\u001b[0m \u001b[0mdate_to\u001b[0m\u001b[1;33m:\u001b[0m\u001b[1;33m\u001b[0m\u001b[1;33m\u001b[0m\u001b[0m\n\u001b[0;32m      9\u001b[0m             \u001b[0msecond\u001b[0m \u001b[1;33m=\u001b[0m \u001b[0mget_market_data_on_date\u001b[0m\u001b[1;33m(\u001b[0m\u001b[0mflag\u001b[0m\u001b[1;33m,\u001b[0m \u001b[0mprint_error\u001b[0m \u001b[1;33m=\u001b[0m \u001b[1;32mFalse\u001b[0m\u001b[1;33m)\u001b[0m\u001b[1;33m.\u001b[0m\u001b[0mloc\u001b[0m\u001b[1;33m[\u001b[0m\u001b[1;33m:\u001b[0m\u001b[1;33m,\u001b[0m \u001b[1;33m[\u001b[0m\u001b[1;34m'종목코드'\u001b[0m\u001b[1;33m,\u001b[0m \u001b[1;34m'종가'\u001b[0m\u001b[1;33m]\u001b[0m\u001b[1;33m]\u001b[0m\u001b[1;33m.\u001b[0m\u001b[0mset_index\u001b[0m\u001b[1;33m(\u001b[0m\u001b[1;34m'종목코드'\u001b[0m\u001b[1;33m)\u001b[0m\u001b[1;33m\u001b[0m\u001b[1;33m\u001b[0m\u001b[0m\n",
      "\u001b[1;32m<ipython-input-1-cf5a14707296>\u001b[0m in \u001b[0;36mget_market_data_on_date\u001b[1;34m(date, print_error)\u001b[0m\n\u001b[0;32m    151\u001b[0m     \u001b[1;31m# 에러 메시지를 출력하고 싶지 않으면 print_error를 False로 설정\u001b[0m\u001b[1;33m\u001b[0m\u001b[1;33m\u001b[0m\u001b[1;33m\u001b[0m\u001b[0m\n\u001b[0;32m    152\u001b[0m     \u001b[1;32mtry\u001b[0m\u001b[1;33m:\u001b[0m\u001b[1;33m\u001b[0m\u001b[1;33m\u001b[0m\u001b[0m\n\u001b[1;32m--> 153\u001b[1;33m         \u001b[0mdata\u001b[0m \u001b[1;33m=\u001b[0m \u001b[0mpd\u001b[0m\u001b[1;33m.\u001b[0m\u001b[0mread_csv\u001b[0m\u001b[1;33m(\u001b[0m\u001b[0mdate\u001b[0m\u001b[1;33m[\u001b[0m\u001b[1;36m2\u001b[0m\u001b[1;33m:\u001b[0m\u001b[1;36m4\u001b[0m\u001b[1;33m]\u001b[0m \u001b[1;33m+\u001b[0m \u001b[1;34m'_'\u001b[0m \u001b[1;33m+\u001b[0m \u001b[0mstr\u001b[0m\u001b[1;33m(\u001b[0m\u001b[0mint\u001b[0m\u001b[1;33m(\u001b[0m\u001b[0mdate\u001b[0m\u001b[1;33m[\u001b[0m\u001b[1;36m4\u001b[0m\u001b[1;33m:\u001b[0m\u001b[1;36m6\u001b[0m\u001b[1;33m]\u001b[0m\u001b[1;33m)\u001b[0m\u001b[1;33m)\u001b[0m \u001b[1;33m+\u001b[0m \u001b[1;34m'_'\u001b[0m \u001b[1;33m+\u001b[0m \u001b[0mstr\u001b[0m\u001b[1;33m(\u001b[0m\u001b[0mint\u001b[0m\u001b[1;33m(\u001b[0m\u001b[0mdate\u001b[0m\u001b[1;33m[\u001b[0m\u001b[1;36m6\u001b[0m\u001b[1;33m:\u001b[0m\u001b[1;36m8\u001b[0m\u001b[1;33m]\u001b[0m\u001b[1;33m)\u001b[0m\u001b[1;33m)\u001b[0m \u001b[1;33m+\u001b[0m \u001b[1;34m'.csv'\u001b[0m\u001b[1;33m,\u001b[0m \u001b[0mencoding\u001b[0m \u001b[1;33m=\u001b[0m \u001b[1;34m'cp949'\u001b[0m\u001b[1;33m)\u001b[0m\u001b[1;33m\u001b[0m\u001b[1;33m\u001b[0m\u001b[0m\n\u001b[0m\u001b[0;32m    154\u001b[0m         \u001b[0mdata\u001b[0m\u001b[1;33m[\u001b[0m\u001b[1;34m'종목코드'\u001b[0m\u001b[1;33m]\u001b[0m \u001b[1;33m=\u001b[0m \u001b[0mdata\u001b[0m\u001b[1;33m[\u001b[0m\u001b[1;34m'종목코드'\u001b[0m\u001b[1;33m]\u001b[0m\u001b[1;33m.\u001b[0m\u001b[0mmap\u001b[0m\u001b[1;33m(\u001b[0m\u001b[1;32mlambda\u001b[0m \u001b[0mx\u001b[0m\u001b[1;33m:\u001b[0m\u001b[0mstr\u001b[0m\u001b[1;33m(\u001b[0m\u001b[0mx\u001b[0m\u001b[1;33m)\u001b[0m\u001b[1;33m.\u001b[0m\u001b[0mzfill\u001b[0m\u001b[1;33m(\u001b[0m\u001b[1;36m6\u001b[0m\u001b[1;33m)\u001b[0m \u001b[1;32mif\u001b[0m \u001b[0mx\u001b[0m \u001b[1;33m!=\u001b[0m \u001b[1;32mNone\u001b[0m \u001b[1;32melse\u001b[0m \u001b[1;32mNone\u001b[0m\u001b[1;33m)\u001b[0m\u001b[1;33m\u001b[0m\u001b[1;33m\u001b[0m\u001b[0m\n\u001b[0;32m    155\u001b[0m         \u001b[1;32mif\u001b[0m \u001b[0mdata\u001b[0m\u001b[1;33m.\u001b[0m\u001b[0misna\u001b[0m\u001b[1;33m(\u001b[0m\u001b[1;33m)\u001b[0m\u001b[1;33m[\u001b[0m\u001b[1;34m'종가'\u001b[0m\u001b[1;33m]\u001b[0m\u001b[1;33m.\u001b[0m\u001b[0msum\u001b[0m\u001b[1;33m(\u001b[0m\u001b[1;33m)\u001b[0m \u001b[1;33m==\u001b[0m \u001b[0mlen\u001b[0m\u001b[1;33m(\u001b[0m\u001b[0mdata\u001b[0m\u001b[1;33m)\u001b[0m\u001b[1;33m:\u001b[0m\u001b[1;33m\u001b[0m\u001b[1;33m\u001b[0m\u001b[0m\n",
      "\u001b[1;32m~\\anaconda3\\lib\\site-packages\\pandas\\io\\parsers.py\u001b[0m in \u001b[0;36mread_csv\u001b[1;34m(filepath_or_buffer, sep, delimiter, header, names, index_col, usecols, squeeze, prefix, mangle_dupe_cols, dtype, engine, converters, true_values, false_values, skipinitialspace, skiprows, skipfooter, nrows, na_values, keep_default_na, na_filter, verbose, skip_blank_lines, parse_dates, infer_datetime_format, keep_date_col, date_parser, dayfirst, cache_dates, iterator, chunksize, compression, thousands, decimal, lineterminator, quotechar, quoting, doublequote, escapechar, comment, encoding, dialect, error_bad_lines, warn_bad_lines, delim_whitespace, low_memory, memory_map, float_precision)\u001b[0m\n\u001b[0;32m    684\u001b[0m     )\n\u001b[0;32m    685\u001b[0m \u001b[1;33m\u001b[0m\u001b[0m\n\u001b[1;32m--> 686\u001b[1;33m     \u001b[1;32mreturn\u001b[0m \u001b[0m_read\u001b[0m\u001b[1;33m(\u001b[0m\u001b[0mfilepath_or_buffer\u001b[0m\u001b[1;33m,\u001b[0m \u001b[0mkwds\u001b[0m\u001b[1;33m)\u001b[0m\u001b[1;33m\u001b[0m\u001b[1;33m\u001b[0m\u001b[0m\n\u001b[0m\u001b[0;32m    687\u001b[0m \u001b[1;33m\u001b[0m\u001b[0m\n\u001b[0;32m    688\u001b[0m \u001b[1;33m\u001b[0m\u001b[0m\n",
      "\u001b[1;32m~\\anaconda3\\lib\\site-packages\\pandas\\io\\parsers.py\u001b[0m in \u001b[0;36m_read\u001b[1;34m(filepath_or_buffer, kwds)\u001b[0m\n\u001b[0;32m    458\u001b[0m         \u001b[0mdata\u001b[0m \u001b[1;33m=\u001b[0m \u001b[0mparser\u001b[0m\u001b[1;33m.\u001b[0m\u001b[0mread\u001b[0m\u001b[1;33m(\u001b[0m\u001b[0mnrows\u001b[0m\u001b[1;33m)\u001b[0m\u001b[1;33m\u001b[0m\u001b[1;33m\u001b[0m\u001b[0m\n\u001b[0;32m    459\u001b[0m     \u001b[1;32mfinally\u001b[0m\u001b[1;33m:\u001b[0m\u001b[1;33m\u001b[0m\u001b[1;33m\u001b[0m\u001b[0m\n\u001b[1;32m--> 460\u001b[1;33m         \u001b[0mparser\u001b[0m\u001b[1;33m.\u001b[0m\u001b[0mclose\u001b[0m\u001b[1;33m(\u001b[0m\u001b[1;33m)\u001b[0m\u001b[1;33m\u001b[0m\u001b[1;33m\u001b[0m\u001b[0m\n\u001b[0m\u001b[0;32m    461\u001b[0m \u001b[1;33m\u001b[0m\u001b[0m\n\u001b[0;32m    462\u001b[0m     \u001b[1;32mif\u001b[0m \u001b[0mshould_close\u001b[0m\u001b[1;33m:\u001b[0m\u001b[1;33m\u001b[0m\u001b[1;33m\u001b[0m\u001b[0m\n",
      "\u001b[1;32m~\\anaconda3\\lib\\site-packages\\pandas\\io\\parsers.py\u001b[0m in \u001b[0;36mclose\u001b[1;34m(self)\u001b[0m\n\u001b[0;32m    947\u001b[0m \u001b[1;33m\u001b[0m\u001b[0m\n\u001b[0;32m    948\u001b[0m     \u001b[1;32mdef\u001b[0m \u001b[0mclose\u001b[0m\u001b[1;33m(\u001b[0m\u001b[0mself\u001b[0m\u001b[1;33m)\u001b[0m\u001b[1;33m:\u001b[0m\u001b[1;33m\u001b[0m\u001b[1;33m\u001b[0m\u001b[0m\n\u001b[1;32m--> 949\u001b[1;33m         \u001b[0mself\u001b[0m\u001b[1;33m.\u001b[0m\u001b[0m_engine\u001b[0m\u001b[1;33m.\u001b[0m\u001b[0mclose\u001b[0m\u001b[1;33m(\u001b[0m\u001b[1;33m)\u001b[0m\u001b[1;33m\u001b[0m\u001b[1;33m\u001b[0m\u001b[0m\n\u001b[0m\u001b[0;32m    950\u001b[0m \u001b[1;33m\u001b[0m\u001b[0m\n\u001b[0;32m    951\u001b[0m     \u001b[1;32mdef\u001b[0m \u001b[0m_get_options_with_defaults\u001b[0m\u001b[1;33m(\u001b[0m\u001b[0mself\u001b[0m\u001b[1;33m,\u001b[0m \u001b[0mengine\u001b[0m\u001b[1;33m)\u001b[0m\u001b[1;33m:\u001b[0m\u001b[1;33m\u001b[0m\u001b[1;33m\u001b[0m\u001b[0m\n",
      "\u001b[1;32m~\\anaconda3\\lib\\site-packages\\pandas\\io\\parsers.py\u001b[0m in \u001b[0;36mclose\u001b[1;34m(self)\u001b[0m\n\u001b[0;32m   2087\u001b[0m     \u001b[1;32mdef\u001b[0m \u001b[0mclose\u001b[0m\u001b[1;33m(\u001b[0m\u001b[0mself\u001b[0m\u001b[1;33m)\u001b[0m\u001b[1;33m:\u001b[0m\u001b[1;33m\u001b[0m\u001b[1;33m\u001b[0m\u001b[0m\n\u001b[0;32m   2088\u001b[0m         \u001b[1;32mfor\u001b[0m \u001b[0mf\u001b[0m \u001b[1;32min\u001b[0m \u001b[0mself\u001b[0m\u001b[1;33m.\u001b[0m\u001b[0mhandles\u001b[0m\u001b[1;33m:\u001b[0m\u001b[1;33m\u001b[0m\u001b[1;33m\u001b[0m\u001b[0m\n\u001b[1;32m-> 2089\u001b[1;33m             \u001b[0mf\u001b[0m\u001b[1;33m.\u001b[0m\u001b[0mclose\u001b[0m\u001b[1;33m(\u001b[0m\u001b[1;33m)\u001b[0m\u001b[1;33m\u001b[0m\u001b[1;33m\u001b[0m\u001b[0m\n\u001b[0m\u001b[0;32m   2090\u001b[0m \u001b[1;33m\u001b[0m\u001b[0m\n\u001b[0;32m   2091\u001b[0m         \u001b[1;31m# close additional handles opened by C parser (for compression)\u001b[0m\u001b[1;33m\u001b[0m\u001b[1;33m\u001b[0m\u001b[1;33m\u001b[0m\u001b[0m\n",
      "\u001b[1;31mKeyboardInterrupt\u001b[0m: "
     ]
    }
   ],
   "source": [
    "# SMB\n",
    "SMB_mask = get_mask(Market_cap[0], Market_cap[1], market_bp = 'KOSPI')\n",
    "\n",
    "SMB = get_factor_on_date_by_mask(SMB_mask, term = 'm', winsorize_limits = 0.01, weight = 'VW')"
   ]
  },
  {
   "cell_type": "code",
   "execution_count": 163,
   "metadata": {},
   "outputs": [
    {
     "ename": "NameError",
     "evalue": "name 'SMB_mask' is not defined",
     "output_type": "error",
     "traceback": [
      "\u001b[1;31m---------------------------------------------------------------------------\u001b[0m",
      "\u001b[1;31mNameError\u001b[0m                                 Traceback (most recent call last)",
      "\u001b[1;32m<ipython-input-163-9d02e797b29a>\u001b[0m in \u001b[0;36m<module>\u001b[1;34m\u001b[0m\n\u001b[1;32m----> 1\u001b[1;33m \u001b[0mSMB\u001b[0m \u001b[1;33m=\u001b[0m \u001b[0mget_factor_on_date_by_mask\u001b[0m\u001b[1;33m(\u001b[0m\u001b[0mSMB_mask\u001b[0m\u001b[1;33m,\u001b[0m \u001b[0mterm\u001b[0m \u001b[1;33m=\u001b[0m \u001b[1;34m'm'\u001b[0m\u001b[1;33m,\u001b[0m \u001b[0mwinsorize_limits\u001b[0m \u001b[1;33m=\u001b[0m \u001b[1;36m0.01\u001b[0m\u001b[1;33m,\u001b[0m \u001b[0mweight\u001b[0m \u001b[1;33m=\u001b[0m \u001b[1;34m'VW'\u001b[0m\u001b[1;33m)\u001b[0m\u001b[1;33m\u001b[0m\u001b[1;33m\u001b[0m\u001b[0m\n\u001b[0m",
      "\u001b[1;31mNameError\u001b[0m: name 'SMB_mask' is not defined"
     ]
    }
   ],
   "source": [
    "SMB = get_factor_on_date_by_mask(SMB_mask, term = 'm', winsorize_limits = 0.01, weight = 'VW')"
   ]
  },
  {
   "cell_type": "code",
   "execution_count": 167,
   "metadata": {},
   "outputs": [
    {
     "data": {
      "application/vnd.jupyter.widget-view+json": {
       "model_id": "dde1bede05c6401aa665ae57760dda6d",
       "version_major": 2,
       "version_minor": 0
      },
      "text/plain": [
       "HBox(children=(HTML(value=''), FloatProgress(value=0.0, max=120.0), HTML(value='')))"
      ]
     },
     "metadata": {},
     "output_type": "display_data"
    },
    {
     "name": "stdout",
     "output_type": "stream",
     "text": [
      "\n"
     ]
    }
   ],
   "source": [
    "SMB2 = get_factor_on_date_by_mask2(SMB_mask, term = 'm', winsorize_limits = 0.01, weight = 'VW')"
   ]
  },
  {
   "cell_type": "code",
   "execution_count": 10,
   "metadata": {},
   "outputs": [
    {
     "name": "stderr",
     "output_type": "stream",
     "text": [
      "C:\\Users\\lyoo9\\anaconda3\\lib\\site-packages\\pandas\\core\\indexing.py:670: SettingWithCopyWarning: \n",
      "A value is trying to be set on a copy of a slice from a DataFrame\n",
      "\n",
      "See the caveats in the documentation: https://pandas.pydata.org/pandas-docs/stable/user_guide/indexing.html#returning-a-view-versus-a-copy\n",
      "  iloc._setitem_with_indexer(indexer, value)\n"
     ]
    },
    {
     "data": {
      "application/vnd.jupyter.widget-view+json": {
       "model_id": "cb3799626b96411397bd16c19b91a8f7",
       "version_major": 2,
       "version_minor": 0
      },
      "text/plain": [
       "HBox(children=(HTML(value=''), FloatProgress(value=0.0, max=120.0), HTML(value='')))"
      ]
     },
     "metadata": {},
     "output_type": "display_data"
    },
    {
     "name": "stdout",
     "output_type": "stream",
     "text": [
      "\n"
     ]
    }
   ],
   "source": [
    "# HML\n",
    "BEME_shifted = shift_date_quarter(BEME, 2)\n",
    "\n",
    "HML_mask = get_mask(BEME_shifted, get_market_category(BEME_shifted), market_bp = 'KOSPI', breakpoint = [0.3, 0.7])\n",
    "\n",
    "HML = get_factor_on_date_by_mask(HML_mask, term = 'm', winsorize_limits = 0.01, weight = 'VW')"
   ]
  },
  {
   "cell_type": "code",
   "execution_count": 11,
   "metadata": {},
   "outputs": [
    {
     "name": "stderr",
     "output_type": "stream",
     "text": [
      "C:\\Users\\lyoo9\\anaconda3\\lib\\site-packages\\pandas\\core\\dtypes\\cast.py:1229: VisibleDeprecationWarning: Creating an ndarray from ragged nested sequences (which is a list-or-tuple of lists-or-tuples-or ndarrays with different lengths or shapes) is deprecated. If you meant to do this, you must specify 'dtype=object' when creating the ndarray\n",
      "  v = np.array(v, copy=False)\n",
      "C:\\Users\\lyoo9\\anaconda3\\lib\\site-packages\\numpy\\core\\_asarray.py:83: VisibleDeprecationWarning: Creating an ndarray from ragged nested sequences (which is a list-or-tuple of lists-or-tuples-or ndarrays with different lengths or shapes) is deprecated. If you meant to do this, you must specify 'dtype=object' when creating the ndarray\n",
      "  return array(a, dtype, copy=False, order=order)\n"
     ]
    }
   ],
   "source": [
    "# RMW 계산하기\n",
    "# (영업이익 - 이자비용) / 총자산\n",
    "Total_asset = get_item_for_period('ifrs_Assets', '20101231', '20191231')\n",
    "fcost1 = get_item_for_period('ifrs_FinanceCosts', '20101231', '20191231')\n",
    "fcost2 = get_item_for_period('dart_InterestExpenseFinanceExpense', '20101231', '20191231')\n",
    "fcost = pd.concat([fcost1, fcost2], axis = 1).groupby(level=0, axis=1).last()\n",
    "OI = get_item_for_period('dart_OperatingIncomeLoss', '20101231', '20191231')"
   ]
  },
  {
   "cell_type": "code",
   "execution_count": 12,
   "metadata": {},
   "outputs": [
    {
     "name": "stderr",
     "output_type": "stream",
     "text": [
      "C:\\Users\\lyoo9\\anaconda3\\lib\\site-packages\\pandas\\core\\indexing.py:670: SettingWithCopyWarning: \n",
      "A value is trying to be set on a copy of a slice from a DataFrame\n",
      "\n",
      "See the caveats in the documentation: https://pandas.pydata.org/pandas-docs/stable/user_guide/indexing.html#returning-a-view-versus-a-copy\n",
      "  iloc._setitem_with_indexer(indexer, value)\n"
     ]
    },
    {
     "data": {
      "application/vnd.jupyter.widget-view+json": {
       "model_id": "42b37a55e49944d6969e496522a2a69b",
       "version_major": 2,
       "version_minor": 0
      },
      "text/plain": [
       "HBox(children=(HTML(value=''), FloatProgress(value=0.0, max=120.0), HTML(value='')))"
      ]
     },
     "metadata": {},
     "output_type": "display_data"
    },
    {
     "name": "stdout",
     "output_type": "stream",
     "text": [
      "\n"
     ]
    }
   ],
   "source": [
    "RMW_base = (OI - fcost) / Total_asset\n",
    "\n",
    "RMW_base_shifted = shift_date_quarter(RMW_base, 2)\n",
    "\n",
    "RMW_mask = get_mask(RMW_base_shifted, get_market_category(RMW_base_shifted), market_bp = 'KOSPI', breakpoint = [0.3, 0.7])\n",
    "\n",
    "RMW = get_factor_on_date_by_mask(RMW_mask, term = 'm', winsorize_limits = 0.01, weight = 'VW')"
   ]
  },
  {
   "cell_type": "code",
   "execution_count": 13,
   "metadata": {
    "scrolled": true
   },
   "outputs": [
    {
     "name": "stderr",
     "output_type": "stream",
     "text": [
      "C:\\Users\\lyoo9\\anaconda3\\lib\\site-packages\\pandas\\core\\dtypes\\cast.py:1229: VisibleDeprecationWarning: Creating an ndarray from ragged nested sequences (which is a list-or-tuple of lists-or-tuples-or ndarrays with different lengths or shapes) is deprecated. If you meant to do this, you must specify 'dtype=object' when creating the ndarray\n",
      "  v = np.array(v, copy=False)\n",
      "C:\\Users\\lyoo9\\anaconda3\\lib\\site-packages\\numpy\\core\\_asarray.py:83: VisibleDeprecationWarning: Creating an ndarray from ragged nested sequences (which is a list-or-tuple of lists-or-tuples-or ndarrays with different lengths or shapes) is deprecated. If you meant to do this, you must specify 'dtype=object' when creating the ndarray\n",
      "  return array(a, dtype, copy=False, order=order)\n",
      "C:\\Users\\lyoo9\\anaconda3\\lib\\site-packages\\pandas\\core\\indexing.py:670: SettingWithCopyWarning: \n",
      "A value is trying to be set on a copy of a slice from a DataFrame\n",
      "\n",
      "See the caveats in the documentation: https://pandas.pydata.org/pandas-docs/stable/user_guide/indexing.html#returning-a-view-versus-a-copy\n",
      "  iloc._setitem_with_indexer(indexer, value)\n"
     ]
    },
    {
     "data": {
      "application/vnd.jupyter.widget-view+json": {
       "model_id": "f4638745c4b74948b31ea161be0022a9",
       "version_major": 2,
       "version_minor": 0
      },
      "text/plain": [
       "HBox(children=(HTML(value=''), FloatProgress(value=0.0, max=120.0), HTML(value='')))"
      ]
     },
     "metadata": {},
     "output_type": "display_data"
    },
    {
     "name": "stdout",
     "output_type": "stream",
     "text": [
      "\n"
     ]
    }
   ],
   "source": [
    "# CMA 계산하기\n",
    "\n",
    "Total_asset = get_item_for_period('ifrs_Assets', '20091231', '20181231')\n",
    "pnl = get_item_for_period('ifrs_ProfitLoss', '20101231', '20191231')\n",
    "Total_asset_shifted = shift_date_quarter(Total_asset, 4)\n",
    "CMA_base = pnl / Total_asset_shifted\n",
    "CMA_base_shifted = shift_date_quarter(CMA_base, 2)\n",
    "CMA_mask = get_mask(CMA_base_shifted, get_market_category(CMA_base_shifted), market_bp = 'KOSPI', breakpoint = [0.3, 0.7])\n",
    "CMA = get_factor_on_date_by_mask(CMA_mask, term = 'm', winsorize_limits = 0.01, weight = 'VW')"
   ]
  },
  {
   "cell_type": "code",
   "execution_count": 32,
   "metadata": {},
   "outputs": [
    {
     "data": {
      "text/html": [
       "<div>\n",
       "<style scoped>\n",
       "    .dataframe tbody tr th:only-of-type {\n",
       "        vertical-align: middle;\n",
       "    }\n",
       "\n",
       "    .dataframe tbody tr th {\n",
       "        vertical-align: top;\n",
       "    }\n",
       "\n",
       "    .dataframe thead th {\n",
       "        text-align: right;\n",
       "    }\n",
       "</style>\n",
       "<table border=\"1\" class=\"dataframe\">\n",
       "  <thead>\n",
       "    <tr style=\"text-align: right;\">\n",
       "      <th></th>\n",
       "      <th>0</th>\n",
       "      <th>1</th>\n",
       "      <th>2</th>\n",
       "      <th>3</th>\n",
       "      <th>4</th>\n",
       "      <th>5</th>\n",
       "      <th>6</th>\n",
       "      <th>7</th>\n",
       "      <th>8</th>\n",
       "      <th>9</th>\n",
       "      <th>...</th>\n",
       "      <th>15</th>\n",
       "      <th>16</th>\n",
       "      <th>17</th>\n",
       "      <th>18</th>\n",
       "      <th>19</th>\n",
       "      <th>20</th>\n",
       "      <th>21</th>\n",
       "      <th>22</th>\n",
       "      <th>23</th>\n",
       "      <th>24</th>\n",
       "    </tr>\n",
       "  </thead>\n",
       "  <tbody>\n",
       "    <tr>\n",
       "      <th>201107</th>\n",
       "      <td>0.125431</td>\n",
       "      <td>0.083726</td>\n",
       "      <td>0.144351</td>\n",
       "      <td>0.041956</td>\n",
       "      <td>0.037641</td>\n",
       "      <td>0.115584</td>\n",
       "      <td>0.117543</td>\n",
       "      <td>0.106797</td>\n",
       "      <td>0.090796</td>\n",
       "      <td>0.093427</td>\n",
       "      <td>...</td>\n",
       "      <td>0.136272</td>\n",
       "      <td>0.098556</td>\n",
       "      <td>0.069372</td>\n",
       "      <td>0.127112</td>\n",
       "      <td>0.080189</td>\n",
       "      <td>0.032604</td>\n",
       "      <td>-0.004833</td>\n",
       "      <td>0.018453</td>\n",
       "      <td>0.000569</td>\n",
       "      <td>-0.005136</td>\n",
       "    </tr>\n",
       "    <tr>\n",
       "      <th>201108</th>\n",
       "      <td>-0.086216</td>\n",
       "      <td>-0.076886</td>\n",
       "      <td>-0.070131</td>\n",
       "      <td>-0.043202</td>\n",
       "      <td>0.034230</td>\n",
       "      <td>-0.089055</td>\n",
       "      <td>-0.088649</td>\n",
       "      <td>-0.046603</td>\n",
       "      <td>-0.097334</td>\n",
       "      <td>-0.088064</td>\n",
       "      <td>...</td>\n",
       "      <td>-0.058730</td>\n",
       "      <td>-0.106975</td>\n",
       "      <td>-0.123449</td>\n",
       "      <td>-0.111717</td>\n",
       "      <td>-0.087912</td>\n",
       "      <td>-0.101516</td>\n",
       "      <td>-0.114732</td>\n",
       "      <td>-0.138605</td>\n",
       "      <td>-0.120546</td>\n",
       "      <td>-0.113184</td>\n",
       "    </tr>\n",
       "    <tr>\n",
       "      <th>201109</th>\n",
       "      <td>-0.063509</td>\n",
       "      <td>-0.088387</td>\n",
       "      <td>-0.138359</td>\n",
       "      <td>-0.078464</td>\n",
       "      <td>-0.115671</td>\n",
       "      <td>-0.080382</td>\n",
       "      <td>-0.143709</td>\n",
       "      <td>-0.127642</td>\n",
       "      <td>-0.132952</td>\n",
       "      <td>-0.091388</td>\n",
       "      <td>...</td>\n",
       "      <td>-0.062091</td>\n",
       "      <td>-0.097990</td>\n",
       "      <td>-0.138542</td>\n",
       "      <td>-0.101937</td>\n",
       "      <td>-0.153225</td>\n",
       "      <td>-0.072724</td>\n",
       "      <td>-0.053051</td>\n",
       "      <td>0.017657</td>\n",
       "      <td>-0.074500</td>\n",
       "      <td>-0.113124</td>\n",
       "    </tr>\n",
       "    <tr>\n",
       "      <th>201110</th>\n",
       "      <td>0.183305</td>\n",
       "      <td>0.154708</td>\n",
       "      <td>0.130922</td>\n",
       "      <td>0.088069</td>\n",
       "      <td>0.097839</td>\n",
       "      <td>0.143289</td>\n",
       "      <td>0.113503</td>\n",
       "      <td>0.084655</td>\n",
       "      <td>0.087484</td>\n",
       "      <td>0.065576</td>\n",
       "      <td>...</td>\n",
       "      <td>0.149120</td>\n",
       "      <td>0.145316</td>\n",
       "      <td>0.099920</td>\n",
       "      <td>0.081162</td>\n",
       "      <td>0.044345</td>\n",
       "      <td>0.060916</td>\n",
       "      <td>0.046999</td>\n",
       "      <td>0.124529</td>\n",
       "      <td>0.073554</td>\n",
       "      <td>0.124184</td>\n",
       "    </tr>\n",
       "    <tr>\n",
       "      <th>201111</th>\n",
       "      <td>-0.085549</td>\n",
       "      <td>0.022234</td>\n",
       "      <td>0.016403</td>\n",
       "      <td>-0.030784</td>\n",
       "      <td>0.075804</td>\n",
       "      <td>0.023247</td>\n",
       "      <td>0.023404</td>\n",
       "      <td>0.016234</td>\n",
       "      <td>0.029134</td>\n",
       "      <td>0.028316</td>\n",
       "      <td>...</td>\n",
       "      <td>-0.012357</td>\n",
       "      <td>0.056549</td>\n",
       "      <td>0.031397</td>\n",
       "      <td>0.003773</td>\n",
       "      <td>-0.028560</td>\n",
       "      <td>-0.038483</td>\n",
       "      <td>-0.060938</td>\n",
       "      <td>0.011929</td>\n",
       "      <td>-0.047356</td>\n",
       "      <td>-0.036818</td>\n",
       "    </tr>\n",
       "    <tr>\n",
       "      <th>...</th>\n",
       "      <td>...</td>\n",
       "      <td>...</td>\n",
       "      <td>...</td>\n",
       "      <td>...</td>\n",
       "      <td>...</td>\n",
       "      <td>...</td>\n",
       "      <td>...</td>\n",
       "      <td>...</td>\n",
       "      <td>...</td>\n",
       "      <td>...</td>\n",
       "      <td>...</td>\n",
       "      <td>...</td>\n",
       "      <td>...</td>\n",
       "      <td>...</td>\n",
       "      <td>...</td>\n",
       "      <td>...</td>\n",
       "      <td>...</td>\n",
       "      <td>...</td>\n",
       "      <td>...</td>\n",
       "      <td>...</td>\n",
       "      <td>...</td>\n",
       "    </tr>\n",
       "    <tr>\n",
       "      <th>202102</th>\n",
       "      <td>-0.002959</td>\n",
       "      <td>0.029745</td>\n",
       "      <td>0.025086</td>\n",
       "      <td>0.010781</td>\n",
       "      <td>0.014080</td>\n",
       "      <td>-0.016187</td>\n",
       "      <td>-0.011633</td>\n",
       "      <td>0.015030</td>\n",
       "      <td>0.044879</td>\n",
       "      <td>0.056081</td>\n",
       "      <td>...</td>\n",
       "      <td>0.004790</td>\n",
       "      <td>0.009531</td>\n",
       "      <td>-0.039177</td>\n",
       "      <td>0.045730</td>\n",
       "      <td>0.028475</td>\n",
       "      <td>-0.037785</td>\n",
       "      <td>0.048975</td>\n",
       "      <td>0.008839</td>\n",
       "      <td>-0.016350</td>\n",
       "      <td>0.020071</td>\n",
       "    </tr>\n",
       "    <tr>\n",
       "      <th>202103</th>\n",
       "      <td>0.020559</td>\n",
       "      <td>0.083434</td>\n",
       "      <td>0.096040</td>\n",
       "      <td>0.078717</td>\n",
       "      <td>0.092815</td>\n",
       "      <td>-0.000099</td>\n",
       "      <td>0.086339</td>\n",
       "      <td>0.053065</td>\n",
       "      <td>0.142820</td>\n",
       "      <td>0.041767</td>\n",
       "      <td>...</td>\n",
       "      <td>0.007650</td>\n",
       "      <td>0.037725</td>\n",
       "      <td>0.048975</td>\n",
       "      <td>0.053281</td>\n",
       "      <td>0.071579</td>\n",
       "      <td>0.006920</td>\n",
       "      <td>0.020846</td>\n",
       "      <td>-0.017726</td>\n",
       "      <td>0.031702</td>\n",
       "      <td>0.037277</td>\n",
       "    </tr>\n",
       "    <tr>\n",
       "      <th>202104</th>\n",
       "      <td>0.048029</td>\n",
       "      <td>0.056077</td>\n",
       "      <td>0.062120</td>\n",
       "      <td>0.062973</td>\n",
       "      <td>0.100352</td>\n",
       "      <td>0.111821</td>\n",
       "      <td>0.018974</td>\n",
       "      <td>0.059791</td>\n",
       "      <td>0.061185</td>\n",
       "      <td>0.077135</td>\n",
       "      <td>...</td>\n",
       "      <td>0.023693</td>\n",
       "      <td>0.050554</td>\n",
       "      <td>0.063159</td>\n",
       "      <td>0.083558</td>\n",
       "      <td>0.093430</td>\n",
       "      <td>-0.059523</td>\n",
       "      <td>-0.219983</td>\n",
       "      <td>0.005909</td>\n",
       "      <td>0.102483</td>\n",
       "      <td>0.000303</td>\n",
       "    </tr>\n",
       "    <tr>\n",
       "      <th>202105</th>\n",
       "      <td>0.016770</td>\n",
       "      <td>0.021387</td>\n",
       "      <td>0.075659</td>\n",
       "      <td>0.057348</td>\n",
       "      <td>0.046975</td>\n",
       "      <td>-0.067956</td>\n",
       "      <td>-0.013185</td>\n",
       "      <td>0.065256</td>\n",
       "      <td>0.017164</td>\n",
       "      <td>0.014957</td>\n",
       "      <td>...</td>\n",
       "      <td>-0.028353</td>\n",
       "      <td>0.015378</td>\n",
       "      <td>0.052189</td>\n",
       "      <td>0.036123</td>\n",
       "      <td>0.046946</td>\n",
       "      <td>0.021790</td>\n",
       "      <td>0.046254</td>\n",
       "      <td>-0.016296</td>\n",
       "      <td>0.005558</td>\n",
       "      <td>0.057736</td>\n",
       "    </tr>\n",
       "    <tr>\n",
       "      <th>202106</th>\n",
       "      <td>0.048591</td>\n",
       "      <td>0.056169</td>\n",
       "      <td>0.029359</td>\n",
       "      <td>0.102419</td>\n",
       "      <td>0.081202</td>\n",
       "      <td>0.064359</td>\n",
       "      <td>0.067334</td>\n",
       "      <td>0.038287</td>\n",
       "      <td>0.039636</td>\n",
       "      <td>0.070171</td>\n",
       "      <td>...</td>\n",
       "      <td>0.040596</td>\n",
       "      <td>0.058865</td>\n",
       "      <td>0.039105</td>\n",
       "      <td>0.038472</td>\n",
       "      <td>0.010827</td>\n",
       "      <td>0.043756</td>\n",
       "      <td>0.104852</td>\n",
       "      <td>0.016097</td>\n",
       "      <td>0.025798</td>\n",
       "      <td>0.014758</td>\n",
       "    </tr>\n",
       "  </tbody>\n",
       "</table>\n",
       "<p>120 rows × 25 columns</p>\n",
       "</div>"
      ],
      "text/plain": [
       "              0         1         2         3         4         5         6   \\\n",
       "201107  0.125431  0.083726  0.144351  0.041956  0.037641  0.115584  0.117543   \n",
       "201108 -0.086216 -0.076886 -0.070131 -0.043202  0.034230 -0.089055 -0.088649   \n",
       "201109 -0.063509 -0.088387 -0.138359 -0.078464 -0.115671 -0.080382 -0.143709   \n",
       "201110  0.183305  0.154708  0.130922  0.088069  0.097839  0.143289  0.113503   \n",
       "201111 -0.085549  0.022234  0.016403 -0.030784  0.075804  0.023247  0.023404   \n",
       "...          ...       ...       ...       ...       ...       ...       ...   \n",
       "202102 -0.002959  0.029745  0.025086  0.010781  0.014080 -0.016187 -0.011633   \n",
       "202103  0.020559  0.083434  0.096040  0.078717  0.092815 -0.000099  0.086339   \n",
       "202104  0.048029  0.056077  0.062120  0.062973  0.100352  0.111821  0.018974   \n",
       "202105  0.016770  0.021387  0.075659  0.057348  0.046975 -0.067956 -0.013185   \n",
       "202106  0.048591  0.056169  0.029359  0.102419  0.081202  0.064359  0.067334   \n",
       "\n",
       "              7         8         9   ...        15        16        17  \\\n",
       "201107  0.106797  0.090796  0.093427  ...  0.136272  0.098556  0.069372   \n",
       "201108 -0.046603 -0.097334 -0.088064  ... -0.058730 -0.106975 -0.123449   \n",
       "201109 -0.127642 -0.132952 -0.091388  ... -0.062091 -0.097990 -0.138542   \n",
       "201110  0.084655  0.087484  0.065576  ...  0.149120  0.145316  0.099920   \n",
       "201111  0.016234  0.029134  0.028316  ... -0.012357  0.056549  0.031397   \n",
       "...          ...       ...       ...  ...       ...       ...       ...   \n",
       "202102  0.015030  0.044879  0.056081  ...  0.004790  0.009531 -0.039177   \n",
       "202103  0.053065  0.142820  0.041767  ...  0.007650  0.037725  0.048975   \n",
       "202104  0.059791  0.061185  0.077135  ...  0.023693  0.050554  0.063159   \n",
       "202105  0.065256  0.017164  0.014957  ... -0.028353  0.015378  0.052189   \n",
       "202106  0.038287  0.039636  0.070171  ...  0.040596  0.058865  0.039105   \n",
       "\n",
       "              18        19        20        21        22        23        24  \n",
       "201107  0.127112  0.080189  0.032604 -0.004833  0.018453  0.000569 -0.005136  \n",
       "201108 -0.111717 -0.087912 -0.101516 -0.114732 -0.138605 -0.120546 -0.113184  \n",
       "201109 -0.101937 -0.153225 -0.072724 -0.053051  0.017657 -0.074500 -0.113124  \n",
       "201110  0.081162  0.044345  0.060916  0.046999  0.124529  0.073554  0.124184  \n",
       "201111  0.003773 -0.028560 -0.038483 -0.060938  0.011929 -0.047356 -0.036818  \n",
       "...          ...       ...       ...       ...       ...       ...       ...  \n",
       "202102  0.045730  0.028475 -0.037785  0.048975  0.008839 -0.016350  0.020071  \n",
       "202103  0.053281  0.071579  0.006920  0.020846 -0.017726  0.031702  0.037277  \n",
       "202104  0.083558  0.093430 -0.059523 -0.219983  0.005909  0.102483  0.000303  \n",
       "202105  0.036123  0.046946  0.021790  0.046254 -0.016296  0.005558  0.057736  \n",
       "202106  0.038472  0.010827  0.043756  0.104852  0.016097  0.025798  0.014758  \n",
       "\n",
       "[120 rows x 25 columns]"
      ]
     },
     "execution_count": 32,
     "metadata": {},
     "output_type": "execute_result"
    }
   ],
   "source": [
    "pfo_return"
   ]
  },
  {
   "cell_type": "code",
   "execution_count": 14,
   "metadata": {},
   "outputs": [
    {
     "data": {
      "application/vnd.jupyter.widget-view+json": {
       "model_id": "b36aec4ea9234ae1b68c92cdc4dedbe2",
       "version_major": 2,
       "version_minor": 0
      },
      "text/plain": [
       "HBox(children=(HTML(value=''), FloatProgress(value=0.0, max=120.0), HTML(value='')))"
      ]
     },
     "metadata": {},
     "output_type": "display_data"
    },
    {
     "name": "stdout",
     "output_type": "stream",
     "text": [
      "\n"
     ]
    }
   ],
   "source": [
    "# HML pfo\n",
    "hml_pfo_mask = make_portfolio(get_mask(Market_cap[0], Market_cap[1], market_bp = 'KOSPI', breakpoint = [0.2, 0.4, 0.6, 0.8]), BEME_shifted, breakpoint = [0.2, 0.4, 0.6, 0.8])\n",
    "\n",
    "pfo25 = serialize_pfo([get_mask(Market_cap[0], Market_cap[1], market_bp = 'KOSPI', breakpoint = [0.2, 0.4, 0.6, 0.8]), hml_pfo_mask])\n",
    "\n",
    "pfo_return = get_factor_on_date_by_mask(pfo25, term = 'm', winsorize_limits=0.01, weight = 'VW')"
   ]
  },
  {
   "cell_type": "code",
   "execution_count": 27,
   "metadata": {},
   "outputs": [
    {
     "data": {
      "text/html": [
       "<div>\n",
       "<style scoped>\n",
       "    .dataframe tbody tr th:only-of-type {\n",
       "        vertical-align: middle;\n",
       "    }\n",
       "\n",
       "    .dataframe tbody tr th {\n",
       "        vertical-align: top;\n",
       "    }\n",
       "\n",
       "    .dataframe thead th {\n",
       "        text-align: right;\n",
       "    }\n",
       "</style>\n",
       "<table border=\"1\" class=\"dataframe\">\n",
       "  <thead>\n",
       "    <tr style=\"text-align: right;\">\n",
       "      <th></th>\n",
       "      <th>0</th>\n",
       "      <th>1</th>\n",
       "      <th>2</th>\n",
       "      <th>3</th>\n",
       "      <th>4</th>\n",
       "      <th>5</th>\n",
       "      <th>6</th>\n",
       "      <th>7</th>\n",
       "      <th>8</th>\n",
       "      <th>9</th>\n",
       "      <th>...</th>\n",
       "      <th>15</th>\n",
       "      <th>16</th>\n",
       "      <th>17</th>\n",
       "      <th>18</th>\n",
       "      <th>19</th>\n",
       "      <th>20</th>\n",
       "      <th>21</th>\n",
       "      <th>22</th>\n",
       "      <th>23</th>\n",
       "      <th>24</th>\n",
       "    </tr>\n",
       "  </thead>\n",
       "  <tbody>\n",
       "    <tr>\n",
       "      <th>201107</th>\n",
       "      <td>0.125431</td>\n",
       "      <td>0.083726</td>\n",
       "      <td>0.144351</td>\n",
       "      <td>0.041956</td>\n",
       "      <td>0.037641</td>\n",
       "      <td>0.115584</td>\n",
       "      <td>0.117543</td>\n",
       "      <td>0.106797</td>\n",
       "      <td>0.090796</td>\n",
       "      <td>0.093427</td>\n",
       "      <td>...</td>\n",
       "      <td>0.136272</td>\n",
       "      <td>0.098556</td>\n",
       "      <td>0.069372</td>\n",
       "      <td>0.127112</td>\n",
       "      <td>0.080189</td>\n",
       "      <td>0.032604</td>\n",
       "      <td>-0.004833</td>\n",
       "      <td>0.018453</td>\n",
       "      <td>0.000569</td>\n",
       "      <td>-0.005136</td>\n",
       "    </tr>\n",
       "    <tr>\n",
       "      <th>201108</th>\n",
       "      <td>-0.086216</td>\n",
       "      <td>-0.076886</td>\n",
       "      <td>-0.070131</td>\n",
       "      <td>-0.043202</td>\n",
       "      <td>0.034230</td>\n",
       "      <td>-0.089055</td>\n",
       "      <td>-0.088649</td>\n",
       "      <td>-0.046603</td>\n",
       "      <td>-0.097334</td>\n",
       "      <td>-0.088064</td>\n",
       "      <td>...</td>\n",
       "      <td>-0.058730</td>\n",
       "      <td>-0.106975</td>\n",
       "      <td>-0.123449</td>\n",
       "      <td>-0.111717</td>\n",
       "      <td>-0.087912</td>\n",
       "      <td>-0.101516</td>\n",
       "      <td>-0.114732</td>\n",
       "      <td>-0.138605</td>\n",
       "      <td>-0.120546</td>\n",
       "      <td>-0.113184</td>\n",
       "    </tr>\n",
       "    <tr>\n",
       "      <th>201109</th>\n",
       "      <td>-0.063509</td>\n",
       "      <td>-0.088387</td>\n",
       "      <td>-0.138359</td>\n",
       "      <td>-0.078464</td>\n",
       "      <td>-0.115671</td>\n",
       "      <td>-0.080382</td>\n",
       "      <td>-0.143709</td>\n",
       "      <td>-0.127642</td>\n",
       "      <td>-0.132952</td>\n",
       "      <td>-0.091388</td>\n",
       "      <td>...</td>\n",
       "      <td>-0.062091</td>\n",
       "      <td>-0.097990</td>\n",
       "      <td>-0.138542</td>\n",
       "      <td>-0.101937</td>\n",
       "      <td>-0.153225</td>\n",
       "      <td>-0.072724</td>\n",
       "      <td>-0.053051</td>\n",
       "      <td>0.017657</td>\n",
       "      <td>-0.074500</td>\n",
       "      <td>-0.113124</td>\n",
       "    </tr>\n",
       "    <tr>\n",
       "      <th>201110</th>\n",
       "      <td>0.183305</td>\n",
       "      <td>0.154708</td>\n",
       "      <td>0.130922</td>\n",
       "      <td>0.088069</td>\n",
       "      <td>0.097839</td>\n",
       "      <td>0.143289</td>\n",
       "      <td>0.113503</td>\n",
       "      <td>0.084655</td>\n",
       "      <td>0.087484</td>\n",
       "      <td>0.065576</td>\n",
       "      <td>...</td>\n",
       "      <td>0.149120</td>\n",
       "      <td>0.145316</td>\n",
       "      <td>0.099920</td>\n",
       "      <td>0.081162</td>\n",
       "      <td>0.044345</td>\n",
       "      <td>0.060916</td>\n",
       "      <td>0.046999</td>\n",
       "      <td>0.124529</td>\n",
       "      <td>0.073554</td>\n",
       "      <td>0.124184</td>\n",
       "    </tr>\n",
       "    <tr>\n",
       "      <th>201111</th>\n",
       "      <td>-0.085549</td>\n",
       "      <td>0.022234</td>\n",
       "      <td>0.016403</td>\n",
       "      <td>-0.030784</td>\n",
       "      <td>0.075804</td>\n",
       "      <td>0.023247</td>\n",
       "      <td>0.023404</td>\n",
       "      <td>0.016234</td>\n",
       "      <td>0.029134</td>\n",
       "      <td>0.028316</td>\n",
       "      <td>...</td>\n",
       "      <td>-0.012357</td>\n",
       "      <td>0.056549</td>\n",
       "      <td>0.031397</td>\n",
       "      <td>0.003773</td>\n",
       "      <td>-0.028560</td>\n",
       "      <td>-0.038483</td>\n",
       "      <td>-0.060938</td>\n",
       "      <td>0.011929</td>\n",
       "      <td>-0.047356</td>\n",
       "      <td>-0.036818</td>\n",
       "    </tr>\n",
       "    <tr>\n",
       "      <th>...</th>\n",
       "      <td>...</td>\n",
       "      <td>...</td>\n",
       "      <td>...</td>\n",
       "      <td>...</td>\n",
       "      <td>...</td>\n",
       "      <td>...</td>\n",
       "      <td>...</td>\n",
       "      <td>...</td>\n",
       "      <td>...</td>\n",
       "      <td>...</td>\n",
       "      <td>...</td>\n",
       "      <td>...</td>\n",
       "      <td>...</td>\n",
       "      <td>...</td>\n",
       "      <td>...</td>\n",
       "      <td>...</td>\n",
       "      <td>...</td>\n",
       "      <td>...</td>\n",
       "      <td>...</td>\n",
       "      <td>...</td>\n",
       "      <td>...</td>\n",
       "    </tr>\n",
       "    <tr>\n",
       "      <th>202102</th>\n",
       "      <td>-0.002959</td>\n",
       "      <td>0.029745</td>\n",
       "      <td>0.025086</td>\n",
       "      <td>0.010781</td>\n",
       "      <td>0.014080</td>\n",
       "      <td>-0.016187</td>\n",
       "      <td>-0.011633</td>\n",
       "      <td>0.015030</td>\n",
       "      <td>0.044879</td>\n",
       "      <td>0.056081</td>\n",
       "      <td>...</td>\n",
       "      <td>0.004790</td>\n",
       "      <td>0.009531</td>\n",
       "      <td>-0.039177</td>\n",
       "      <td>0.045730</td>\n",
       "      <td>0.028475</td>\n",
       "      <td>-0.037785</td>\n",
       "      <td>0.048975</td>\n",
       "      <td>0.008839</td>\n",
       "      <td>-0.016350</td>\n",
       "      <td>0.020071</td>\n",
       "    </tr>\n",
       "    <tr>\n",
       "      <th>202103</th>\n",
       "      <td>0.020559</td>\n",
       "      <td>0.083434</td>\n",
       "      <td>0.096040</td>\n",
       "      <td>0.078717</td>\n",
       "      <td>0.092815</td>\n",
       "      <td>-0.000099</td>\n",
       "      <td>0.086339</td>\n",
       "      <td>0.053065</td>\n",
       "      <td>0.142820</td>\n",
       "      <td>0.041767</td>\n",
       "      <td>...</td>\n",
       "      <td>0.007650</td>\n",
       "      <td>0.037725</td>\n",
       "      <td>0.048975</td>\n",
       "      <td>0.053281</td>\n",
       "      <td>0.071579</td>\n",
       "      <td>0.006920</td>\n",
       "      <td>0.020846</td>\n",
       "      <td>-0.017726</td>\n",
       "      <td>0.031702</td>\n",
       "      <td>0.037277</td>\n",
       "    </tr>\n",
       "    <tr>\n",
       "      <th>202104</th>\n",
       "      <td>0.048029</td>\n",
       "      <td>0.056077</td>\n",
       "      <td>0.062120</td>\n",
       "      <td>0.062973</td>\n",
       "      <td>0.100352</td>\n",
       "      <td>0.111821</td>\n",
       "      <td>0.018974</td>\n",
       "      <td>0.059791</td>\n",
       "      <td>0.061185</td>\n",
       "      <td>0.077135</td>\n",
       "      <td>...</td>\n",
       "      <td>0.023693</td>\n",
       "      <td>0.050554</td>\n",
       "      <td>0.063159</td>\n",
       "      <td>0.083558</td>\n",
       "      <td>0.093430</td>\n",
       "      <td>-0.059523</td>\n",
       "      <td>-0.219983</td>\n",
       "      <td>0.005909</td>\n",
       "      <td>0.102483</td>\n",
       "      <td>0.000303</td>\n",
       "    </tr>\n",
       "    <tr>\n",
       "      <th>202105</th>\n",
       "      <td>0.016770</td>\n",
       "      <td>0.021387</td>\n",
       "      <td>0.075659</td>\n",
       "      <td>0.057348</td>\n",
       "      <td>0.046975</td>\n",
       "      <td>-0.067956</td>\n",
       "      <td>-0.013185</td>\n",
       "      <td>0.065256</td>\n",
       "      <td>0.017164</td>\n",
       "      <td>0.014957</td>\n",
       "      <td>...</td>\n",
       "      <td>-0.028353</td>\n",
       "      <td>0.015378</td>\n",
       "      <td>0.052189</td>\n",
       "      <td>0.036123</td>\n",
       "      <td>0.046946</td>\n",
       "      <td>0.021790</td>\n",
       "      <td>0.046254</td>\n",
       "      <td>-0.016296</td>\n",
       "      <td>0.005558</td>\n",
       "      <td>0.057736</td>\n",
       "    </tr>\n",
       "    <tr>\n",
       "      <th>202106</th>\n",
       "      <td>0.048591</td>\n",
       "      <td>0.056169</td>\n",
       "      <td>0.029359</td>\n",
       "      <td>0.102419</td>\n",
       "      <td>0.081202</td>\n",
       "      <td>0.064359</td>\n",
       "      <td>0.067334</td>\n",
       "      <td>0.038287</td>\n",
       "      <td>0.039636</td>\n",
       "      <td>0.070171</td>\n",
       "      <td>...</td>\n",
       "      <td>0.040596</td>\n",
       "      <td>0.058865</td>\n",
       "      <td>0.039105</td>\n",
       "      <td>0.038472</td>\n",
       "      <td>0.010827</td>\n",
       "      <td>0.043756</td>\n",
       "      <td>0.104852</td>\n",
       "      <td>0.016097</td>\n",
       "      <td>0.025798</td>\n",
       "      <td>0.014758</td>\n",
       "    </tr>\n",
       "  </tbody>\n",
       "</table>\n",
       "<p>120 rows × 25 columns</p>\n",
       "</div>"
      ],
      "text/plain": [
       "              0         1         2         3         4         5         6   \\\n",
       "201107  0.125431  0.083726  0.144351  0.041956  0.037641  0.115584  0.117543   \n",
       "201108 -0.086216 -0.076886 -0.070131 -0.043202  0.034230 -0.089055 -0.088649   \n",
       "201109 -0.063509 -0.088387 -0.138359 -0.078464 -0.115671 -0.080382 -0.143709   \n",
       "201110  0.183305  0.154708  0.130922  0.088069  0.097839  0.143289  0.113503   \n",
       "201111 -0.085549  0.022234  0.016403 -0.030784  0.075804  0.023247  0.023404   \n",
       "...          ...       ...       ...       ...       ...       ...       ...   \n",
       "202102 -0.002959  0.029745  0.025086  0.010781  0.014080 -0.016187 -0.011633   \n",
       "202103  0.020559  0.083434  0.096040  0.078717  0.092815 -0.000099  0.086339   \n",
       "202104  0.048029  0.056077  0.062120  0.062973  0.100352  0.111821  0.018974   \n",
       "202105  0.016770  0.021387  0.075659  0.057348  0.046975 -0.067956 -0.013185   \n",
       "202106  0.048591  0.056169  0.029359  0.102419  0.081202  0.064359  0.067334   \n",
       "\n",
       "              7         8         9   ...        15        16        17  \\\n",
       "201107  0.106797  0.090796  0.093427  ...  0.136272  0.098556  0.069372   \n",
       "201108 -0.046603 -0.097334 -0.088064  ... -0.058730 -0.106975 -0.123449   \n",
       "201109 -0.127642 -0.132952 -0.091388  ... -0.062091 -0.097990 -0.138542   \n",
       "201110  0.084655  0.087484  0.065576  ...  0.149120  0.145316  0.099920   \n",
       "201111  0.016234  0.029134  0.028316  ... -0.012357  0.056549  0.031397   \n",
       "...          ...       ...       ...  ...       ...       ...       ...   \n",
       "202102  0.015030  0.044879  0.056081  ...  0.004790  0.009531 -0.039177   \n",
       "202103  0.053065  0.142820  0.041767  ...  0.007650  0.037725  0.048975   \n",
       "202104  0.059791  0.061185  0.077135  ...  0.023693  0.050554  0.063159   \n",
       "202105  0.065256  0.017164  0.014957  ... -0.028353  0.015378  0.052189   \n",
       "202106  0.038287  0.039636  0.070171  ...  0.040596  0.058865  0.039105   \n",
       "\n",
       "              18        19        20        21        22        23        24  \n",
       "201107  0.127112  0.080189  0.032604 -0.004833  0.018453  0.000569 -0.005136  \n",
       "201108 -0.111717 -0.087912 -0.101516 -0.114732 -0.138605 -0.120546 -0.113184  \n",
       "201109 -0.101937 -0.153225 -0.072724 -0.053051  0.017657 -0.074500 -0.113124  \n",
       "201110  0.081162  0.044345  0.060916  0.046999  0.124529  0.073554  0.124184  \n",
       "201111  0.003773 -0.028560 -0.038483 -0.060938  0.011929 -0.047356 -0.036818  \n",
       "...          ...       ...       ...       ...       ...       ...       ...  \n",
       "202102  0.045730  0.028475 -0.037785  0.048975  0.008839 -0.016350  0.020071  \n",
       "202103  0.053281  0.071579  0.006920  0.020846 -0.017726  0.031702  0.037277  \n",
       "202104  0.083558  0.093430 -0.059523 -0.219983  0.005909  0.102483  0.000303  \n",
       "202105  0.036123  0.046946  0.021790  0.046254 -0.016296  0.005558  0.057736  \n",
       "202106  0.038472  0.010827  0.043756  0.104852  0.016097  0.025798  0.014758  \n",
       "\n",
       "[120 rows x 25 columns]"
      ]
     },
     "execution_count": 27,
     "metadata": {},
     "output_type": "execute_result"
    }
   ],
   "source": [
    "pfo_return"
   ]
  },
  {
   "cell_type": "code",
   "execution_count": 33,
   "metadata": {
    "scrolled": true
   },
   "outputs": [],
   "source": [
    "coef = []\n",
    "tvalues = []\n",
    "r = []\n",
    "p = []\n",
    "# R_m = get_market_return(pfo25, term = 'm').squeeze()\n",
    "for i in range(25):\n",
    "    model = get_ols_model(pfo25, R_m, pfo_return.iloc[:,i], cd_91, SMB.iloc[:,0] - SMB.iloc[:,1], HML.iloc[:,2] - HML.iloc[:,0], RMW.iloc[:,2] - RMW.iloc[:,0], CMA.iloc[:,0] - CMA.iloc[:,2])\n",
    "    coef.append(model.params)\n",
    "    tvalues.append(model.tvalues)\n",
    "    r.append(model.rsquared)\n",
    "    p.append(model.pvalues)"
   ]
  },
  {
   "cell_type": "code",
   "execution_count": 17,
   "metadata": {},
   "outputs": [
    {
     "data": {
      "text/plain": [
       "Intercept    2.893207e-01\n",
       "market       8.543490e-56\n",
       "factor0      3.141738e-02\n",
       "factor1      2.052202e-08\n",
       "factor2      6.877499e-01\n",
       "factor3      1.180689e-01\n",
       "dtype: float64"
      ]
     },
     "execution_count": 17,
     "metadata": {},
     "output_type": "execute_result"
    }
   ],
   "source": [
    "model.pvalues"
   ]
  },
  {
   "cell_type": "code",
   "execution_count": 17,
   "metadata": {},
   "outputs": [
    {
     "data": {
      "text/html": [
       "<div>\n",
       "<style scoped>\n",
       "    .dataframe tbody tr th:only-of-type {\n",
       "        vertical-align: middle;\n",
       "    }\n",
       "\n",
       "    .dataframe tbody tr th {\n",
       "        vertical-align: top;\n",
       "    }\n",
       "\n",
       "    .dataframe thead th {\n",
       "        text-align: right;\n",
       "    }\n",
       "</style>\n",
       "<table border=\"1\" class=\"dataframe\">\n",
       "  <thead>\n",
       "    <tr style=\"text-align: right;\">\n",
       "      <th></th>\n",
       "      <th>0</th>\n",
       "      <th>1</th>\n",
       "      <th>2</th>\n",
       "      <th>3</th>\n",
       "      <th>4</th>\n",
       "      <th>5</th>\n",
       "      <th>6</th>\n",
       "      <th>7</th>\n",
       "      <th>8</th>\n",
       "      <th>9</th>\n",
       "      <th>...</th>\n",
       "      <th>15</th>\n",
       "      <th>16</th>\n",
       "      <th>17</th>\n",
       "      <th>18</th>\n",
       "      <th>19</th>\n",
       "      <th>20</th>\n",
       "      <th>21</th>\n",
       "      <th>22</th>\n",
       "      <th>23</th>\n",
       "      <th>24</th>\n",
       "    </tr>\n",
       "  </thead>\n",
       "  <tbody>\n",
       "    <tr>\n",
       "      <th>Intercept</th>\n",
       "      <td>-0.016281</td>\n",
       "      <td>-0.015577</td>\n",
       "      <td>-0.008254</td>\n",
       "      <td>0.002150</td>\n",
       "      <td>-0.012183</td>\n",
       "      <td>-0.020445</td>\n",
       "      <td>-0.015079</td>\n",
       "      <td>-0.017992</td>\n",
       "      <td>-0.009234</td>\n",
       "      <td>-0.011982</td>\n",
       "      <td>...</td>\n",
       "      <td>-0.015358</td>\n",
       "      <td>-0.021527</td>\n",
       "      <td>-0.007482</td>\n",
       "      <td>-0.023568</td>\n",
       "      <td>-0.018432</td>\n",
       "      <td>-0.004444</td>\n",
       "      <td>-0.009592</td>\n",
       "      <td>0.029090</td>\n",
       "      <td>0.006788</td>\n",
       "      <td>-0.006246</td>\n",
       "    </tr>\n",
       "    <tr>\n",
       "      <th>market</th>\n",
       "      <td>0.798682</td>\n",
       "      <td>0.845297</td>\n",
       "      <td>0.857433</td>\n",
       "      <td>0.916428</td>\n",
       "      <td>0.860507</td>\n",
       "      <td>0.877482</td>\n",
       "      <td>0.904820</td>\n",
       "      <td>0.882192</td>\n",
       "      <td>0.912916</td>\n",
       "      <td>0.888965</td>\n",
       "      <td>...</td>\n",
       "      <td>0.898935</td>\n",
       "      <td>0.876143</td>\n",
       "      <td>0.939016</td>\n",
       "      <td>0.847874</td>\n",
       "      <td>0.889605</td>\n",
       "      <td>0.946200</td>\n",
       "      <td>0.954972</td>\n",
       "      <td>1.161058</td>\n",
       "      <td>1.005374</td>\n",
       "      <td>0.960783</td>\n",
       "    </tr>\n",
       "    <tr>\n",
       "      <th>factor0</th>\n",
       "      <td>0.793591</td>\n",
       "      <td>1.362124</td>\n",
       "      <td>1.249847</td>\n",
       "      <td>1.416180</td>\n",
       "      <td>1.135632</td>\n",
       "      <td>1.196829</td>\n",
       "      <td>1.144579</td>\n",
       "      <td>1.081806</td>\n",
       "      <td>1.103983</td>\n",
       "      <td>0.895515</td>\n",
       "      <td>...</td>\n",
       "      <td>0.560648</td>\n",
       "      <td>0.637300</td>\n",
       "      <td>0.605055</td>\n",
       "      <td>0.490924</td>\n",
       "      <td>0.419773</td>\n",
       "      <td>0.006468</td>\n",
       "      <td>-0.045897</td>\n",
       "      <td>0.024375</td>\n",
       "      <td>-0.342745</td>\n",
       "      <td>-0.214449</td>\n",
       "    </tr>\n",
       "    <tr>\n",
       "      <th>factor1</th>\n",
       "      <td>-0.702184</td>\n",
       "      <td>0.006250</td>\n",
       "      <td>0.036917</td>\n",
       "      <td>0.199414</td>\n",
       "      <td>0.228608</td>\n",
       "      <td>-0.460843</td>\n",
       "      <td>-0.166214</td>\n",
       "      <td>0.044447</td>\n",
       "      <td>0.093930</td>\n",
       "      <td>0.308598</td>\n",
       "      <td>...</td>\n",
       "      <td>-0.853772</td>\n",
       "      <td>-0.461572</td>\n",
       "      <td>-0.209933</td>\n",
       "      <td>0.077763</td>\n",
       "      <td>0.432392</td>\n",
       "      <td>-0.827942</td>\n",
       "      <td>-0.319776</td>\n",
       "      <td>0.186313</td>\n",
       "      <td>0.053633</td>\n",
       "      <td>0.564269</td>\n",
       "    </tr>\n",
       "    <tr>\n",
       "      <th>factor2</th>\n",
       "      <td>-0.010991</td>\n",
       "      <td>-0.170780</td>\n",
       "      <td>0.222240</td>\n",
       "      <td>-0.059088</td>\n",
       "      <td>0.293683</td>\n",
       "      <td>-0.263796</td>\n",
       "      <td>-0.015634</td>\n",
       "      <td>-0.115867</td>\n",
       "      <td>0.088015</td>\n",
       "      <td>-0.023463</td>\n",
       "      <td>...</td>\n",
       "      <td>0.037302</td>\n",
       "      <td>0.378533</td>\n",
       "      <td>0.511845</td>\n",
       "      <td>0.344091</td>\n",
       "      <td>0.110626</td>\n",
       "      <td>0.458020</td>\n",
       "      <td>0.440354</td>\n",
       "      <td>-0.212209</td>\n",
       "      <td>-0.140462</td>\n",
       "      <td>0.064754</td>\n",
       "    </tr>\n",
       "    <tr>\n",
       "      <th>factor3</th>\n",
       "      <td>1.291834</td>\n",
       "      <td>-0.352890</td>\n",
       "      <td>-0.190381</td>\n",
       "      <td>-0.477603</td>\n",
       "      <td>0.196475</td>\n",
       "      <td>-0.101417</td>\n",
       "      <td>0.053021</td>\n",
       "      <td>-0.039438</td>\n",
       "      <td>0.017112</td>\n",
       "      <td>-0.107904</td>\n",
       "      <td>...</td>\n",
       "      <td>0.704323</td>\n",
       "      <td>0.527320</td>\n",
       "      <td>0.613266</td>\n",
       "      <td>0.544361</td>\n",
       "      <td>0.186342</td>\n",
       "      <td>0.810374</td>\n",
       "      <td>0.267488</td>\n",
       "      <td>-0.676031</td>\n",
       "      <td>0.068889</td>\n",
       "      <td>0.299304</td>\n",
       "    </tr>\n",
       "  </tbody>\n",
       "</table>\n",
       "<p>6 rows × 25 columns</p>\n",
       "</div>"
      ],
      "text/plain": [
       "                 0         1         2         3         4         5   \\\n",
       "Intercept -0.016281 -0.015577 -0.008254  0.002150 -0.012183 -0.020445   \n",
       "market     0.798682  0.845297  0.857433  0.916428  0.860507  0.877482   \n",
       "factor0    0.793591  1.362124  1.249847  1.416180  1.135632  1.196829   \n",
       "factor1   -0.702184  0.006250  0.036917  0.199414  0.228608 -0.460843   \n",
       "factor2   -0.010991 -0.170780  0.222240 -0.059088  0.293683 -0.263796   \n",
       "factor3    1.291834 -0.352890 -0.190381 -0.477603  0.196475 -0.101417   \n",
       "\n",
       "                 6         7         8         9   ...        15        16  \\\n",
       "Intercept -0.015079 -0.017992 -0.009234 -0.011982  ... -0.015358 -0.021527   \n",
       "market     0.904820  0.882192  0.912916  0.888965  ...  0.898935  0.876143   \n",
       "factor0    1.144579  1.081806  1.103983  0.895515  ...  0.560648  0.637300   \n",
       "factor1   -0.166214  0.044447  0.093930  0.308598  ... -0.853772 -0.461572   \n",
       "factor2   -0.015634 -0.115867  0.088015 -0.023463  ...  0.037302  0.378533   \n",
       "factor3    0.053021 -0.039438  0.017112 -0.107904  ...  0.704323  0.527320   \n",
       "\n",
       "                 17        18        19        20        21        22  \\\n",
       "Intercept -0.007482 -0.023568 -0.018432 -0.004444 -0.009592  0.029090   \n",
       "market     0.939016  0.847874  0.889605  0.946200  0.954972  1.161058   \n",
       "factor0    0.605055  0.490924  0.419773  0.006468 -0.045897  0.024375   \n",
       "factor1   -0.209933  0.077763  0.432392 -0.827942 -0.319776  0.186313   \n",
       "factor2    0.511845  0.344091  0.110626  0.458020  0.440354 -0.212209   \n",
       "factor3    0.613266  0.544361  0.186342  0.810374  0.267488 -0.676031   \n",
       "\n",
       "                 23        24  \n",
       "Intercept  0.006788 -0.006246  \n",
       "market     1.005374  0.960783  \n",
       "factor0   -0.342745 -0.214449  \n",
       "factor1    0.053633  0.564269  \n",
       "factor2   -0.140462  0.064754  \n",
       "factor3    0.068889  0.299304  \n",
       "\n",
       "[6 rows x 25 columns]"
      ]
     },
     "execution_count": 17,
     "metadata": {},
     "output_type": "execute_result"
    }
   ],
   "source": [
    "pd.concat(coef, axis=1)"
   ]
  },
  {
   "cell_type": "code",
   "execution_count": 16,
   "metadata": {},
   "outputs": [
    {
     "data": {
      "text/html": [
       "<div>\n",
       "<style scoped>\n",
       "    .dataframe tbody tr th:only-of-type {\n",
       "        vertical-align: middle;\n",
       "    }\n",
       "\n",
       "    .dataframe tbody tr th {\n",
       "        vertical-align: top;\n",
       "    }\n",
       "\n",
       "    .dataframe thead th {\n",
       "        text-align: right;\n",
       "    }\n",
       "</style>\n",
       "<table border=\"1\" class=\"dataframe\">\n",
       "  <thead>\n",
       "    <tr style=\"text-align: right;\">\n",
       "      <th></th>\n",
       "      <th>0</th>\n",
       "      <th>1</th>\n",
       "      <th>2</th>\n",
       "      <th>3</th>\n",
       "      <th>4</th>\n",
       "      <th>5</th>\n",
       "      <th>6</th>\n",
       "      <th>7</th>\n",
       "      <th>8</th>\n",
       "      <th>9</th>\n",
       "      <th>...</th>\n",
       "      <th>15</th>\n",
       "      <th>16</th>\n",
       "      <th>17</th>\n",
       "      <th>18</th>\n",
       "      <th>19</th>\n",
       "      <th>20</th>\n",
       "      <th>21</th>\n",
       "      <th>22</th>\n",
       "      <th>23</th>\n",
       "      <th>24</th>\n",
       "    </tr>\n",
       "  </thead>\n",
       "  <tbody>\n",
       "    <tr>\n",
       "      <th>Intercept</th>\n",
       "      <td>-0.837533</td>\n",
       "      <td>-1.757050</td>\n",
       "      <td>-0.910947</td>\n",
       "      <td>0.229409</td>\n",
       "      <td>-1.351013</td>\n",
       "      <td>-2.558588</td>\n",
       "      <td>-2.630631</td>\n",
       "      <td>-3.078690</td>\n",
       "      <td>-1.544900</td>\n",
       "      <td>-1.860612</td>\n",
       "      <td>...</td>\n",
       "      <td>-1.780233</td>\n",
       "      <td>-2.985307</td>\n",
       "      <td>-0.993081</td>\n",
       "      <td>-3.338219</td>\n",
       "      <td>-2.568927</td>\n",
       "      <td>-0.541790</td>\n",
       "      <td>-1.211928</td>\n",
       "      <td>2.998085</td>\n",
       "      <td>1.009302</td>\n",
       "      <td>-1.064569</td>\n",
       "    </tr>\n",
       "    <tr>\n",
       "      <th>market</th>\n",
       "      <td>7.503858</td>\n",
       "      <td>17.414371</td>\n",
       "      <td>17.282603</td>\n",
       "      <td>17.861111</td>\n",
       "      <td>17.427700</td>\n",
       "      <td>20.055417</td>\n",
       "      <td>28.830338</td>\n",
       "      <td>27.570136</td>\n",
       "      <td>27.895372</td>\n",
       "      <td>25.211106</td>\n",
       "      <td>...</td>\n",
       "      <td>19.031198</td>\n",
       "      <td>22.190575</td>\n",
       "      <td>22.763283</td>\n",
       "      <td>21.933785</td>\n",
       "      <td>22.644217</td>\n",
       "      <td>21.067169</td>\n",
       "      <td>22.037904</td>\n",
       "      <td>21.854516</td>\n",
       "      <td>27.301257</td>\n",
       "      <td>29.908548</td>\n",
       "    </tr>\n",
       "    <tr>\n",
       "      <th>factor0</th>\n",
       "      <td>2.433310</td>\n",
       "      <td>9.158093</td>\n",
       "      <td>8.221584</td>\n",
       "      <td>9.007797</td>\n",
       "      <td>7.506076</td>\n",
       "      <td>8.927205</td>\n",
       "      <td>11.902089</td>\n",
       "      <td>11.033542</td>\n",
       "      <td>11.009138</td>\n",
       "      <td>8.288382</td>\n",
       "      <td>...</td>\n",
       "      <td>3.873630</td>\n",
       "      <td>5.267775</td>\n",
       "      <td>4.786811</td>\n",
       "      <td>4.144636</td>\n",
       "      <td>3.487096</td>\n",
       "      <td>0.046999</td>\n",
       "      <td>-0.345660</td>\n",
       "      <td>0.149735</td>\n",
       "      <td>-3.037494</td>\n",
       "      <td>-2.178633</td>\n",
       "    </tr>\n",
       "    <tr>\n",
       "      <th>factor1</th>\n",
       "      <td>-2.265574</td>\n",
       "      <td>0.044221</td>\n",
       "      <td>0.255538</td>\n",
       "      <td>1.334695</td>\n",
       "      <td>1.589987</td>\n",
       "      <td>-3.617124</td>\n",
       "      <td>-1.818747</td>\n",
       "      <td>0.477020</td>\n",
       "      <td>0.985651</td>\n",
       "      <td>3.005506</td>\n",
       "      <td>...</td>\n",
       "      <td>-6.207211</td>\n",
       "      <td>-4.014673</td>\n",
       "      <td>-1.747670</td>\n",
       "      <td>0.690829</td>\n",
       "      <td>3.779672</td>\n",
       "      <td>-6.330526</td>\n",
       "      <td>-2.534210</td>\n",
       "      <td>1.204333</td>\n",
       "      <td>0.500158</td>\n",
       "      <td>6.032163</td>\n",
       "    </tr>\n",
       "    <tr>\n",
       "      <th>factor2</th>\n",
       "      <td>-0.020642</td>\n",
       "      <td>-0.703285</td>\n",
       "      <td>0.895421</td>\n",
       "      <td>-0.230202</td>\n",
       "      <td>1.188942</td>\n",
       "      <td>-1.205197</td>\n",
       "      <td>-0.099573</td>\n",
       "      <td>-0.723820</td>\n",
       "      <td>0.537592</td>\n",
       "      <td>-0.133012</td>\n",
       "      <td>...</td>\n",
       "      <td>0.157859</td>\n",
       "      <td>1.916438</td>\n",
       "      <td>2.480258</td>\n",
       "      <td>1.779312</td>\n",
       "      <td>0.562876</td>\n",
       "      <td>2.038472</td>\n",
       "      <td>2.031320</td>\n",
       "      <td>-0.798448</td>\n",
       "      <td>-0.762446</td>\n",
       "      <td>0.402936</td>\n",
       "    </tr>\n",
       "    <tr>\n",
       "      <th>factor3</th>\n",
       "      <td>2.051476</td>\n",
       "      <td>-1.228817</td>\n",
       "      <td>-0.648606</td>\n",
       "      <td>-1.573353</td>\n",
       "      <td>0.672578</td>\n",
       "      <td>-0.391791</td>\n",
       "      <td>0.285551</td>\n",
       "      <td>-0.208322</td>\n",
       "      <td>0.088379</td>\n",
       "      <td>-0.517243</td>\n",
       "      <td>...</td>\n",
       "      <td>2.520337</td>\n",
       "      <td>2.257443</td>\n",
       "      <td>2.512810</td>\n",
       "      <td>2.380225</td>\n",
       "      <td>0.801716</td>\n",
       "      <td>3.049705</td>\n",
       "      <td>1.043356</td>\n",
       "      <td>-2.150813</td>\n",
       "      <td>0.316195</td>\n",
       "      <td>1.574821</td>\n",
       "    </tr>\n",
       "  </tbody>\n",
       "</table>\n",
       "<p>6 rows × 25 columns</p>\n",
       "</div>"
      ],
      "text/plain": [
       "                 0          1          2          3          4          5   \\\n",
       "Intercept -0.837533  -1.757050  -0.910947   0.229409  -1.351013  -2.558588   \n",
       "market     7.503858  17.414371  17.282603  17.861111  17.427700  20.055417   \n",
       "factor0    2.433310   9.158093   8.221584   9.007797   7.506076   8.927205   \n",
       "factor1   -2.265574   0.044221   0.255538   1.334695   1.589987  -3.617124   \n",
       "factor2   -0.020642  -0.703285   0.895421  -0.230202   1.188942  -1.205197   \n",
       "factor3    2.051476  -1.228817  -0.648606  -1.573353   0.672578  -0.391791   \n",
       "\n",
       "                  6          7          8          9   ...         15  \\\n",
       "Intercept  -2.630631  -3.078690  -1.544900  -1.860612  ...  -1.780233   \n",
       "market     28.830338  27.570136  27.895372  25.211106  ...  19.031198   \n",
       "factor0    11.902089  11.033542  11.009138   8.288382  ...   3.873630   \n",
       "factor1    -1.818747   0.477020   0.985651   3.005506  ...  -6.207211   \n",
       "factor2    -0.099573  -0.723820   0.537592  -0.133012  ...   0.157859   \n",
       "factor3     0.285551  -0.208322   0.088379  -0.517243  ...   2.520337   \n",
       "\n",
       "                  16         17         18         19         20         21  \\\n",
       "Intercept  -2.985307  -0.993081  -3.338219  -2.568927  -0.541790  -1.211928   \n",
       "market     22.190575  22.763283  21.933785  22.644217  21.067169  22.037904   \n",
       "factor0     5.267775   4.786811   4.144636   3.487096   0.046999  -0.345660   \n",
       "factor1    -4.014673  -1.747670   0.690829   3.779672  -6.330526  -2.534210   \n",
       "factor2     1.916438   2.480258   1.779312   0.562876   2.038472   2.031320   \n",
       "factor3     2.257443   2.512810   2.380225   0.801716   3.049705   1.043356   \n",
       "\n",
       "                  22         23         24  \n",
       "Intercept   2.998085   1.009302  -1.064569  \n",
       "market     21.854516  27.301257  29.908548  \n",
       "factor0     0.149735  -3.037494  -2.178633  \n",
       "factor1     1.204333   0.500158   6.032163  \n",
       "factor2    -0.798448  -0.762446   0.402936  \n",
       "factor3    -2.150813   0.316195   1.574821  \n",
       "\n",
       "[6 rows x 25 columns]"
      ]
     },
     "execution_count": 16,
     "metadata": {},
     "output_type": "execute_result"
    }
   ],
   "source": [
    "pd.concat(tvalues, axis=1)"
   ]
  },
  {
   "cell_type": "code",
   "execution_count": 36,
   "metadata": {},
   "outputs": [
    {
     "data": {
      "text/plain": [
       "<matplotlib.image.AxesImage at 0x2a778e2dfd0>"
      ]
     },
     "execution_count": 36,
     "metadata": {},
     "output_type": "execute_result"
    },
    {
     "data": {
      "image/png": "[encoded data removed]",
      "text/plain": [
       "<Figure size 432x288 with 1 Axes>"
      ]
     },
     "metadata": {
      "needs_background": "light"
     },
     "output_type": "display_data"
    }
   ],
   "source": [
    "import matplotlib.pyplot as plt\n",
    "\n",
    "plt.imshow(pd.concat(p, axis=1) > 0.05)"
   ]
  },
  {
   "cell_type": "code",
   "execution_count": 19,
   "metadata": {
    "scrolled": true
   },
   "outputs": [
    {
     "data": {
      "text/plain": [
       "Intercept   -0.837533\n",
       "market       7.503858\n",
       "factor0      2.433310\n",
       "factor1     -2.265574\n",
       "factor2     -0.020642\n",
       "factor3      2.051476\n",
       "dtype: float64"
      ]
     },
     "execution_count": 19,
     "metadata": {},
     "output_type": "execute_result"
    }
   ],
   "source": [
    "tvalues[0]"
   ]
  },
  {
   "cell_type": "code",
   "execution_count": 18,
   "metadata": {},
   "outputs": [
    {
     "data": {
      "text/plain": [
       "[0.4287125217765224,\n",
       " 0.8193757213906077,\n",
       " 0.8240069052527597,\n",
       " 0.7998145105316898,\n",
       " 0.8049122602523822,\n",
       " 0.7856719527250247,\n",
       " 0.8836335850899524,\n",
       " 0.8765219138631805,\n",
       " 0.8760173428347923,\n",
       " 0.8405456509470416,\n",
       " 0.7808616759363703,\n",
       " 0.8749798515934188,\n",
       " 0.8970461044608347,\n",
       " 0.8352951610782254,\n",
       " 0.8252611345839159,\n",
       " 0.7675579234752812,\n",
       " 0.7990441218151142,\n",
       " 0.7964650854907578,\n",
       " 0.8102753481228886,\n",
       " 0.7958790087496989,\n",
       " 0.7455222633617822,\n",
       " 0.7070539824822795,\n",
       " 0.802625252574964,\n",
       " 0.7921032551599314,\n",
       " 0.8817394162921868]"
      ]
     },
     "execution_count": 18,
     "metadata": {},
     "output_type": "execute_result"
    }
   ],
   "source": [
    "r"
   ]
  },
  {
   "cell_type": "markdown",
   "metadata": {},
   "source": [
    "# Performance & Robustness Check"
   ]
  },
  {
   "cell_type": "code",
   "execution_count": null,
   "metadata": {},
   "outputs": [],
   "source": [
    "Market_cap = get_market_cap_for_period('20101231', '20191231')\n",
    "\n",
    "equity = get_item_for_period('ifrs_Equity', '20101231', '20191231')\n",
    "\n",
    "BEME = equity/Market_cap[0]"
   ]
  },
  {
   "cell_type": "code",
   "execution_count": 117,
   "metadata": {},
   "outputs": [],
   "source": [
    "Market_cap = get_market_cap_for_period('20110630', '20200630')"
   ]
  },
  {
   "cell_type": "code",
   "execution_count": 119,
   "metadata": {},
   "outputs": [
    {
     "data": {
      "text/html": [
       "<div>\n",
       "<style scoped>\n",
       "    .dataframe tbody tr th:only-of-type {\n",
       "        vertical-align: middle;\n",
       "    }\n",
       "\n",
       "    .dataframe tbody tr th {\n",
       "        vertical-align: top;\n",
       "    }\n",
       "\n",
       "    .dataframe thead th {\n",
       "        text-align: right;\n",
       "    }\n",
       "</style>\n",
       "<table border=\"1\" class=\"dataframe\">\n",
       "  <thead>\n",
       "    <tr style=\"text-align: right;\">\n",
       "      <th></th>\n",
       "      <th>20110630</th>\n",
       "      <th>20120630</th>\n",
       "      <th>20130630</th>\n",
       "      <th>20140630</th>\n",
       "      <th>20150630</th>\n",
       "      <th>20160630</th>\n",
       "      <th>20170630</th>\n",
       "      <th>20180630</th>\n",
       "      <th>20190630</th>\n",
       "      <th>20200630</th>\n",
       "    </tr>\n",
       "  </thead>\n",
       "  <tbody>\n",
       "    <tr>\n",
       "      <th>069110</th>\n",
       "      <td>4.524420e+10</td>\n",
       "      <td>3.366384e+10</td>\n",
       "      <td>7.352183e+10</td>\n",
       "      <td>1.118021e+11</td>\n",
       "      <td>6.659821e+11</td>\n",
       "      <td>2.936650e+11</td>\n",
       "      <td>2.116614e+11</td>\n",
       "      <td>2.371221e+11</td>\n",
       "      <td>1.488294e+11</td>\n",
       "      <td>9.741221e+10</td>\n",
       "    </tr>\n",
       "    <tr>\n",
       "      <th>060310</th>\n",
       "      <td>1.503018e+11</td>\n",
       "      <td>6.811222e+11</td>\n",
       "      <td>2.514874e+11</td>\n",
       "      <td>1.778814e+11</td>\n",
       "      <td>1.036619e+11</td>\n",
       "      <td>1.500582e+11</td>\n",
       "      <td>9.738000e+10</td>\n",
       "      <td>1.267502e+11</td>\n",
       "      <td>1.184223e+11</td>\n",
       "      <td>1.084221e+11</td>\n",
       "    </tr>\n",
       "    <tr>\n",
       "      <th>900010</th>\n",
       "      <td>6.781855e+10</td>\n",
       "      <td>4.749005e+10</td>\n",
       "      <td>NaN</td>\n",
       "      <td>NaN</td>\n",
       "      <td>NaN</td>\n",
       "      <td>NaN</td>\n",
       "      <td>NaN</td>\n",
       "      <td>NaN</td>\n",
       "      <td>NaN</td>\n",
       "      <td>NaN</td>\n",
       "    </tr>\n",
       "    <tr>\n",
       "      <th>038120</th>\n",
       "      <td>6.199044e+10</td>\n",
       "      <td>2.899643e+10</td>\n",
       "      <td>NaN</td>\n",
       "      <td>NaN</td>\n",
       "      <td>NaN</td>\n",
       "      <td>NaN</td>\n",
       "      <td>NaN</td>\n",
       "      <td>NaN</td>\n",
       "      <td>NaN</td>\n",
       "      <td>NaN</td>\n",
       "    </tr>\n",
       "    <tr>\n",
       "      <th>013340</th>\n",
       "      <td>4.124653e+10</td>\n",
       "      <td>3.696684e+10</td>\n",
       "      <td>2.788239e+10</td>\n",
       "      <td>2.269956e+10</td>\n",
       "      <td>NaN</td>\n",
       "      <td>NaN</td>\n",
       "      <td>NaN</td>\n",
       "      <td>NaN</td>\n",
       "      <td>NaN</td>\n",
       "      <td>NaN</td>\n",
       "    </tr>\n",
       "    <tr>\n",
       "      <th>...</th>\n",
       "      <td>...</td>\n",
       "      <td>...</td>\n",
       "      <td>...</td>\n",
       "      <td>...</td>\n",
       "      <td>...</td>\n",
       "      <td>...</td>\n",
       "      <td>...</td>\n",
       "      <td>...</td>\n",
       "      <td>...</td>\n",
       "      <td>...</td>\n",
       "    </tr>\n",
       "    <tr>\n",
       "      <th>318000</th>\n",
       "      <td>NaN</td>\n",
       "      <td>NaN</td>\n",
       "      <td>NaN</td>\n",
       "      <td>NaN</td>\n",
       "      <td>NaN</td>\n",
       "      <td>NaN</td>\n",
       "      <td>NaN</td>\n",
       "      <td>NaN</td>\n",
       "      <td>NaN</td>\n",
       "      <td>5.796565e+10</td>\n",
       "    </tr>\n",
       "    <tr>\n",
       "      <th>256150</th>\n",
       "      <td>NaN</td>\n",
       "      <td>NaN</td>\n",
       "      <td>NaN</td>\n",
       "      <td>NaN</td>\n",
       "      <td>NaN</td>\n",
       "      <td>NaN</td>\n",
       "      <td>NaN</td>\n",
       "      <td>NaN</td>\n",
       "      <td>NaN</td>\n",
       "      <td>7.901265e+10</td>\n",
       "    </tr>\n",
       "    <tr>\n",
       "      <th>272210</th>\n",
       "      <td>NaN</td>\n",
       "      <td>NaN</td>\n",
       "      <td>NaN</td>\n",
       "      <td>NaN</td>\n",
       "      <td>NaN</td>\n",
       "      <td>NaN</td>\n",
       "      <td>NaN</td>\n",
       "      <td>NaN</td>\n",
       "      <td>NaN</td>\n",
       "      <td>9.766412e+11</td>\n",
       "    </tr>\n",
       "    <tr>\n",
       "      <th>340440</th>\n",
       "      <td>NaN</td>\n",
       "      <td>NaN</td>\n",
       "      <td>NaN</td>\n",
       "      <td>NaN</td>\n",
       "      <td>NaN</td>\n",
       "      <td>NaN</td>\n",
       "      <td>NaN</td>\n",
       "      <td>NaN</td>\n",
       "      <td>NaN</td>\n",
       "      <td>9.443550e+09</td>\n",
       "    </tr>\n",
       "    <tr>\n",
       "      <th>322000</th>\n",
       "      <td>NaN</td>\n",
       "      <td>NaN</td>\n",
       "      <td>NaN</td>\n",
       "      <td>NaN</td>\n",
       "      <td>NaN</td>\n",
       "      <td>NaN</td>\n",
       "      <td>NaN</td>\n",
       "      <td>NaN</td>\n",
       "      <td>NaN</td>\n",
       "      <td>3.108000e+11</td>\n",
       "    </tr>\n",
       "  </tbody>\n",
       "</table>\n",
       "<p>2949 rows × 10 columns</p>\n",
       "</div>"
      ],
      "text/plain": [
       "            20110630      20120630      20130630      20140630      20150630  \\\n",
       "069110  4.524420e+10  3.366384e+10  7.352183e+10  1.118021e+11  6.659821e+11   \n",
       "060310  1.503018e+11  6.811222e+11  2.514874e+11  1.778814e+11  1.036619e+11   \n",
       "900010  6.781855e+10  4.749005e+10           NaN           NaN           NaN   \n",
       "038120  6.199044e+10  2.899643e+10           NaN           NaN           NaN   \n",
       "013340  4.124653e+10  3.696684e+10  2.788239e+10  2.269956e+10           NaN   \n",
       "...              ...           ...           ...           ...           ...   \n",
       "318000           NaN           NaN           NaN           NaN           NaN   \n",
       "256150           NaN           NaN           NaN           NaN           NaN   \n",
       "272210           NaN           NaN           NaN           NaN           NaN   \n",
       "340440           NaN           NaN           NaN           NaN           NaN   \n",
       "322000           NaN           NaN           NaN           NaN           NaN   \n",
       "\n",
       "            20160630      20170630      20180630      20190630      20200630  \n",
       "069110  2.936650e+11  2.116614e+11  2.371221e+11  1.488294e+11  9.741221e+10  \n",
       "060310  1.500582e+11  9.738000e+10  1.267502e+11  1.184223e+11  1.084221e+11  \n",
       "900010           NaN           NaN           NaN           NaN           NaN  \n",
       "038120           NaN           NaN           NaN           NaN           NaN  \n",
       "013340           NaN           NaN           NaN           NaN           NaN  \n",
       "...              ...           ...           ...           ...           ...  \n",
       "318000           NaN           NaN           NaN           NaN  5.796565e+10  \n",
       "256150           NaN           NaN           NaN           NaN  7.901265e+10  \n",
       "272210           NaN           NaN           NaN           NaN  9.766412e+11  \n",
       "340440           NaN           NaN           NaN           NaN  9.443550e+09  \n",
       "322000           NaN           NaN           NaN           NaN  3.108000e+11  \n",
       "\n",
       "[2949 rows x 10 columns]"
      ]
     },
     "execution_count": 119,
     "metadata": {},
     "output_type": "execute_result"
    }
   ],
   "source": [
    "Market_cap[0]"
   ]
  },
  {
   "cell_type": "code",
   "execution_count": 118,
   "metadata": {},
   "outputs": [
    {
     "data": {
      "application/vnd.jupyter.widget-view+json": {
       "model_id": "8d6deb2f2c754f4dba0c36274acd59d6",
       "version_major": 2,
       "version_minor": 0
      },
      "text/plain": [
       "HBox(children=(HTML(value=''), FloatProgress(value=0.0, max=120.0), HTML(value='')))"
      ]
     },
     "metadata": {},
     "output_type": "display_data"
    },
    {
     "name": "stdout",
     "output_type": "stream",
     "text": [
      "\n"
     ]
    },
    {
     "ename": "KeyboardInterrupt",
     "evalue": "",
     "output_type": "error",
     "traceback": [
      "\u001b[1;31m---------------------------------------------------------------------------\u001b[0m",
      "\u001b[1;31mKeyboardInterrupt\u001b[0m                         Traceback (most recent call last)",
      "\u001b[1;32m<ipython-input-118-67d8d8f23061>\u001b[0m in \u001b[0;36m<module>\u001b[1;34m\u001b[0m\n\u001b[0;32m      1\u001b[0m \u001b[0mSMB_mask2\u001b[0m \u001b[1;33m=\u001b[0m \u001b[0mget_mask\u001b[0m\u001b[1;33m(\u001b[0m\u001b[0mMarket_cap\u001b[0m\u001b[1;33m[\u001b[0m\u001b[1;36m0\u001b[0m\u001b[1;33m]\u001b[0m\u001b[1;33m,\u001b[0m \u001b[0mMarket_cap\u001b[0m\u001b[1;33m[\u001b[0m\u001b[1;36m1\u001b[0m\u001b[1;33m]\u001b[0m\u001b[1;33m,\u001b[0m \u001b[0mmarket_bp\u001b[0m \u001b[1;33m=\u001b[0m\u001b[1;34m'KOSPI'\u001b[0m\u001b[1;33m)\u001b[0m\u001b[1;33m\u001b[0m\u001b[1;33m\u001b[0m\u001b[0m\n\u001b[0;32m      2\u001b[0m \u001b[1;33m\u001b[0m\u001b[0m\n\u001b[1;32m----> 3\u001b[1;33m \u001b[0mSMB2\u001b[0m \u001b[1;33m=\u001b[0m \u001b[0mget_factor_on_date_by_mask\u001b[0m\u001b[1;33m(\u001b[0m\u001b[0mSMB_mask2\u001b[0m\u001b[1;33m,\u001b[0m \u001b[0mterm\u001b[0m \u001b[1;33m=\u001b[0m \u001b[1;34m'm'\u001b[0m\u001b[1;33m,\u001b[0m \u001b[0mwinsorize_limits\u001b[0m \u001b[1;33m=\u001b[0m \u001b[1;36m0.01\u001b[0m\u001b[1;33m,\u001b[0m \u001b[0mweight\u001b[0m \u001b[1;33m=\u001b[0m \u001b[1;34m'VW'\u001b[0m\u001b[1;33m)\u001b[0m\u001b[1;33m\u001b[0m\u001b[1;33m\u001b[0m\u001b[0m\n\u001b[0m",
      "\u001b[1;32m<ipython-input-1-8d3a3f3b17f9>\u001b[0m in \u001b[0;36mget_factor_on_date_by_mask\u001b[1;34m(mask, term, winsorize_limits, weight)\u001b[0m\n\u001b[0;32m    388\u001b[0m             \u001b[0msecond\u001b[0m \u001b[1;33m=\u001b[0m \u001b[1;33m(\u001b[0m\u001b[0mget_market_data_on_date\u001b[0m\u001b[1;33m(\u001b[0m\u001b[0mdate_point\u001b[0m\u001b[1;33m,\u001b[0m \u001b[0mprint_error\u001b[0m \u001b[1;33m=\u001b[0m \u001b[1;32mFalse\u001b[0m\u001b[1;33m)\u001b[0m\u001b[1;33m.\u001b[0m\u001b[0mloc\u001b[0m\u001b[1;33m[\u001b[0m\u001b[1;33m:\u001b[0m\u001b[1;33m,\u001b[0m\u001b[1;33m[\u001b[0m\u001b[1;34m'종목코드'\u001b[0m\u001b[1;33m,\u001b[0m \u001b[1;34m'종가'\u001b[0m\u001b[1;33m,\u001b[0m \u001b[1;34m'시가총액'\u001b[0m\u001b[1;33m,\u001b[0m \u001b[1;34m'등락률'\u001b[0m\u001b[1;33m]\u001b[0m\u001b[1;33m]\u001b[0m\u001b[1;33m)\u001b[0m\u001b[1;33m.\u001b[0m\u001b[0mset_index\u001b[0m\u001b[1;33m(\u001b[0m\u001b[1;34m'종목코드'\u001b[0m\u001b[1;33m)\u001b[0m\u001b[1;33m\u001b[0m\u001b[1;33m\u001b[0m\u001b[0m\n\u001b[0;32m    389\u001b[0m             \u001b[0mdate_list\u001b[0m\u001b[1;33m.\u001b[0m\u001b[0mappend\u001b[0m\u001b[1;33m(\u001b[0m\u001b[0mdate_point\u001b[0m\u001b[1;33m[\u001b[0m\u001b[1;33m:\u001b[0m\u001b[1;36m6\u001b[0m\u001b[1;33m]\u001b[0m\u001b[1;33m)\u001b[0m\u001b[1;33m\u001b[0m\u001b[1;33m\u001b[0m\u001b[0m\n\u001b[1;32m--> 390\u001b[1;33m             \u001b[0mreturn_value\u001b[0m \u001b[1;33m=\u001b[0m \u001b[0mget_market_return_for_period\u001b[0m\u001b[1;33m(\u001b[0m\u001b[0mdate_point_marked\u001b[0m\u001b[1;33m,\u001b[0m \u001b[0mdate_point\u001b[0m\u001b[1;33m)\u001b[0m\u001b[1;33m\u001b[0m\u001b[1;33m\u001b[0m\u001b[0m\n\u001b[0m\u001b[0;32m    391\u001b[0m             \u001b[0mreturn_list\u001b[0m \u001b[1;33m=\u001b[0m \u001b[1;33m[\u001b[0m\u001b[1;33m]\u001b[0m\u001b[1;33m\u001b[0m\u001b[1;33m\u001b[0m\u001b[0m\n\u001b[0;32m    392\u001b[0m             \u001b[0mvalue_list\u001b[0m \u001b[1;33m=\u001b[0m \u001b[1;33m[\u001b[0m\u001b[1;33m]\u001b[0m\u001b[1;33m\u001b[0m\u001b[1;33m\u001b[0m\u001b[0m\n",
      "\u001b[1;32m<ipython-input-2-ce22437acbcd>\u001b[0m in \u001b[0;36mget_market_return_for_period\u001b[1;34m(date_from, date_to)\u001b[0m\n\u001b[0;32m      4\u001b[0m     \u001b[0mflag\u001b[0m \u001b[1;33m=\u001b[0m \u001b[0mfind_next_market_date\u001b[0m\u001b[1;33m(\u001b[0m\u001b[0mdate_from\u001b[0m\u001b[1;33m,\u001b[0m \u001b[0mtoday_opt\u001b[0m \u001b[1;33m=\u001b[0m \u001b[1;32mTrue\u001b[0m\u001b[1;33m)\u001b[0m\u001b[1;33m\u001b[0m\u001b[1;33m\u001b[0m\u001b[0m\n\u001b[0;32m      5\u001b[0m     \u001b[1;32mwhile\u001b[0m \u001b[0mflag\u001b[0m \u001b[1;33m!=\u001b[0m \u001b[0mdate_to\u001b[0m\u001b[1;33m:\u001b[0m\u001b[1;33m\u001b[0m\u001b[1;33m\u001b[0m\u001b[0m\n\u001b[1;32m----> 6\u001b[1;33m         \u001b[0mflag\u001b[0m \u001b[1;33m=\u001b[0m \u001b[0mfind_next_market_date\u001b[0m\u001b[1;33m(\u001b[0m\u001b[0mflag\u001b[0m\u001b[1;33m)\u001b[0m\u001b[1;33m\u001b[0m\u001b[1;33m\u001b[0m\u001b[0m\n\u001b[0m\u001b[0;32m      7\u001b[0m         \u001b[0mdf\u001b[0m \u001b[1;33m=\u001b[0m \u001b[0mpd\u001b[0m\u001b[1;33m.\u001b[0m\u001b[0mconcat\u001b[0m\u001b[1;33m(\u001b[0m\u001b[1;33m[\u001b[0m\u001b[0mdf\u001b[0m\u001b[1;33m,\u001b[0m \u001b[0mget_market_data_on_date\u001b[0m\u001b[1;33m(\u001b[0m\u001b[0mflag\u001b[0m\u001b[1;33m,\u001b[0m \u001b[0mprint_error\u001b[0m \u001b[1;33m=\u001b[0m \u001b[1;32mFalse\u001b[0m\u001b[1;33m)\u001b[0m\u001b[1;33m.\u001b[0m\u001b[0mloc\u001b[0m\u001b[1;33m[\u001b[0m\u001b[1;33m:\u001b[0m\u001b[1;33m,\u001b[0m\u001b[1;33m[\u001b[0m\u001b[1;34m'종목코드'\u001b[0m\u001b[1;33m,\u001b[0m \u001b[1;34m'등락률'\u001b[0m\u001b[1;33m]\u001b[0m\u001b[1;33m]\u001b[0m\u001b[1;33m.\u001b[0m\u001b[0mset_index\u001b[0m\u001b[1;33m(\u001b[0m\u001b[1;34m'종목코드'\u001b[0m\u001b[1;33m)\u001b[0m\u001b[1;33m.\u001b[0m\u001b[0mrename\u001b[0m\u001b[1;33m(\u001b[0m\u001b[1;33m{\u001b[0m\u001b[1;34m'등락률'\u001b[0m\u001b[1;33m:\u001b[0m\u001b[0mflag\u001b[0m\u001b[1;33m}\u001b[0m\u001b[1;33m,\u001b[0m \u001b[0maxis\u001b[0m\u001b[1;33m=\u001b[0m\u001b[1;36m1\u001b[0m\u001b[1;33m)\u001b[0m\u001b[1;33m]\u001b[0m\u001b[1;33m,\u001b[0m \u001b[0maxis\u001b[0m\u001b[1;33m=\u001b[0m\u001b[1;36m1\u001b[0m\u001b[1;33m)\u001b[0m\u001b[1;33m\u001b[0m\u001b[1;33m\u001b[0m\u001b[0m\n\u001b[0;32m      8\u001b[0m         \u001b[1;32mif\u001b[0m \u001b[0mflag\u001b[0m \u001b[1;33m==\u001b[0m \u001b[0mdate_to\u001b[0m\u001b[1;33m:\u001b[0m\u001b[1;33m\u001b[0m\u001b[1;33m\u001b[0m\u001b[0m\n",
      "\u001b[1;32m<ipython-input-1-8d3a3f3b17f9>\u001b[0m in \u001b[0;36mfind_next_market_date\u001b[1;34m(date, today_opt)\u001b[0m\n\u001b[0;32m    190\u001b[0m         \u001b[0mmarket_date\u001b[0m \u001b[1;33m=\u001b[0m \u001b[0mpd\u001b[0m\u001b[1;33m.\u001b[0m\u001b[0mTimestamp\u001b[0m\u001b[1;33m(\u001b[0m\u001b[0mdate\u001b[0m\u001b[1;33m)\u001b[0m \u001b[1;33m+\u001b[0m \u001b[0mpd\u001b[0m\u001b[1;33m.\u001b[0m\u001b[0mTimedelta\u001b[0m\u001b[1;33m(\u001b[0m\u001b[0mdays\u001b[0m\u001b[1;33m=\u001b[0m\u001b[1;36m1\u001b[0m\u001b[1;33m)\u001b[0m\u001b[1;33m\u001b[0m\u001b[1;33m\u001b[0m\u001b[0m\n\u001b[0;32m    191\u001b[0m     \u001b[1;32mwhile\u001b[0m \u001b[1;32mnot\u001b[0m \u001b[0mget_data\u001b[0m\u001b[1;33m:\u001b[0m\u001b[1;33m\u001b[0m\u001b[1;33m\u001b[0m\u001b[0m\n\u001b[1;32m--> 192\u001b[1;33m         \u001b[1;32mif\u001b[0m \u001b[0mtype\u001b[0m\u001b[1;33m(\u001b[0m\u001b[0mget_market_data_on_date\u001b[0m\u001b[1;33m(\u001b[0m\u001b[0mmarket_date\u001b[0m\u001b[1;33m.\u001b[0m\u001b[0mstrftime\u001b[0m\u001b[1;33m(\u001b[0m\u001b[1;34m'%Y%m%d'\u001b[0m\u001b[1;33m)\u001b[0m\u001b[1;33m,\u001b[0m \u001b[0mprint_error\u001b[0m \u001b[1;33m=\u001b[0m \u001b[1;32mFalse\u001b[0m\u001b[1;33m)\u001b[0m\u001b[1;33m)\u001b[0m \u001b[1;33m!=\u001b[0m \u001b[0mtype\u001b[0m\u001b[1;33m(\u001b[0m\u001b[1;32mNone\u001b[0m\u001b[1;33m)\u001b[0m\u001b[1;33m:\u001b[0m\u001b[1;33m\u001b[0m\u001b[1;33m\u001b[0m\u001b[0m\n\u001b[0m\u001b[0;32m    193\u001b[0m             \u001b[0mget_data\u001b[0m \u001b[1;33m=\u001b[0m \u001b[1;32mTrue\u001b[0m\u001b[1;33m\u001b[0m\u001b[1;33m\u001b[0m\u001b[0m\n\u001b[0;32m    194\u001b[0m         \u001b[1;32melse\u001b[0m\u001b[1;33m:\u001b[0m\u001b[1;33m\u001b[0m\u001b[1;33m\u001b[0m\u001b[0m\n",
      "\u001b[1;32m<ipython-input-1-8d3a3f3b17f9>\u001b[0m in \u001b[0;36mget_market_data_on_date\u001b[1;34m(date, print_error)\u001b[0m\n\u001b[0;32m    151\u001b[0m     \u001b[1;31m# 에러 메시지를 출력하고 싶지 않으면 print_error를 False로 설정\u001b[0m\u001b[1;33m\u001b[0m\u001b[1;33m\u001b[0m\u001b[1;33m\u001b[0m\u001b[0m\n\u001b[0;32m    152\u001b[0m     \u001b[1;32mtry\u001b[0m\u001b[1;33m:\u001b[0m\u001b[1;33m\u001b[0m\u001b[1;33m\u001b[0m\u001b[0m\n\u001b[1;32m--> 153\u001b[1;33m         \u001b[0mdata\u001b[0m \u001b[1;33m=\u001b[0m \u001b[0mpd\u001b[0m\u001b[1;33m.\u001b[0m\u001b[0mread_csv\u001b[0m\u001b[1;33m(\u001b[0m\u001b[0mdate\u001b[0m\u001b[1;33m[\u001b[0m\u001b[1;36m2\u001b[0m\u001b[1;33m:\u001b[0m\u001b[1;36m4\u001b[0m\u001b[1;33m]\u001b[0m \u001b[1;33m+\u001b[0m \u001b[1;34m'_'\u001b[0m \u001b[1;33m+\u001b[0m \u001b[0mstr\u001b[0m\u001b[1;33m(\u001b[0m\u001b[0mint\u001b[0m\u001b[1;33m(\u001b[0m\u001b[0mdate\u001b[0m\u001b[1;33m[\u001b[0m\u001b[1;36m4\u001b[0m\u001b[1;33m:\u001b[0m\u001b[1;36m6\u001b[0m\u001b[1;33m]\u001b[0m\u001b[1;33m)\u001b[0m\u001b[1;33m)\u001b[0m \u001b[1;33m+\u001b[0m \u001b[1;34m'_'\u001b[0m \u001b[1;33m+\u001b[0m \u001b[0mstr\u001b[0m\u001b[1;33m(\u001b[0m\u001b[0mint\u001b[0m\u001b[1;33m(\u001b[0m\u001b[0mdate\u001b[0m\u001b[1;33m[\u001b[0m\u001b[1;36m6\u001b[0m\u001b[1;33m:\u001b[0m\u001b[1;36m8\u001b[0m\u001b[1;33m]\u001b[0m\u001b[1;33m)\u001b[0m\u001b[1;33m)\u001b[0m \u001b[1;33m+\u001b[0m \u001b[1;34m'.csv'\u001b[0m\u001b[1;33m,\u001b[0m \u001b[0mencoding\u001b[0m \u001b[1;33m=\u001b[0m \u001b[1;34m'cp949'\u001b[0m\u001b[1;33m)\u001b[0m\u001b[1;33m\u001b[0m\u001b[1;33m\u001b[0m\u001b[0m\n\u001b[0m\u001b[0;32m    154\u001b[0m         \u001b[0mdata\u001b[0m\u001b[1;33m[\u001b[0m\u001b[1;34m'종목코드'\u001b[0m\u001b[1;33m]\u001b[0m \u001b[1;33m=\u001b[0m \u001b[0mdata\u001b[0m\u001b[1;33m[\u001b[0m\u001b[1;34m'종목코드'\u001b[0m\u001b[1;33m]\u001b[0m\u001b[1;33m.\u001b[0m\u001b[0mmap\u001b[0m\u001b[1;33m(\u001b[0m\u001b[1;32mlambda\u001b[0m \u001b[0mx\u001b[0m\u001b[1;33m:\u001b[0m\u001b[0mstr\u001b[0m\u001b[1;33m(\u001b[0m\u001b[0mx\u001b[0m\u001b[1;33m)\u001b[0m\u001b[1;33m.\u001b[0m\u001b[0mzfill\u001b[0m\u001b[1;33m(\u001b[0m\u001b[1;36m6\u001b[0m\u001b[1;33m)\u001b[0m \u001b[1;32mif\u001b[0m \u001b[0mx\u001b[0m \u001b[1;33m!=\u001b[0m \u001b[1;32mNone\u001b[0m \u001b[1;32melse\u001b[0m \u001b[1;32mNone\u001b[0m\u001b[1;33m)\u001b[0m\u001b[1;33m\u001b[0m\u001b[1;33m\u001b[0m\u001b[0m\n\u001b[0;32m    155\u001b[0m         \u001b[1;32mif\u001b[0m \u001b[0mdata\u001b[0m\u001b[1;33m.\u001b[0m\u001b[0misna\u001b[0m\u001b[1;33m(\u001b[0m\u001b[1;33m)\u001b[0m\u001b[1;33m[\u001b[0m\u001b[1;34m'종가'\u001b[0m\u001b[1;33m]\u001b[0m\u001b[1;33m.\u001b[0m\u001b[0msum\u001b[0m\u001b[1;33m(\u001b[0m\u001b[1;33m)\u001b[0m \u001b[1;33m==\u001b[0m \u001b[0mlen\u001b[0m\u001b[1;33m(\u001b[0m\u001b[0mdata\u001b[0m\u001b[1;33m)\u001b[0m\u001b[1;33m:\u001b[0m\u001b[1;33m\u001b[0m\u001b[1;33m\u001b[0m\u001b[0m\n",
      "\u001b[1;32m~\\anaconda3\\lib\\site-packages\\pandas\\io\\parsers.py\u001b[0m in \u001b[0;36mread_csv\u001b[1;34m(filepath_or_buffer, sep, delimiter, header, names, index_col, usecols, squeeze, prefix, mangle_dupe_cols, dtype, engine, converters, true_values, false_values, skipinitialspace, skiprows, skipfooter, nrows, na_values, keep_default_na, na_filter, verbose, skip_blank_lines, parse_dates, infer_datetime_format, keep_date_col, date_parser, dayfirst, cache_dates, iterator, chunksize, compression, thousands, decimal, lineterminator, quotechar, quoting, doublequote, escapechar, comment, encoding, dialect, error_bad_lines, warn_bad_lines, delim_whitespace, low_memory, memory_map, float_precision)\u001b[0m\n\u001b[0;32m    684\u001b[0m     )\n\u001b[0;32m    685\u001b[0m \u001b[1;33m\u001b[0m\u001b[0m\n\u001b[1;32m--> 686\u001b[1;33m     \u001b[1;32mreturn\u001b[0m \u001b[0m_read\u001b[0m\u001b[1;33m(\u001b[0m\u001b[0mfilepath_or_buffer\u001b[0m\u001b[1;33m,\u001b[0m \u001b[0mkwds\u001b[0m\u001b[1;33m)\u001b[0m\u001b[1;33m\u001b[0m\u001b[1;33m\u001b[0m\u001b[0m\n\u001b[0m\u001b[0;32m    687\u001b[0m \u001b[1;33m\u001b[0m\u001b[0m\n\u001b[0;32m    688\u001b[0m \u001b[1;33m\u001b[0m\u001b[0m\n",
      "\u001b[1;32m~\\anaconda3\\lib\\site-packages\\pandas\\io\\parsers.py\u001b[0m in \u001b[0;36m_read\u001b[1;34m(filepath_or_buffer, kwds)\u001b[0m\n\u001b[0;32m    450\u001b[0m \u001b[1;33m\u001b[0m\u001b[0m\n\u001b[0;32m    451\u001b[0m     \u001b[1;31m# Create the parser.\u001b[0m\u001b[1;33m\u001b[0m\u001b[1;33m\u001b[0m\u001b[1;33m\u001b[0m\u001b[0m\n\u001b[1;32m--> 452\u001b[1;33m     \u001b[0mparser\u001b[0m \u001b[1;33m=\u001b[0m \u001b[0mTextFileReader\u001b[0m\u001b[1;33m(\u001b[0m\u001b[0mfp_or_buf\u001b[0m\u001b[1;33m,\u001b[0m \u001b[1;33m**\u001b[0m\u001b[0mkwds\u001b[0m\u001b[1;33m)\u001b[0m\u001b[1;33m\u001b[0m\u001b[1;33m\u001b[0m\u001b[0m\n\u001b[0m\u001b[0;32m    453\u001b[0m \u001b[1;33m\u001b[0m\u001b[0m\n\u001b[0;32m    454\u001b[0m     \u001b[1;32mif\u001b[0m \u001b[0mchunksize\u001b[0m \u001b[1;32mor\u001b[0m \u001b[0miterator\u001b[0m\u001b[1;33m:\u001b[0m\u001b[1;33m\u001b[0m\u001b[1;33m\u001b[0m\u001b[0m\n",
      "\u001b[1;32m~\\anaconda3\\lib\\site-packages\\pandas\\io\\parsers.py\u001b[0m in \u001b[0;36m__init__\u001b[1;34m(self, f, engine, **kwds)\u001b[0m\n\u001b[0;32m    944\u001b[0m             \u001b[0mself\u001b[0m\u001b[1;33m.\u001b[0m\u001b[0moptions\u001b[0m\u001b[1;33m[\u001b[0m\u001b[1;34m\"has_index_names\"\u001b[0m\u001b[1;33m]\u001b[0m \u001b[1;33m=\u001b[0m \u001b[0mkwds\u001b[0m\u001b[1;33m[\u001b[0m\u001b[1;34m\"has_index_names\"\u001b[0m\u001b[1;33m]\u001b[0m\u001b[1;33m\u001b[0m\u001b[1;33m\u001b[0m\u001b[0m\n\u001b[0;32m    945\u001b[0m \u001b[1;33m\u001b[0m\u001b[0m\n\u001b[1;32m--> 946\u001b[1;33m         \u001b[0mself\u001b[0m\u001b[1;33m.\u001b[0m\u001b[0m_make_engine\u001b[0m\u001b[1;33m(\u001b[0m\u001b[0mself\u001b[0m\u001b[1;33m.\u001b[0m\u001b[0mengine\u001b[0m\u001b[1;33m)\u001b[0m\u001b[1;33m\u001b[0m\u001b[1;33m\u001b[0m\u001b[0m\n\u001b[0m\u001b[0;32m    947\u001b[0m \u001b[1;33m\u001b[0m\u001b[0m\n\u001b[0;32m    948\u001b[0m     \u001b[1;32mdef\u001b[0m \u001b[0mclose\u001b[0m\u001b[1;33m(\u001b[0m\u001b[0mself\u001b[0m\u001b[1;33m)\u001b[0m\u001b[1;33m:\u001b[0m\u001b[1;33m\u001b[0m\u001b[1;33m\u001b[0m\u001b[0m\n",
      "\u001b[1;32m~\\anaconda3\\lib\\site-packages\\pandas\\io\\parsers.py\u001b[0m in \u001b[0;36m_make_engine\u001b[1;34m(self, engine)\u001b[0m\n\u001b[0;32m   1176\u001b[0m     \u001b[1;32mdef\u001b[0m \u001b[0m_make_engine\u001b[0m\u001b[1;33m(\u001b[0m\u001b[0mself\u001b[0m\u001b[1;33m,\u001b[0m \u001b[0mengine\u001b[0m\u001b[1;33m=\u001b[0m\u001b[1;34m\"c\"\u001b[0m\u001b[1;33m)\u001b[0m\u001b[1;33m:\u001b[0m\u001b[1;33m\u001b[0m\u001b[1;33m\u001b[0m\u001b[0m\n\u001b[0;32m   1177\u001b[0m         \u001b[1;32mif\u001b[0m \u001b[0mengine\u001b[0m \u001b[1;33m==\u001b[0m \u001b[1;34m\"c\"\u001b[0m\u001b[1;33m:\u001b[0m\u001b[1;33m\u001b[0m\u001b[1;33m\u001b[0m\u001b[0m\n\u001b[1;32m-> 1178\u001b[1;33m             \u001b[0mself\u001b[0m\u001b[1;33m.\u001b[0m\u001b[0m_engine\u001b[0m \u001b[1;33m=\u001b[0m \u001b[0mCParserWrapper\u001b[0m\u001b[1;33m(\u001b[0m\u001b[0mself\u001b[0m\u001b[1;33m.\u001b[0m\u001b[0mf\u001b[0m\u001b[1;33m,\u001b[0m \u001b[1;33m**\u001b[0m\u001b[0mself\u001b[0m\u001b[1;33m.\u001b[0m\u001b[0moptions\u001b[0m\u001b[1;33m)\u001b[0m\u001b[1;33m\u001b[0m\u001b[1;33m\u001b[0m\u001b[0m\n\u001b[0m\u001b[0;32m   1179\u001b[0m         \u001b[1;32melse\u001b[0m\u001b[1;33m:\u001b[0m\u001b[1;33m\u001b[0m\u001b[1;33m\u001b[0m\u001b[0m\n\u001b[0;32m   1180\u001b[0m             \u001b[1;32mif\u001b[0m \u001b[0mengine\u001b[0m \u001b[1;33m==\u001b[0m \u001b[1;34m\"python\"\u001b[0m\u001b[1;33m:\u001b[0m\u001b[1;33m\u001b[0m\u001b[1;33m\u001b[0m\u001b[0m\n",
      "\u001b[1;32m~\\anaconda3\\lib\\site-packages\\pandas\\io\\parsers.py\u001b[0m in \u001b[0;36m__init__\u001b[1;34m(self, src, **kwds)\u001b[0m\n\u001b[0;32m   2006\u001b[0m         \u001b[0mkwds\u001b[0m\u001b[1;33m[\u001b[0m\u001b[1;34m\"usecols\"\u001b[0m\u001b[1;33m]\u001b[0m \u001b[1;33m=\u001b[0m \u001b[0mself\u001b[0m\u001b[1;33m.\u001b[0m\u001b[0musecols\u001b[0m\u001b[1;33m\u001b[0m\u001b[1;33m\u001b[0m\u001b[0m\n\u001b[0;32m   2007\u001b[0m \u001b[1;33m\u001b[0m\u001b[0m\n\u001b[1;32m-> 2008\u001b[1;33m         \u001b[0mself\u001b[0m\u001b[1;33m.\u001b[0m\u001b[0m_reader\u001b[0m \u001b[1;33m=\u001b[0m \u001b[0mparsers\u001b[0m\u001b[1;33m.\u001b[0m\u001b[0mTextReader\u001b[0m\u001b[1;33m(\u001b[0m\u001b[0msrc\u001b[0m\u001b[1;33m,\u001b[0m \u001b[1;33m**\u001b[0m\u001b[0mkwds\u001b[0m\u001b[1;33m)\u001b[0m\u001b[1;33m\u001b[0m\u001b[1;33m\u001b[0m\u001b[0m\n\u001b[0m\u001b[0;32m   2009\u001b[0m         \u001b[0mself\u001b[0m\u001b[1;33m.\u001b[0m\u001b[0munnamed_cols\u001b[0m \u001b[1;33m=\u001b[0m \u001b[0mself\u001b[0m\u001b[1;33m.\u001b[0m\u001b[0m_reader\u001b[0m\u001b[1;33m.\u001b[0m\u001b[0munnamed_cols\u001b[0m\u001b[1;33m\u001b[0m\u001b[1;33m\u001b[0m\u001b[0m\n\u001b[0;32m   2010\u001b[0m \u001b[1;33m\u001b[0m\u001b[0m\n",
      "\u001b[1;31mKeyboardInterrupt\u001b[0m: "
     ]
    }
   ],
   "source": [
    "SMB_mask2 = get_mask(Market_cap[0], Market_cap[1], market_bp ='KOSPI')\n",
    "\n",
    "SMB2 = get_factor_on_date_by_mask(SMB_mask2, term = 'm', winsorize_limits = 0.01, weight = 'VW')"
   ]
  },
  {
   "cell_type": "code",
   "execution_count": 12,
   "metadata": {},
   "outputs": [
    {
     "data": {
      "application/vnd.jupyter.widget-view+json": {
       "model_id": "d1f4e264d21342d2a9366ee6fd5d54e0",
       "version_major": 2,
       "version_minor": 0
      },
      "text/plain": [
       "HBox(children=(HTML(value=''), FloatProgress(value=0.0, max=120.0), HTML(value='')))"
      ]
     },
     "metadata": {},
     "output_type": "display_data"
    },
    {
     "name": "stdout",
     "output_type": "stream",
     "text": [
      "\n"
     ]
    }
   ],
   "source": [
    "# SMB\n",
    "SMB_mask = get_mask(Market_cap[0], Market_cap[1], breakpoint = [(i+1)/10 for i in range(9)])\n",
    "\n",
    "SMB = get_factor_on_date_by_mask(SMB_mask, term = 'm', winsorize_limits = 0.01, weight = 'VW')"
   ]
  },
  {
   "cell_type": "code",
   "execution_count": 20,
   "metadata": {},
   "outputs": [
    {
     "data": {
      "text/plain": [
       "<AxesSubplot:>"
      ]
     },
     "execution_count": 20,
     "metadata": {},
     "output_type": "execute_result"
    },
    {
     "data": {
      "image/png": "[encoded data removed]",
      "text/plain": [
       "<Figure size 432x288 with 1 Axes>"
      ]
     },
     "metadata": {
      "needs_background": "light"
     },
     "output_type": "display_data"
    }
   ],
   "source": [
    "SMB.mean().plot.bar()"
   ]
  },
  {
   "cell_type": "code",
   "execution_count": 26,
   "metadata": {},
   "outputs": [
    {
     "data": {
      "text/plain": [
       "Ttest_indResult(statistic=1.2150159583589863, pvalue=0.22556399828977589)"
      ]
     },
     "execution_count": 26,
     "metadata": {},
     "output_type": "execute_result"
    }
   ],
   "source": [
    "import scipy.stats\n",
    "\n",
    "scipy.stats.ttest_ind(SMB2.iloc[:,0], SMB2.iloc[:,1])"
   ]
  },
  {
   "cell_type": "code",
   "execution_count": 30,
   "metadata": {},
   "outputs": [
    {
     "data": {
      "text/html": [
       "<div>\n",
       "<style scoped>\n",
       "    .dataframe tbody tr th:only-of-type {\n",
       "        vertical-align: middle;\n",
       "    }\n",
       "\n",
       "    .dataframe tbody tr th {\n",
       "        vertical-align: top;\n",
       "    }\n",
       "\n",
       "    .dataframe thead th {\n",
       "        text-align: right;\n",
       "    }\n",
       "</style>\n",
       "<table border=\"1\" class=\"dataframe\">\n",
       "  <thead>\n",
       "    <tr style=\"text-align: right;\">\n",
       "      <th></th>\n",
       "      <th>0</th>\n",
       "      <th>1</th>\n",
       "    </tr>\n",
       "  </thead>\n",
       "  <tbody>\n",
       "    <tr>\n",
       "      <th>201107</th>\n",
       "      <td>0.087574</td>\n",
       "      <td>0.019959</td>\n",
       "    </tr>\n",
       "    <tr>\n",
       "      <th>201108</th>\n",
       "      <td>-0.084365</td>\n",
       "      <td>-0.098669</td>\n",
       "    </tr>\n",
       "    <tr>\n",
       "      <th>201109</th>\n",
       "      <td>-0.108543</td>\n",
       "      <td>-0.066851</td>\n",
       "    </tr>\n",
       "    <tr>\n",
       "      <th>201110</th>\n",
       "      <td>0.094679</td>\n",
       "      <td>0.060636</td>\n",
       "    </tr>\n",
       "    <tr>\n",
       "      <th>201111</th>\n",
       "      <td>0.000250</td>\n",
       "      <td>-0.031796</td>\n",
       "    </tr>\n",
       "    <tr>\n",
       "      <th>...</th>\n",
       "      <td>...</td>\n",
       "      <td>...</td>\n",
       "    </tr>\n",
       "    <tr>\n",
       "      <th>202102</th>\n",
       "      <td>0.011559</td>\n",
       "      <td>0.003117</td>\n",
       "    </tr>\n",
       "    <tr>\n",
       "      <th>202103</th>\n",
       "      <td>0.068772</td>\n",
       "      <td>0.019537</td>\n",
       "    </tr>\n",
       "    <tr>\n",
       "      <th>202104</th>\n",
       "      <td>0.059620</td>\n",
       "      <td>0.010606</td>\n",
       "    </tr>\n",
       "    <tr>\n",
       "      <th>202105</th>\n",
       "      <td>0.019163</td>\n",
       "      <td>0.014820</td>\n",
       "    </tr>\n",
       "    <tr>\n",
       "      <th>202106</th>\n",
       "      <td>0.048701</td>\n",
       "      <td>0.016016</td>\n",
       "    </tr>\n",
       "  </tbody>\n",
       "</table>\n",
       "<p>120 rows × 2 columns</p>\n",
       "</div>"
      ],
      "text/plain": [
       "               0         1\n",
       "201107  0.087574  0.019959\n",
       "201108 -0.084365 -0.098669\n",
       "201109 -0.108543 -0.066851\n",
       "201110  0.094679  0.060636\n",
       "201111  0.000250 -0.031796\n",
       "...          ...       ...\n",
       "202102  0.011559  0.003117\n",
       "202103  0.068772  0.019537\n",
       "202104  0.059620  0.010606\n",
       "202105  0.019163  0.014820\n",
       "202106  0.048701  0.016016\n",
       "\n",
       "[120 rows x 2 columns]"
      ]
     },
     "execution_count": 30,
     "metadata": {},
     "output_type": "execute_result"
    }
   ],
   "source": [
    "SMB2"
   ]
  },
  {
   "cell_type": "code",
   "execution_count": 21,
   "metadata": {},
   "outputs": [],
   "source": [
    "t1 = get_market_return_for_period('20010101', '20010104')"
   ]
  },
  {
   "cell_type": "code",
   "execution_count": 22,
   "metadata": {},
   "outputs": [],
   "source": [
    "t2 = get_market_return_for_period('20050101', '20050104')"
   ]
  },
  {
   "cell_type": "markdown",
   "metadata": {},
   "source": [
    "# BAB Factor Replication"
   ]
  },
  {
   "cell_type": "markdown",
   "metadata": {},
   "source": [
    "업데이트 요망  \n",
    "log return overlap할때 가운데 날짜가 들어가는건지? 아니면 앞에 날짜가 들어가는건지? 사실 그리 큰 상관은 없긴 함.  \n",
    "\n",
    "알고리즘 구성  \n",
    "log return 구한 후에, 매 6월마다 종목 선정. 750개 이전이 있으면 체크해서 전부 구함. "
   ]
  },
  {
   "cell_type": "code",
   "execution_count": 97,
   "metadata": {
    "scrolled": true
   },
   "outputs": [
    {
     "name": "stdout",
     "output_type": "stream",
     "text": [
      "20000201\n",
      "20000601\n",
      "20000801\n",
      "20000901\n",
      "20001101\n",
      "20001201\n",
      "20010201\n",
      "20010601\n",
      "20010801\n",
      "20011101\n",
      "20020201\n",
      "20020401\n",
      "20020801\n",
      "20021001\n",
      "20021101\n",
      "20030401\n",
      "20030701\n",
      "20030801\n",
      "20030901\n",
      "20031001\n",
      "20031201\n",
      "20040401\n",
      "20040601\n",
      "20040701\n",
      "20040901\n",
      "20041001\n",
      "20041101\n",
      "20041201\n",
      "20050201\n",
      "20050401\n",
      "20050601\n",
      "20050701\n",
      "20050801\n",
      "20050901\n",
      "20051101\n",
      "20051201\n",
      "20060201\n",
      "20060601\n",
      "20060801\n",
      "20060901\n",
      "20061101\n",
      "20061201\n",
      "20070201\n",
      "20070601\n",
      "20070801\n",
      "20071001\n",
      "20071101\n",
      "20080201\n",
      "20080401\n",
      "20080701\n",
      "20080801\n",
      "20080901\n",
      "20081001\n",
      "20081201\n",
      "20090401\n",
      "20090601\n",
      "20090701\n",
      "20090901\n",
      "20091001\n",
      "20091201\n",
      "20100201\n",
      "20100401\n",
      "20100601\n",
      "20100701\n",
      "20100901\n",
      "20101001\n",
      "20101101\n",
      "20101201\n",
      "20110201\n",
      "20110401\n",
      "20110601\n",
      "20110701\n",
      "20110801\n",
      "20110901\n",
      "20111101\n",
      "20111201\n",
      "20120201\n",
      "20120601\n",
      "20120801\n",
      "20121101\n",
      "20130201\n",
      "20130401\n",
      "20130701\n",
      "20130801\n",
      "20131001\n",
      "20131101\n",
      "20140401\n",
      "20140701\n",
      "20140801\n",
      "20140901\n",
      "20141001\n",
      "20141201\n",
      "20150401\n",
      "20150601\n",
      "20150701\n",
      "20150901\n",
      "20151001\n",
      "20151201\n",
      "20160201\n",
      "20160401\n",
      "20160601\n",
      "20160701\n",
      "20160801\n",
      "20160901\n",
      "20161101\n",
      "20161201\n",
      "20170201\n",
      "20170601\n",
      "20170801\n",
      "20170901\n",
      "20171101\n",
      "20171201\n",
      "20180201\n",
      "20180601\n",
      "20180801\n",
      "20181001\n",
      "20181101\n",
      "20190201\n",
      "20190401\n",
      "20190701\n",
      "20190801\n",
      "20191001\n",
      "20191101\n",
      "20200401\n",
      "20200601\n",
      "20200701\n",
      "20200901\n",
      "20201201\n",
      "20210201\n",
      "20210401\n",
      "20210601\n",
      "20210701\n"
     ]
    }
   ],
   "source": [
    "stop = False\n",
    "flag = find_next_market_date('20000101')\n",
    "price = []\n",
    "ind = []\n",
    "market_ret = []\n",
    "while not stop:\n",
    "    end = find_next_market_date(find_next_market_date(find_next_market_date(flag)))\n",
    "    t = get_market_return_for_period(flag, end)\n",
    "    price.append(t['등락률'])\n",
    "    market_ret.append((t['등락률'] * t['시가총액'] / t['시가총액'].sum()).sum())\n",
    "    flag = find_next_market_date(flag)\n",
    "    ind.append(flag)\n",
    "    if flag[6:]=='01':\n",
    "        print(flag)\n",
    "    if len(price) == 5338:\n",
    "        stop = True"
   ]
  },
  {
   "cell_type": "code",
   "execution_count": 98,
   "metadata": {},
   "outputs": [],
   "source": [
    "with open('price.pkl', 'wb') as f:\n",
    "    pickle.dump(price, f)\n",
    "with open('price.pkl', 'rb') as f:\n",
    "    price = pickle.load(f)"
   ]
  },
  {
   "cell_type": "code",
   "execution_count": 99,
   "metadata": {},
   "outputs": [],
   "source": [
    "log_return = pd.concat(price, axis=1)\n",
    "log_return.columns = ind"
   ]
  },
  {
   "cell_type": "code",
   "execution_count": 100,
   "metadata": {},
   "outputs": [
    {
     "name": "stderr",
     "output_type": "stream",
     "text": [
      "<ipython-input-100-cae439bab00a>:1: RuntimeWarning: divide by zero encountered in log\n",
      "  log_return = log_return.applymap(lambda x: np.log(1+float(x)))\n"
     ]
    }
   ],
   "source": [
    "log_return = log_return.applymap(lambda x: np.log(1+float(x)))"
   ]
  },
  {
   "cell_type": "code",
   "execution_count": 101,
   "metadata": {},
   "outputs": [],
   "source": [
    "# 기준 날짜 설정 (6월 마지막 거래일)\n",
    "stand = []\n",
    "for i in range(log_return.shape[1]-1):\n",
    "    if log_return.columns[i][4:6]=='06' and log_return.columns[i+1][4:6]=='07':\n",
    "        stand.append(i)"
   ]
  },
  {
   "cell_type": "code",
   "execution_count": 102,
   "metadata": {},
   "outputs": [],
   "source": [
    "df = pd.concat([log_return, pd.DataFrame(market_ret, index = log_return.columns, columns = ['market']).T])"
   ]
  },
  {
   "cell_type": "code",
   "execution_count": 103,
   "metadata": {},
   "outputs": [
    {
     "data": {
      "application/vnd.jupyter.widget-view+json": {
       "model_id": "ef1e0f6441c043d18ce59f356e34d7d4",
       "version_major": 2,
       "version_minor": 0
      },
      "text/plain": [
       "HBox(children=(HTML(value=''), FloatProgress(value=0.0, max=17.0), HTML(value='')))"
      ]
     },
     "metadata": {},
     "output_type": "display_data"
    },
    {
     "name": "stdout",
     "output_type": "stream",
     "text": [
      "\n"
     ]
    }
   ],
   "source": [
    "corr = []\n",
    "for i in tqdm.tqdm(range(len(stand)-5)):\n",
    "    corr.append(df.iloc[:,stand[i]:stand[i+5]].T.corr(min_periods=750).iloc[-1] * (df.iloc[:,stand[i+5]] / df.iloc[:,stand[i+5]]))\n",
    "    # 뒤의 파트는 해당 시점에 거래되고 있었는지를 체크하기 위한 것.\n",
    "corr = pd.concat(corr, axis=1)"
   ]
  },
  {
   "cell_type": "code",
   "execution_count": 115,
   "metadata": {},
   "outputs": [
    {
     "data": {
      "application/vnd.jupyter.widget-view+json": {
       "model_id": "7ccf39d8d0d6461f9bc01db78d92bc56",
       "version_major": 2,
       "version_minor": 0
      },
      "text/plain": [
       "HBox(children=(HTML(value=''), FloatProgress(value=0.0, max=17.0), HTML(value='')))"
      ]
     },
     "metadata": {},
     "output_type": "display_data"
    },
    {
     "name": "stdout",
     "output_type": "stream",
     "text": [
      "\n"
     ]
    }
   ],
   "source": [
    "var = []\n",
    "bab_ind = []\n",
    "for i in tqdm.tqdm(range(len(stand)-5)):\n",
    "    var.append(df.iloc[:,stand[i+4]:stand[i+5]].T.var() * ((df.iloc[:,stand[i+5]]+100) / (df.iloc[:,stand[i+5]]+100)) * ((df.iloc[:,stand[i+5]-120]+100) / (df.iloc[:,stand[i+5]-120]+100)))\n",
    "    bab_ind.append(df.columns[stand[i+5]])\n",
    "    # 뒤의 파트는 해당 시점에 거래되고 있었는지를 체크하기 위한 것.\n",
    "var = pd.concat(var, axis=1)"
   ]
  },
  {
   "cell_type": "code",
   "execution_count": 105,
   "metadata": {},
   "outputs": [],
   "source": [
    "std = var.applymap(lambda x: np.sqrt(x))"
   ]
  },
  {
   "cell_type": "code",
   "execution_count": 106,
   "metadata": {},
   "outputs": [],
   "source": [
    "beta = std / std.iloc[-1,:] * corr"
   ]
  },
  {
   "cell_type": "code",
   "execution_count": 134,
   "metadata": {},
   "outputs": [],
   "source": [
    "# beta 구하기 성공"
   ]
  },
  {
   "cell_type": "code",
   "execution_count": 107,
   "metadata": {},
   "outputs": [],
   "source": [
    "# beta shrinkage\n",
    "beta_sh = beta.applymap(lambda x: 0.6*x + 0.4)"
   ]
  },
  {
   "cell_type": "code",
   "execution_count": 108,
   "metadata": {},
   "outputs": [],
   "source": [
    "beta_sh = beta_sh.iloc[:-1]"
   ]
  },
  {
   "cell_type": "code",
   "execution_count": 118,
   "metadata": {
    "scrolled": true
   },
   "outputs": [],
   "source": [
    "beta_sh.columns = bab_ind"
   ]
  },
  {
   "cell_type": "code",
   "execution_count": 19,
   "metadata": {},
   "outputs": [],
   "source": [
    "k = 2/(beta_sh.rank() - beta_sh.rank().mean()).abs().sum()\n",
    "\n",
    "w_h = k * ((beta_sh.rank() - beta_sh.rank().mean() > 0) * (beta_sh.rank() - beta_sh.rank().mean()))\n",
    "\n",
    "w_l = - k * ((beta_sh.rank() - beta_sh.rank().mean() < 0) * (beta_sh.rank() - beta_sh.rank().mean()))\n",
    "\n",
    "beta_l = (w_l * beta).sum()\n",
    "\n",
    "beta_h = (w_h * beta).sum()"
   ]
  },
  {
   "cell_type": "code",
   "execution_count": 24,
   "metadata": {},
   "outputs": [],
   "source": [
    "see = np.array([x-x%3 for x in stand])\n",
    "\n",
    "r_t = []\n",
    "for i in range(len(see)-6):\n",
    "    r_t.append(df.values[:,::3].cumsum(axis=1)[:,int(see[i+6]/3)]- df.values[:,::3].cumsum(axis=1)[:,int(see[i+5]/3)])\n",
    "\n",
    "r_t = pd.DataFrame(r_t, columns = df.index).T\n",
    "r_t = r_t.iloc[:-1]\n",
    "\n",
    "r_l = (r_t * w_l.iloc[:,:-1]).sum()\n",
    "\n",
    "r_h = (r_t * w_h.iloc[:,:-1]).sum()"
   ]
  },
  {
   "cell_type": "code",
   "execution_count": 25,
   "metadata": {
    "scrolled": true
   },
   "outputs": [],
   "source": [
    "bab = (r_l - 0.02) / beta_l - (r_h-0.02)/beta_h"
   ]
  },
  {
   "cell_type": "code",
   "execution_count": 26,
   "metadata": {},
   "outputs": [
    {
     "data": {
      "text/plain": [
       "0     0.256508\n",
       "1     0.386428\n",
       "2    -0.225077\n",
       "3    -0.633780\n",
       "4    -0.055048\n",
       "5    -0.045190\n",
       "6    -0.018484\n",
       "7     0.140403\n",
       "8     0.111276\n",
       "9     0.266354\n",
       "10   -0.055876\n",
       "11   -0.053328\n",
       "12   -0.106793\n",
       "13   -0.452346\n",
       "14   -0.222263\n",
       "15    0.297469\n",
       "16         NaN\n",
       "dtype: float64"
      ]
     },
     "execution_count": 26,
     "metadata": {},
     "output_type": "execute_result"
    }
   ],
   "source": [
    "bab"
   ]
  },
  {
   "cell_type": "code",
   "execution_count": 93,
   "metadata": {},
   "outputs": [
    {
     "data": {
      "text/plain": [
       "0      True\n",
       "1      True\n",
       "2      True\n",
       "3     False\n",
       "4      True\n",
       "5     False\n",
       "6      True\n",
       "7      True\n",
       "8      True\n",
       "9      True\n",
       "10     True\n",
       "11    False\n",
       "12    False\n",
       "13    False\n",
       "14     True\n",
       "15     True\n",
       "dtype: bool"
      ]
     },
     "execution_count": 93,
     "metadata": {},
     "output_type": "execute_result"
    }
   ],
   "source": [
    "r_l > r_h"
   ]
  },
  {
   "cell_type": "markdown",
   "metadata": {},
   "source": [
    "# Quality Factor Replication"
   ]
  },
  {
   "cell_type": "markdown",
   "metadata": {},
   "source": [
    "Profitability = gpoa + roe + roa + cfoa + gmar + acc  \n",
    "gpoa = GP / AT  \n",
    "roe = PL / BE  \n",
    "roa = PL / AT  \n",
    "cfoa = FCF / AT = (CFO - PNE_change)/AT = (CFO - CAPEX)/AT (출처: 네이버 금융)  \n",
    "gmar = GP / REV\n",
    "acc = -(WC_change - DP)/AT = -((STR+INV-STP)_change - DP)/AT\n",
    "\n",
    "Growth = gpoa_change + roe_change + roa_change + cfoa_change + gmar_change  \n",
    "-> 수정주식수로 나누어줘야 하는데, 이걸 어떻게 처리해야 할지 모르겠네...  \n"
   ]
  },
  {
   "cell_type": "code",
   "execution_count": 10,
   "metadata": {},
   "outputs": [
    {
     "name": "stderr",
     "output_type": "stream",
     "text": [
      "C:\\Users\\lyoo9\\anaconda3\\lib\\site-packages\\pandas\\core\\dtypes\\cast.py:1229: VisibleDeprecationWarning: Creating an ndarray from ragged nested sequences (which is a list-or-tuple of lists-or-tuples-or ndarrays with different lengths or shapes) is deprecated. If you meant to do this, you must specify 'dtype=object' when creating the ndarray\n",
      "  v = np.array(v, copy=False)\n",
      "C:\\Users\\lyoo9\\anaconda3\\lib\\site-packages\\numpy\\core\\_asarray.py:83: VisibleDeprecationWarning: Creating an ndarray from ragged nested sequences (which is a list-or-tuple of lists-or-tuples-or ndarrays with different lengths or shapes) is deprecated. If you meant to do this, you must specify 'dtype=object' when creating the ndarray\n",
      "  return array(a, dtype, copy=False, order=order)\n"
     ]
    }
   ],
   "source": [
    "GP = get_item_for_period('ifrs_GrossProfit', '20121231', '20201231')\n",
    "AT = get_item_for_period('ifrs_Assets', '20121231', '20201231')\n",
    "BE = get_item_for_period('ifrs_Equity', '20121231', '20201231')\n",
    "DEBT = get_item_for_period('ifrs_Liabilities', '20121231', '20201231')\n",
    "PL = get_item_for_period('ifrs_ProfitLoss', '20121231', '20201231')\n",
    "PNE = get_item_for_period('ifrs_PropertyPlantAndEquipment', '20121231', '20201231')\n",
    "CFO = get_item_for_period('ifrs_CashFlowsFromUsedInOperatingActivities', '20121231', '20201231')\n",
    "REV = get_item_for_period('ifrs_Revenue', '20121231', '20201231')\n",
    "DP = get_item_for_period('dart_DepreciationExpense', '20121231', '20201231')\n",
    "STR = get_item_for_period('dart_ShortTermTradeReceivable', '20121231', '20201231')\n",
    "STR_2 = get_item_for_period('ifrs_TradeAndOtherCurrentReceivables', '20121231', '20201231')\n",
    "INV = get_item_for_period('ifrs_Inventories', '20121231', '20201231')\n",
    "STP = get_item_for_period('dart_ShortTermTradePayables', '20121231', '20201231')\n",
    "STP_2 = get_item_for_period('ifrs_TradeAndOtherCurrentPayables', '20121231', '20201231')"
   ]
  },
  {
   "cell_type": "code",
   "execution_count": 11,
   "metadata": {},
   "outputs": [],
   "source": [
    "DP_2 = get_item_for_period('dart_AdjustmentsForDepreciationExpense', '20121231', '20201231')"
   ]
  },
  {
   "cell_type": "code",
   "execution_count": 12,
   "metadata": {},
   "outputs": [],
   "source": [
    "gpoa = ((GP/AT).rank() - (GP / AT).rank().mean())/(GP/AT).rank().std()\n",
    "roe = ((PL/BE).rank() - (PL/BE).rank().mean())/(PL/BE).rank().std()\n",
    "roa = ((PL/AT).rank() - (PL/AT).rank().mean())/(PL/AT).rank().std()\n",
    "cfoa = (((CFO - (PNE.T - PNE.T.shift(1)).T)/AT).rank() - ((CFO - (PNE.T - PNE.T.shift(1)).T)/AT).rank().mean())/((CFO - (PNE.T - PNE.T.shift(1)).T)/AT).rank().std()\n",
    "gmar = ((GP/REV).rank() - (GP/REV).rank().mean())/(GP/REV).rank().std()\n",
    "\n",
    "STR_T = pd.concat([STR, STR_2], axis = 1).groupby(level=0, axis=1).first()\n",
    "STP_T = pd.concat([STP, STP_2], axis = 1).groupby(level=0, axis=1).first()\n",
    "WC_change = ((STR_T + INV - STP_T).T - (STR_T + INV - STP_T).T.shift(1)).T\n",
    "DP_T = t = pd.DataFrame(0, index = WC_change.index, columns = WC_change.columns)\n",
    "DP_T.loc[list(set(DP_2.index ) & set(WC_change.index)), DP_2.columns] = DP_2.loc[list(set(DP_2.index) & set(WC_change.index)),:].values\n",
    "acc = ((-(WC_change - DP_T)/AT).rank() - (-(WC_change - DP_T)/AT).rank().mean())/(-(WC_change - DP_T)/AT).rank().std()"
   ]
  },
  {
   "cell_type": "code",
   "execution_count": 13,
   "metadata": {},
   "outputs": [],
   "source": [
    "P_raw = gpoa + roe + roa + cfoa + gmar + acc\n",
    "P_score = (P_raw.rank() - P_raw.rank().mean())/P_raw.rank().std()"
   ]
  },
  {
   "cell_type": "code",
   "execution_count": 43,
   "metadata": {},
   "outputs": [
    {
     "name": "stderr",
     "output_type": "stream",
     "text": [
      "C:\\Users\\lyoo9\\anaconda3\\lib\\site-packages\\pandas\\core\\indexing.py:670: SettingWithCopyWarning: \n",
      "A value is trying to be set on a copy of a slice from a DataFrame\n",
      "\n",
      "See the caveats in the documentation: https://pandas.pydata.org/pandas-docs/stable/user_guide/indexing.html#returning-a-view-versus-a-copy\n",
      "  iloc._setitem_with_indexer(indexer, value)\n"
     ]
    },
    {
     "data": {
      "application/vnd.jupyter.widget-view+json": {
       "model_id": "4b916713dd62431cbc3d8667c43d0ce5",
       "version_major": 2,
       "version_minor": 0
      },
      "text/plain": [
       "HBox(children=(HTML(value=''), FloatProgress(value=0.0, max=90.0), HTML(value='')))"
      ]
     },
     "metadata": {},
     "output_type": "display_data"
    },
    {
     "name": "stdout",
     "output_type": "stream",
     "text": [
      "\n"
     ]
    }
   ],
   "source": [
    "P_mask = get_mask(P_score, get_market_category(P_score), market_bp = 'KOSPI', breakpoint = [0.3, 0.7])\n",
    "P_factor = get_factor_on_date_by_mask2(P_mask.iloc[:,1:], term = 'm', winsorize_limits = 0.01, weight = 'VW')"
   ]
  },
  {
   "cell_type": "code",
   "execution_count": 18,
   "metadata": {},
   "outputs": [
    {
     "data": {
      "text/plain": [
       "0    0.000285\n",
       "1    0.001627\n",
       "2    0.002047\n",
       "dtype: float64"
      ]
     },
     "execution_count": 18,
     "metadata": {},
     "output_type": "execute_result"
    }
   ],
   "source": [
    "P_factor.mean()"
   ]
  },
  {
   "cell_type": "markdown",
   "metadata": {},
   "source": [
    "## Growth"
   ]
  },
  {
   "cell_type": "code",
   "execution_count": 61,
   "metadata": {},
   "outputs": [],
   "source": [
    "from scipy import stats"
   ]
  },
  {
   "cell_type": "code",
   "execution_count": 32,
   "metadata": {},
   "outputs": [],
   "source": [
    "def transform_z(data):\n",
    "    return (data.rank() - data.rank().mean())/data.rank().std()"
   ]
  },
  {
   "cell_type": "code",
   "execution_count": 34,
   "metadata": {},
   "outputs": [],
   "source": [
    "d_gpoa = transform_z(GP/AT - (GP/AT).T.shift(5).T)\n",
    "d_roe = transform_z(PL/BE - (PL/BE).T.shift(5).T)\n",
    "d_roa = transform_z(PL/AT - (PL/AT).T.shift(5).T)\n",
    "d_cfoa = transform_z(((CFO - (PNE.T - PNE.T.shift(1)).T)/AT) - ((CFO - (PNE.T - PNE.T.shift(1)).T)/AT).T.shift(5).T)\n",
    "d_gmar = transform_z(GP/REV - (GP/REV).T.shift(5).T)"
   ]
  },
  {
   "cell_type": "code",
   "execution_count": 35,
   "metadata": {},
   "outputs": [],
   "source": [
    "G_raw = d_gpoa + d_roe + d_roa + d_cfoa + d_gmar"
   ]
  },
  {
   "cell_type": "code",
   "execution_count": 40,
   "metadata": {},
   "outputs": [],
   "source": [
    "G_score = transform_z(G_raw.iloc[:,-3:])"
   ]
  },
  {
   "cell_type": "code",
   "execution_count": 44,
   "metadata": {},
   "outputs": [
    {
     "name": "stderr",
     "output_type": "stream",
     "text": [
      "C:\\Users\\lyoo9\\anaconda3\\lib\\site-packages\\pandas\\core\\indexing.py:670: SettingWithCopyWarning: \n",
      "A value is trying to be set on a copy of a slice from a DataFrame\n",
      "\n",
      "See the caveats in the documentation: https://pandas.pydata.org/pandas-docs/stable/user_guide/indexing.html#returning-a-view-versus-a-copy\n",
      "  iloc._setitem_with_indexer(indexer, value)\n"
     ]
    },
    {
     "data": {
      "application/vnd.jupyter.widget-view+json": {
       "model_id": "18aef40d00824ec68819da17689f522f",
       "version_major": 2,
       "version_minor": 0
      },
      "text/plain": [
       "HBox(children=(HTML(value=''), FloatProgress(value=0.0, max=30.0), HTML(value='')))"
      ]
     },
     "metadata": {},
     "output_type": "display_data"
    },
    {
     "name": "stdout",
     "output_type": "stream",
     "text": [
      "\n"
     ]
    }
   ],
   "source": [
    "G_mask = get_mask(G_score, get_market_category(G_score), market_bp = 'KOSPI', breakpoint = [0.3, 0.7])\n",
    "G_factor = get_factor_on_date_by_mask2(G_mask, term = 'm', winsorize_limits = 0.01, weight = 'VW')"
   ]
  },
  {
   "cell_type": "code",
   "execution_count": 46,
   "metadata": {},
   "outputs": [
    {
     "data": {
      "text/plain": [
       "0    0.002482\n",
       "1    0.007044\n",
       "2    0.009441\n",
       "dtype: float64"
      ]
     },
     "execution_count": 46,
     "metadata": {},
     "output_type": "execute_result"
    }
   ],
   "source": [
    "G_factor.mean()"
   ]
  },
  {
   "cell_type": "code",
   "execution_count": 71,
   "metadata": {},
   "outputs": [
    {
     "data": {
      "text/plain": [
       "Ttest_1sampResult(statistic=0.9877405796616928, pvalue=0.33144975144781497)"
      ]
     },
     "execution_count": 71,
     "metadata": {},
     "output_type": "execute_result"
    }
   ],
   "source": [
    "stats.ttest_1samp(G_factor.iloc[:,2], 0)"
   ]
  },
  {
   "cell_type": "markdown",
   "metadata": {},
   "source": [
    "## Safety"
   ]
  },
  {
   "cell_type": "code",
   "execution_count": null,
   "metadata": {},
   "outputs": [],
   "source": [
    "lev = -transform_z(DEBT/BE)\n",
    "\n",
    "evol = -transform_z((PL/BE).rolling(5).std().iloc[:,5:])\n",
    "bab_safety = -transform_z(beta_sh.iloc[:,12:16])\n",
    "\n",
    "bab_safety.columns = lev.columns[5:]"
   ]
  },
  {
   "cell_type": "code",
   "execution_count": 158,
   "metadata": {},
   "outputs": [
    {
     "name": "stderr",
     "output_type": "stream",
     "text": [
      "C:\\Users\\lyoo9\\anaconda3\\lib\\site-packages\\pandas\\core\\dtypes\\cast.py:1229: VisibleDeprecationWarning: Creating an ndarray from ragged nested sequences (which is a list-or-tuple of lists-or-tuples-or ndarrays with different lengths or shapes) is deprecated. If you meant to do this, you must specify 'dtype=object' when creating the ndarray\n",
      "  v = np.array(v, copy=False)\n",
      "C:\\Users\\lyoo9\\anaconda3\\lib\\site-packages\\numpy\\core\\_asarray.py:83: VisibleDeprecationWarning: Creating an ndarray from ragged nested sequences (which is a list-or-tuple of lists-or-tuples-or ndarrays with different lengths or shapes) is deprecated. If you meant to do this, you must specify 'dtype=object' when creating the ndarray\n",
      "  return array(a, dtype, copy=False, order=order)\n"
     ]
    }
   ],
   "source": [
    "# altman z-score\n",
    "WC = STR_T + INV - STP_T\n",
    "RE = get_item_for_period('ifrs_RetainedEarnings', '20121231', '20201231')\n",
    "# altman_z = "
   ]
  },
  {
   "cell_type": "code",
   "execution_count": 162,
   "metadata": {},
   "outputs": [
    {
     "data": {
      "text/html": [
       "<div>\n",
       "<style scoped>\n",
       "    .dataframe tbody tr th:only-of-type {\n",
       "        vertical-align: middle;\n",
       "    }\n",
       "\n",
       "    .dataframe tbody tr th {\n",
       "        vertical-align: top;\n",
       "    }\n",
       "\n",
       "    .dataframe thead th {\n",
       "        text-align: right;\n",
       "    }\n",
       "</style>\n",
       "<table border=\"1\" class=\"dataframe\">\n",
       "  <thead>\n",
       "    <tr style=\"text-align: right;\">\n",
       "      <th></th>\n",
       "      <th>20121231</th>\n",
       "      <th>20131231</th>\n",
       "      <th>20141231</th>\n",
       "      <th>20151231</th>\n",
       "      <th>20161231</th>\n",
       "      <th>20171231</th>\n",
       "      <th>20181231</th>\n",
       "      <th>20191231</th>\n",
       "      <th>20201231</th>\n",
       "    </tr>\n",
       "    <tr>\n",
       "      <th>corp_code</th>\n",
       "      <th></th>\n",
       "      <th></th>\n",
       "      <th></th>\n",
       "      <th></th>\n",
       "      <th></th>\n",
       "      <th></th>\n",
       "      <th></th>\n",
       "      <th></th>\n",
       "      <th></th>\n",
       "    </tr>\n",
       "  </thead>\n",
       "  <tbody>\n",
       "    <tr>\n",
       "      <th>0</th>\n",
       "      <td>NaN</td>\n",
       "      <td>9.174183e+09</td>\n",
       "      <td>3.824892e+08</td>\n",
       "      <td>-1.255830e+10</td>\n",
       "      <td>-9.631245e+09</td>\n",
       "      <td>5.726453e+09</td>\n",
       "      <td>1.221648e+10</td>\n",
       "      <td>1.864302e+10</td>\n",
       "      <td>2.138170e+10</td>\n",
       "    </tr>\n",
       "    <tr>\n",
       "      <th>0</th>\n",
       "      <td>1.496624e+11</td>\n",
       "      <td>1.710472e+11</td>\n",
       "      <td>1.946992e+11</td>\n",
       "      <td>2.200558e+11</td>\n",
       "      <td>2.461470e+11</td>\n",
       "      <td>2.735007e+11</td>\n",
       "      <td>2.968882e+11</td>\n",
       "      <td>3.164564e+11</td>\n",
       "      <td>NaN</td>\n",
       "    </tr>\n",
       "    <tr>\n",
       "      <th>0</th>\n",
       "      <td>5.509698e+10</td>\n",
       "      <td>5.617982e+10</td>\n",
       "      <td>NaN</td>\n",
       "      <td>NaN</td>\n",
       "      <td>NaN</td>\n",
       "      <td>NaN</td>\n",
       "      <td>6.560183e+10</td>\n",
       "      <td>6.395732e+10</td>\n",
       "      <td>5.642970e+10</td>\n",
       "    </tr>\n",
       "    <tr>\n",
       "      <th>0</th>\n",
       "      <td>4.395180e+10</td>\n",
       "      <td>5.864348e+10</td>\n",
       "      <td>8.021218e+10</td>\n",
       "      <td>8.658887e+10</td>\n",
       "      <td>8.539205e+10</td>\n",
       "      <td>9.708067e+10</td>\n",
       "      <td>1.031438e+11</td>\n",
       "      <td>1.082249e+11</td>\n",
       "      <td>NaN</td>\n",
       "    </tr>\n",
       "    <tr>\n",
       "      <th>0</th>\n",
       "      <td>4.956368e+11</td>\n",
       "      <td>5.112534e+11</td>\n",
       "      <td>5.416453e+11</td>\n",
       "      <td>5.689783e+11</td>\n",
       "      <td>5.922439e+11</td>\n",
       "      <td>6.401730e+11</td>\n",
       "      <td>6.886999e+11</td>\n",
       "      <td>6.998749e+11</td>\n",
       "      <td>7.206361e+11</td>\n",
       "    </tr>\n",
       "    <tr>\n",
       "      <th>...</th>\n",
       "      <td>...</td>\n",
       "      <td>...</td>\n",
       "      <td>...</td>\n",
       "      <td>...</td>\n",
       "      <td>...</td>\n",
       "      <td>...</td>\n",
       "      <td>...</td>\n",
       "      <td>...</td>\n",
       "      <td>...</td>\n",
       "    </tr>\n",
       "    <tr>\n",
       "      <th>1</th>\n",
       "      <td>4.298559e+12</td>\n",
       "      <td>4.840682e+12</td>\n",
       "      <td>4.872463e+12</td>\n",
       "      <td>3.593524e+12</td>\n",
       "      <td>3.519571e+12</td>\n",
       "      <td>3.198433e+12</td>\n",
       "      <td>2.800081e+12</td>\n",
       "      <td>1.502204e+12</td>\n",
       "      <td>3.008527e+10</td>\n",
       "    </tr>\n",
       "    <tr>\n",
       "      <th>1</th>\n",
       "      <td>1.951647e+10</td>\n",
       "      <td>2.913010e+10</td>\n",
       "      <td>3.839561e+10</td>\n",
       "      <td>4.502772e+10</td>\n",
       "      <td>2.944346e+10</td>\n",
       "      <td>3.187266e+10</td>\n",
       "      <td>4.343728e+10</td>\n",
       "      <td>6.964641e+10</td>\n",
       "      <td>5.644525e+11</td>\n",
       "    </tr>\n",
       "    <tr>\n",
       "      <th>1</th>\n",
       "      <td>NaN</td>\n",
       "      <td>NaN</td>\n",
       "      <td>NaN</td>\n",
       "      <td>1.874512e+10</td>\n",
       "      <td>2.471432e+10</td>\n",
       "      <td>2.602897e+10</td>\n",
       "      <td>2.550687e+10</td>\n",
       "      <td>2.816136e+10</td>\n",
       "      <td>2.328300e+10</td>\n",
       "    </tr>\n",
       "    <tr>\n",
       "      <th>1</th>\n",
       "      <td>6.086477e+09</td>\n",
       "      <td>8.146808e+09</td>\n",
       "      <td>1.065581e+10</td>\n",
       "      <td>1.368795e+10</td>\n",
       "      <td>1.740216e+10</td>\n",
       "      <td>1.823059e+10</td>\n",
       "      <td>-1.417916e+09</td>\n",
       "      <td>-2.224149e+10</td>\n",
       "      <td>-5.195796e+10</td>\n",
       "    </tr>\n",
       "    <tr>\n",
       "      <th>1</th>\n",
       "      <td>NaN</td>\n",
       "      <td>NaN</td>\n",
       "      <td>NaN</td>\n",
       "      <td>NaN</td>\n",
       "      <td>NaN</td>\n",
       "      <td>NaN</td>\n",
       "      <td>5.569697e+10</td>\n",
       "      <td>9.299711e+10</td>\n",
       "      <td>1.356900e+11</td>\n",
       "    </tr>\n",
       "  </tbody>\n",
       "</table>\n",
       "<p>1806 rows × 9 columns</p>\n",
       "</div>"
      ],
      "text/plain": [
       "               20121231      20131231      20141231      20151231  \\\n",
       "corp_code                                                           \n",
       "0                   NaN  9.174183e+09  3.824892e+08 -1.255830e+10   \n",
       "0          1.496624e+11  1.710472e+11  1.946992e+11  2.200558e+11   \n",
       "0          5.509698e+10  5.617982e+10           NaN           NaN   \n",
       "0          4.395180e+10  5.864348e+10  8.021218e+10  8.658887e+10   \n",
       "0          4.956368e+11  5.112534e+11  5.416453e+11  5.689783e+11   \n",
       "...                 ...           ...           ...           ...   \n",
       "1          4.298559e+12  4.840682e+12  4.872463e+12  3.593524e+12   \n",
       "1          1.951647e+10  2.913010e+10  3.839561e+10  4.502772e+10   \n",
       "1                   NaN           NaN           NaN  1.874512e+10   \n",
       "1          6.086477e+09  8.146808e+09  1.065581e+10  1.368795e+10   \n",
       "1                   NaN           NaN           NaN           NaN   \n",
       "\n",
       "               20161231      20171231      20181231      20191231  \\\n",
       "corp_code                                                           \n",
       "0         -9.631245e+09  5.726453e+09  1.221648e+10  1.864302e+10   \n",
       "0          2.461470e+11  2.735007e+11  2.968882e+11  3.164564e+11   \n",
       "0                   NaN           NaN  6.560183e+10  6.395732e+10   \n",
       "0          8.539205e+10  9.708067e+10  1.031438e+11  1.082249e+11   \n",
       "0          5.922439e+11  6.401730e+11  6.886999e+11  6.998749e+11   \n",
       "...                 ...           ...           ...           ...   \n",
       "1          3.519571e+12  3.198433e+12  2.800081e+12  1.502204e+12   \n",
       "1          2.944346e+10  3.187266e+10  4.343728e+10  6.964641e+10   \n",
       "1          2.471432e+10  2.602897e+10  2.550687e+10  2.816136e+10   \n",
       "1          1.740216e+10  1.823059e+10 -1.417916e+09 -2.224149e+10   \n",
       "1                   NaN           NaN  5.569697e+10  9.299711e+10   \n",
       "\n",
       "               20201231  \n",
       "corp_code                \n",
       "0          2.138170e+10  \n",
       "0                   NaN  \n",
       "0          5.642970e+10  \n",
       "0                   NaN  \n",
       "0          7.206361e+11  \n",
       "...                 ...  \n",
       "1          3.008527e+10  \n",
       "1          5.644525e+11  \n",
       "1          2.328300e+10  \n",
       "1         -5.195796e+10  \n",
       "1          1.356900e+11  \n",
       "\n",
       "[1806 rows x 9 columns]"
      ]
     },
     "execution_count": 162,
     "metadata": {},
     "output_type": "execute_result"
    }
   ],
   "source": [
    "RE"
   ]
  },
  {
   "cell_type": "code",
   "execution_count": 134,
   "metadata": {},
   "outputs": [],
   "source": [
    "S_raw = lev + evol + bab_safety\n",
    "S_score = transform_z(S_raw)\n",
    "\n",
    "S_score = S_score.loc[lev.index]"
   ]
  },
  {
   "cell_type": "code",
   "execution_count": 151,
   "metadata": {},
   "outputs": [
    {
     "name": "stderr",
     "output_type": "stream",
     "text": [
      "C:\\Users\\lyoo9\\anaconda3\\lib\\site-packages\\pandas\\core\\indexing.py:670: SettingWithCopyWarning: \n",
      "A value is trying to be set on a copy of a slice from a DataFrame\n",
      "\n",
      "See the caveats in the documentation: https://pandas.pydata.org/pandas-docs/stable/user_guide/indexing.html#returning-a-view-versus-a-copy\n",
      "  iloc._setitem_with_indexer(indexer, value)\n"
     ]
    },
    {
     "data": {
      "application/vnd.jupyter.widget-view+json": {
       "model_id": "d216739613904bad8c3ca6d423dd84f5",
       "version_major": 2,
       "version_minor": 0
      },
      "text/plain": [
       "HBox(children=(HTML(value=''), FloatProgress(value=0.0, max=42.0), HTML(value='')))"
      ]
     },
     "metadata": {},
     "output_type": "display_data"
    },
    {
     "name": "stdout",
     "output_type": "stream",
     "text": [
      "\n"
     ]
    }
   ],
   "source": [
    "S_mask = get_mask(S_score.iloc[:,5:], get_market_category(S_score.iloc[:,5:]), market_bp = 'KOSPI', breakpoint = [0.3, 0.7])\n",
    "S_factor = get_factor_on_date_by_mask2(S_mask, term = 'm', winsorize_limits = 0.01, weight = 'VW')"
   ]
  },
  {
   "cell_type": "code",
   "execution_count": 152,
   "metadata": {},
   "outputs": [
    {
     "data": {
      "text/plain": [
       "0    0.001848\n",
       "1    0.001884\n",
       "2    0.000881\n",
       "dtype: float64"
      ]
     },
     "execution_count": 152,
     "metadata": {},
     "output_type": "execute_result"
    }
   ],
   "source": [
    "S_factor.mean()"
   ]
  }
 ],
 "metadata": {
  "kernelspec": {
   "display_name": "Python 3",
   "language": "python",
   "name": "python3"
  },
  "language_info": {
   "codemirror_mode": {
    "name": "ipython",
    "version": 3
   },
   "file_extension": ".py",
   "mimetype": "text/x-python",
   "name": "python",
   "nbconvert_exporter": "python",
   "pygments_lexer": "ipython3",
   "version": "3.8.5"
  }
 },
 "nbformat": 4,
 "nbformat_minor": 4
}
